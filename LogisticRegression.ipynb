{
 "cells": [
  {
   "cell_type": "code",
   "execution_count": 8,
   "metadata": {},
   "outputs": [],
   "source": [
    "import pandas as pd\n",
    "import numpy as np\n",
    "from sklearn import preprocessing, pipeline\n",
    "import matplotlib.pyplot as plt \n",
    "plt.rc(\"font\", size=14)\n",
    "from sklearn.linear_model import LogisticRegression, SGDClassifier\n",
    "from sklearn.ensemble import RandomForestClassifier\n",
    "from sklearn import model_selection, metrics\n",
    "import seaborn as sns\n",
    "sns.set(style=\"white\")\n",
    "sns.set(style=\"whitegrid\", color_codes=True)"
   ]
  },
  {
   "cell_type": "code",
   "execution_count": 9,
   "metadata": {},
   "outputs": [
    {
     "data": {
      "text/html": [
       "<div>\n",
       "<style scoped>\n",
       "    .dataframe tbody tr th:only-of-type {\n",
       "        vertical-align: middle;\n",
       "    }\n",
       "\n",
       "    .dataframe tbody tr th {\n",
       "        vertical-align: top;\n",
       "    }\n",
       "\n",
       "    .dataframe thead th {\n",
       "        text-align: right;\n",
       "    }\n",
       "</style>\n",
       "<table border=\"1\" class=\"dataframe\">\n",
       "  <thead>\n",
       "    <tr style=\"text-align: right;\">\n",
       "      <th></th>\n",
       "      <th>X5720</th>\n",
       "      <th>X466</th>\n",
       "      <th>X6009</th>\n",
       "      <th>X2309</th>\n",
       "      <th>X387</th>\n",
       "      <th>X3553</th>\n",
       "      <th>X427</th>\n",
       "      <th>X5898</th>\n",
       "      <th>X23365</th>\n",
       "      <th>X6657</th>\n",
       "      <th>...</th>\n",
       "      <th>X9738</th>\n",
       "      <th>X6793</th>\n",
       "      <th>X7358</th>\n",
       "      <th>X58472</th>\n",
       "      <th>X50865</th>\n",
       "      <th>X23200</th>\n",
       "      <th>X51293</th>\n",
       "      <th>X10962</th>\n",
       "      <th>X10153</th>\n",
       "      <th>X874</th>\n",
       "    </tr>\n",
       "    <tr>\n",
       "      <th>sample_id</th>\n",
       "      <th></th>\n",
       "      <th></th>\n",
       "      <th></th>\n",
       "      <th></th>\n",
       "      <th></th>\n",
       "      <th></th>\n",
       "      <th></th>\n",
       "      <th></th>\n",
       "      <th></th>\n",
       "      <th></th>\n",
       "      <th></th>\n",
       "      <th></th>\n",
       "      <th></th>\n",
       "      <th></th>\n",
       "      <th></th>\n",
       "      <th></th>\n",
       "      <th></th>\n",
       "      <th></th>\n",
       "      <th></th>\n",
       "      <th></th>\n",
       "      <th></th>\n",
       "    </tr>\n",
       "  </thead>\n",
       "  <tbody>\n",
       "    <tr>\n",
       "      <th>BRD-A07106394:QIVBCDIJIAJPQS-UHFFFAOYSA-N:20 µM:24 h:HA1E_HA1E</th>\n",
       "      <td>0.572005</td>\n",
       "      <td>-0.215412</td>\n",
       "      <td>0.173019</td>\n",
       "      <td>0.489742</td>\n",
       "      <td>0.420306</td>\n",
       "      <td>-0.339560</td>\n",
       "      <td>-0.052438</td>\n",
       "      <td>-0.278286</td>\n",
       "      <td>0.062474</td>\n",
       "      <td>-0.595485</td>\n",
       "      <td>...</td>\n",
       "      <td>0.214504</td>\n",
       "      <td>-1.008332</td>\n",
       "      <td>-0.932064</td>\n",
       "      <td>0.196377</td>\n",
       "      <td>0.388575</td>\n",
       "      <td>-0.675791</td>\n",
       "      <td>0.237582</td>\n",
       "      <td>0.077460</td>\n",
       "      <td>0.445300</td>\n",
       "      <td>0.430141</td>\n",
       "    </tr>\n",
       "    <tr>\n",
       "      <th>BRD-A17655518:HEFNNWSXXWATRW-UHFFFAOYSA-N:10 µM:24 h:A375_A549_HA1E_HT29_MCF7_PC3_VCAP_MCF7_PC3_VCAP</th>\n",
       "      <td>0.156599</td>\n",
       "      <td>-0.205048</td>\n",
       "      <td>0.022631</td>\n",
       "      <td>0.266661</td>\n",
       "      <td>-0.024832</td>\n",
       "      <td>0.242809</td>\n",
       "      <td>-0.038130</td>\n",
       "      <td>-0.007111</td>\n",
       "      <td>0.194066</td>\n",
       "      <td>-0.002117</td>\n",
       "      <td>...</td>\n",
       "      <td>0.722045</td>\n",
       "      <td>0.302664</td>\n",
       "      <td>-0.190207</td>\n",
       "      <td>-0.063637</td>\n",
       "      <td>-0.233029</td>\n",
       "      <td>-0.346681</td>\n",
       "      <td>0.019575</td>\n",
       "      <td>0.062390</td>\n",
       "      <td>0.088810</td>\n",
       "      <td>0.232947</td>\n",
       "    </tr>\n",
       "    <tr>\n",
       "      <th>BRD-A17846016:GLEVLJDDWXEYCO-UHFFFAOYSA-N:10 µM:24 h:MCF7_PC3</th>\n",
       "      <td>0.144802</td>\n",
       "      <td>-1.361585</td>\n",
       "      <td>0.274811</td>\n",
       "      <td>0.320524</td>\n",
       "      <td>0.294310</td>\n",
       "      <td>0.437889</td>\n",
       "      <td>-0.410621</td>\n",
       "      <td>-1.944621</td>\n",
       "      <td>1.114904</td>\n",
       "      <td>0.391805</td>\n",
       "      <td>...</td>\n",
       "      <td>-0.814418</td>\n",
       "      <td>0.090174</td>\n",
       "      <td>-1.075967</td>\n",
       "      <td>0.063934</td>\n",
       "      <td>-0.699627</td>\n",
       "      <td>0.559719</td>\n",
       "      <td>0.558929</td>\n",
       "      <td>-0.233413</td>\n",
       "      <td>0.507622</td>\n",
       "      <td>0.170530</td>\n",
       "    </tr>\n",
       "    <tr>\n",
       "      <th>BRD-A19037878:RTKIYFITIVXBLE-WKWSCTOISA-N:1.11 µM:24 h:A375_A549_HA1E_HCC515_HEPG2_HT29_MCF7_PC3</th>\n",
       "      <td>0.571052</td>\n",
       "      <td>-2.094509</td>\n",
       "      <td>-1.362594</td>\n",
       "      <td>1.188793</td>\n",
       "      <td>0.796376</td>\n",
       "      <td>0.523494</td>\n",
       "      <td>0.119419</td>\n",
       "      <td>1.646214</td>\n",
       "      <td>1.405747</td>\n",
       "      <td>1.342340</td>\n",
       "      <td>...</td>\n",
       "      <td>1.620770</td>\n",
       "      <td>1.148686</td>\n",
       "      <td>-4.769783</td>\n",
       "      <td>-0.598601</td>\n",
       "      <td>2.829943</td>\n",
       "      <td>2.217611</td>\n",
       "      <td>-0.849854</td>\n",
       "      <td>-1.417561</td>\n",
       "      <td>2.965447</td>\n",
       "      <td>-3.550254</td>\n",
       "    </tr>\n",
       "    <tr>\n",
       "      <th>BRD-A35258977:FBPFZTCFMRRESA-UHFFFAOYSA-N:20 µM:24 h:HA1E_HA1E</th>\n",
       "      <td>0.519844</td>\n",
       "      <td>0.279864</td>\n",
       "      <td>-0.065269</td>\n",
       "      <td>-0.025814</td>\n",
       "      <td>0.543482</td>\n",
       "      <td>0.184110</td>\n",
       "      <td>0.275908</td>\n",
       "      <td>0.320203</td>\n",
       "      <td>-0.121650</td>\n",
       "      <td>-0.446459</td>\n",
       "      <td>...</td>\n",
       "      <td>0.196816</td>\n",
       "      <td>0.605350</td>\n",
       "      <td>-0.261210</td>\n",
       "      <td>0.428848</td>\n",
       "      <td>0.486934</td>\n",
       "      <td>0.002326</td>\n",
       "      <td>0.151491</td>\n",
       "      <td>0.228473</td>\n",
       "      <td>-0.580365</td>\n",
       "      <td>0.917084</td>\n",
       "    </tr>\n",
       "  </tbody>\n",
       "</table>\n",
       "<p>5 rows × 978 columns</p>\n",
       "</div>"
      ],
      "text/plain": [
       "                                                       X5720      X466  \\\n",
       "sample_id                                                                \n",
       "BRD-A07106394:QIVBCDIJIAJPQS-UHFFFAOYSA-N:20 µM...  0.572005 -0.215412   \n",
       "BRD-A17655518:HEFNNWSXXWATRW-UHFFFAOYSA-N:10 µM...  0.156599 -0.205048   \n",
       "BRD-A17846016:GLEVLJDDWXEYCO-UHFFFAOYSA-N:10 µM...  0.144802 -1.361585   \n",
       "BRD-A19037878:RTKIYFITIVXBLE-WKWSCTOISA-N:1.11 ...  0.571052 -2.094509   \n",
       "BRD-A35258977:FBPFZTCFMRRESA-UHFFFAOYSA-N:20 µM...  0.519844  0.279864   \n",
       "\n",
       "                                                       X6009     X2309  \\\n",
       "sample_id                                                                \n",
       "BRD-A07106394:QIVBCDIJIAJPQS-UHFFFAOYSA-N:20 µM...  0.173019  0.489742   \n",
       "BRD-A17655518:HEFNNWSXXWATRW-UHFFFAOYSA-N:10 µM...  0.022631  0.266661   \n",
       "BRD-A17846016:GLEVLJDDWXEYCO-UHFFFAOYSA-N:10 µM...  0.274811  0.320524   \n",
       "BRD-A19037878:RTKIYFITIVXBLE-WKWSCTOISA-N:1.11 ... -1.362594  1.188793   \n",
       "BRD-A35258977:FBPFZTCFMRRESA-UHFFFAOYSA-N:20 µM... -0.065269 -0.025814   \n",
       "\n",
       "                                                        X387     X3553  \\\n",
       "sample_id                                                                \n",
       "BRD-A07106394:QIVBCDIJIAJPQS-UHFFFAOYSA-N:20 µM...  0.420306 -0.339560   \n",
       "BRD-A17655518:HEFNNWSXXWATRW-UHFFFAOYSA-N:10 µM... -0.024832  0.242809   \n",
       "BRD-A17846016:GLEVLJDDWXEYCO-UHFFFAOYSA-N:10 µM...  0.294310  0.437889   \n",
       "BRD-A19037878:RTKIYFITIVXBLE-WKWSCTOISA-N:1.11 ...  0.796376  0.523494   \n",
       "BRD-A35258977:FBPFZTCFMRRESA-UHFFFAOYSA-N:20 µM...  0.543482  0.184110   \n",
       "\n",
       "                                                        X427     X5898  \\\n",
       "sample_id                                                                \n",
       "BRD-A07106394:QIVBCDIJIAJPQS-UHFFFAOYSA-N:20 µM... -0.052438 -0.278286   \n",
       "BRD-A17655518:HEFNNWSXXWATRW-UHFFFAOYSA-N:10 µM... -0.038130 -0.007111   \n",
       "BRD-A17846016:GLEVLJDDWXEYCO-UHFFFAOYSA-N:10 µM... -0.410621 -1.944621   \n",
       "BRD-A19037878:RTKIYFITIVXBLE-WKWSCTOISA-N:1.11 ...  0.119419  1.646214   \n",
       "BRD-A35258977:FBPFZTCFMRRESA-UHFFFAOYSA-N:20 µM...  0.275908  0.320203   \n",
       "\n",
       "                                                      X23365     X6657  ...  \\\n",
       "sample_id                                                               ...   \n",
       "BRD-A07106394:QIVBCDIJIAJPQS-UHFFFAOYSA-N:20 µM...  0.062474 -0.595485  ...   \n",
       "BRD-A17655518:HEFNNWSXXWATRW-UHFFFAOYSA-N:10 µM...  0.194066 -0.002117  ...   \n",
       "BRD-A17846016:GLEVLJDDWXEYCO-UHFFFAOYSA-N:10 µM...  1.114904  0.391805  ...   \n",
       "BRD-A19037878:RTKIYFITIVXBLE-WKWSCTOISA-N:1.11 ...  1.405747  1.342340  ...   \n",
       "BRD-A35258977:FBPFZTCFMRRESA-UHFFFAOYSA-N:20 µM... -0.121650 -0.446459  ...   \n",
       "\n",
       "                                                       X9738     X6793  \\\n",
       "sample_id                                                                \n",
       "BRD-A07106394:QIVBCDIJIAJPQS-UHFFFAOYSA-N:20 µM...  0.214504 -1.008332   \n",
       "BRD-A17655518:HEFNNWSXXWATRW-UHFFFAOYSA-N:10 µM...  0.722045  0.302664   \n",
       "BRD-A17846016:GLEVLJDDWXEYCO-UHFFFAOYSA-N:10 µM... -0.814418  0.090174   \n",
       "BRD-A19037878:RTKIYFITIVXBLE-WKWSCTOISA-N:1.11 ...  1.620770  1.148686   \n",
       "BRD-A35258977:FBPFZTCFMRRESA-UHFFFAOYSA-N:20 µM...  0.196816  0.605350   \n",
       "\n",
       "                                                       X7358    X58472  \\\n",
       "sample_id                                                                \n",
       "BRD-A07106394:QIVBCDIJIAJPQS-UHFFFAOYSA-N:20 µM... -0.932064  0.196377   \n",
       "BRD-A17655518:HEFNNWSXXWATRW-UHFFFAOYSA-N:10 µM... -0.190207 -0.063637   \n",
       "BRD-A17846016:GLEVLJDDWXEYCO-UHFFFAOYSA-N:10 µM... -1.075967  0.063934   \n",
       "BRD-A19037878:RTKIYFITIVXBLE-WKWSCTOISA-N:1.11 ... -4.769783 -0.598601   \n",
       "BRD-A35258977:FBPFZTCFMRRESA-UHFFFAOYSA-N:20 µM... -0.261210  0.428848   \n",
       "\n",
       "                                                      X50865    X23200  \\\n",
       "sample_id                                                                \n",
       "BRD-A07106394:QIVBCDIJIAJPQS-UHFFFAOYSA-N:20 µM...  0.388575 -0.675791   \n",
       "BRD-A17655518:HEFNNWSXXWATRW-UHFFFAOYSA-N:10 µM... -0.233029 -0.346681   \n",
       "BRD-A17846016:GLEVLJDDWXEYCO-UHFFFAOYSA-N:10 µM... -0.699627  0.559719   \n",
       "BRD-A19037878:RTKIYFITIVXBLE-WKWSCTOISA-N:1.11 ...  2.829943  2.217611   \n",
       "BRD-A35258977:FBPFZTCFMRRESA-UHFFFAOYSA-N:20 µM...  0.486934  0.002326   \n",
       "\n",
       "                                                      X51293    X10962  \\\n",
       "sample_id                                                                \n",
       "BRD-A07106394:QIVBCDIJIAJPQS-UHFFFAOYSA-N:20 µM...  0.237582  0.077460   \n",
       "BRD-A17655518:HEFNNWSXXWATRW-UHFFFAOYSA-N:10 µM...  0.019575  0.062390   \n",
       "BRD-A17846016:GLEVLJDDWXEYCO-UHFFFAOYSA-N:10 µM...  0.558929 -0.233413   \n",
       "BRD-A19037878:RTKIYFITIVXBLE-WKWSCTOISA-N:1.11 ... -0.849854 -1.417561   \n",
       "BRD-A35258977:FBPFZTCFMRRESA-UHFFFAOYSA-N:20 µM...  0.151491  0.228473   \n",
       "\n",
       "                                                      X10153      X874  \n",
       "sample_id                                                               \n",
       "BRD-A07106394:QIVBCDIJIAJPQS-UHFFFAOYSA-N:20 µM...  0.445300  0.430141  \n",
       "BRD-A17655518:HEFNNWSXXWATRW-UHFFFAOYSA-N:10 µM...  0.088810  0.232947  \n",
       "BRD-A17846016:GLEVLJDDWXEYCO-UHFFFAOYSA-N:10 µM...  0.507622  0.170530  \n",
       "BRD-A19037878:RTKIYFITIVXBLE-WKWSCTOISA-N:1.11 ...  2.965447 -3.550254  \n",
       "BRD-A35258977:FBPFZTCFMRRESA-UHFFFAOYSA-N:20 µM... -0.580365  0.917084  \n",
       "\n",
       "[5 rows x 978 columns]"
      ]
     },
     "execution_count": 9,
     "metadata": {},
     "output_type": "execute_result"
    }
   ],
   "source": [
    "trainingdata = pd.read_csv(\"trainingtable.csv\", header=0, index_col=0)\n",
    "trainingdata.head()"
   ]
  },
  {
   "cell_type": "code",
   "execution_count": 10,
   "metadata": {},
   "outputs": [],
   "source": [
    "X = trainingdata\n",
    "y = np.append(np.repeat(1, 96), np.repeat(0, 96))"
   ]
  },
  {
   "cell_type": "code",
   "execution_count": null,
   "metadata": {},
   "outputs": [],
   "source": [
    "# this will take some time!!!\n",
    "X.plot.hist()"
   ]
  },
  {
   "cell_type": "code",
   "execution_count": 31,
   "metadata": {},
   "outputs": [
    {
     "data": {
      "text/plain": [
       "(192, 978)"
      ]
     },
     "execution_count": 31,
     "metadata": {},
     "output_type": "execute_result"
    }
   ],
   "source": [
    "X.shape"
   ]
  },
  {
   "cell_type": "code",
   "execution_count": null,
   "metadata": {},
   "outputs": [],
   "source": []
  },
  {
   "cell_type": "markdown",
   "metadata": {},
   "source": [
    "# Quick and dirty solution\n",
    "(short and sweet)"
   ]
  },
  {
   "cell_type": "code",
   "execution_count": 11,
   "metadata": {},
   "outputs": [],
   "source": [
    "X_train, X_test, y_train, y_test = model_selection.train_test_split(X, y, test_size=0.3, random_state=1, stratify=y)"
   ]
  },
  {
   "cell_type": "code",
   "execution_count": 42,
   "metadata": {},
   "outputs": [],
   "source": [
    "model = LogisticRegression(random_state = 0).fit(X_train, y_train)"
   ]
  },
  {
   "cell_type": "code",
   "execution_count": 51,
   "metadata": {},
   "outputs": [],
   "source": [
    "predictions = model.predict(X_test)\n",
    "predictions_probas = model.predict_proba(X_test)\n",
    "probas = []\n",
    "for i in range(len(predictions_probas)):\n",
    "    probas.append(predictions_probas[i][1])"
   ]
  },
  {
   "cell_type": "code",
   "execution_count": null,
   "metadata": {},
   "outputs": [],
   "source": [
    "print(\"Accuracy:\", metrics.accuracy_score(y_test, predictions))\n",
    "print(\"Precision:\", metrics.precision_score(y_test, predictions))\n",
    "print(\"Recall:\", metrics.recall_score(y_test, predictions))\n",
    "metrics.plot_roc_curve(model, X_test, y_test)\n",
    "metrics.plot_precision_recall_curve(model, X_test, y_test)"
   ]
  },
  {
   "cell_type": "markdown",
   "metadata": {},
   "source": [
    "## Grid optimization for SGDClassifier"
   ]
  },
  {
   "cell_type": "code",
   "execution_count": 5,
   "metadata": {},
   "outputs": [],
   "source": [
    "X_train, X_test, y_train, y_test = model_selection.train_test_split(X, y, test_size=0.3, random_state=1, stratify=y)"
   ]
  },
  {
   "cell_type": "code",
   "execution_count": 35,
   "metadata": {},
   "outputs": [],
   "source": [
    "clf = SGDClassifier(random_state = 0, penalty=\"elasticnet\")\n",
    "#classifier.get_params().keys()"
   ]
  },
  {
   "cell_type": "code",
   "execution_count": 36,
   "metadata": {},
   "outputs": [],
   "source": [
    "classifier = pipeline.Pipeline(steps=[\n",
    "    (\"scaling\", preprocessing.StandardScaler()),\n",
    "    (\"classifier\", clf)\n",
    "])"
   ]
  },
  {
   "cell_type": "code",
   "execution_count": 122,
   "metadata": {
    "collapsed": true,
    "jupyter": {
     "outputs_hidden": true
    }
   },
   "outputs": [
    {
     "data": {
      "text/plain": [
       "dict_keys(['memory', 'steps', 'verbose', 'scaling', 'classifying', 'scaling__copy', 'scaling__with_mean', 'scaling__with_std', 'classifying__alpha', 'classifying__average', 'classifying__class_weight', 'classifying__early_stopping', 'classifying__epsilon', 'classifying__eta0', 'classifying__fit_intercept', 'classifying__l1_ratio', 'classifying__learning_rate', 'classifying__loss', 'classifying__max_iter', 'classifying__n_iter_no_change', 'classifying__n_jobs', 'classifying__penalty', 'classifying__power_t', 'classifying__random_state', 'classifying__shuffle', 'classifying__tol', 'classifying__validation_fraction', 'classifying__verbose', 'classifying__warm_start'])"
      ]
     },
     "execution_count": 122,
     "metadata": {},
     "output_type": "execute_result"
    }
   ],
   "source": [
    "classifier.get_params().keys()"
   ]
  },
  {
   "cell_type": "code",
   "execution_count": 37,
   "metadata": {},
   "outputs": [],
   "source": [
    "paramgrid = {\n",
    "    \"classifier__loss\" : [\"squared_hinge\", \"hinge\", \"log\", \"modified_huber\"],\n",
    "    \"classifier__alpha\" : np.logspace(-6, 0, 5),\n",
    "    \"classifier__l1_ratio\" : np.linspace(0.0001, 1, 5)\n",
    "}"
   ]
  },
  {
   "cell_type": "code",
   "execution_count": 38,
   "metadata": {},
   "outputs": [],
   "source": [
    "#cv_strategy = model_selection.StratifiedKFold(n_splits = 10, shuffle = True, random_state = 1)\n",
    "cv_strategy = model_selection.StratifiedShuffleSplit(n_splits=10, test_size=0.2, random_state=0)\n",
    "scorer = metrics.make_scorer(metrics.roc_auc_score, needs_threshold = True)"
   ]
  },
  {
   "cell_type": "code",
   "execution_count": 39,
   "metadata": {},
   "outputs": [],
   "source": [
    "grid_cv = model_selection.GridSearchCV(classifier, paramgrid, scoring = scorer, cv = cv_strategy)"
   ]
  },
  {
   "cell_type": "code",
   "execution_count": 40,
   "metadata": {},
   "outputs": [
    {
     "name": "stderr",
     "output_type": "stream",
     "text": [
      "D:\\Programs\\Science\\Anaconda\\Anaconda\\lib\\site-packages\\sklearn\\linear_model\\_stochastic_gradient.py:573: ConvergenceWarning:\n",
      "\n",
      "Maximum number of iteration reached before convergence. Consider increasing max_iter to improve the fit.\n",
      "\n",
      "D:\\Programs\\Science\\Anaconda\\Anaconda\\lib\\site-packages\\sklearn\\linear_model\\_stochastic_gradient.py:573: ConvergenceWarning:\n",
      "\n",
      "Maximum number of iteration reached before convergence. Consider increasing max_iter to improve the fit.\n",
      "\n",
      "D:\\Programs\\Science\\Anaconda\\Anaconda\\lib\\site-packages\\sklearn\\linear_model\\_stochastic_gradient.py:573: ConvergenceWarning:\n",
      "\n",
      "Maximum number of iteration reached before convergence. Consider increasing max_iter to improve the fit.\n",
      "\n",
      "D:\\Programs\\Science\\Anaconda\\Anaconda\\lib\\site-packages\\sklearn\\linear_model\\_stochastic_gradient.py:573: ConvergenceWarning:\n",
      "\n",
      "Maximum number of iteration reached before convergence. Consider increasing max_iter to improve the fit.\n",
      "\n",
      "D:\\Programs\\Science\\Anaconda\\Anaconda\\lib\\site-packages\\sklearn\\linear_model\\_stochastic_gradient.py:573: ConvergenceWarning:\n",
      "\n",
      "Maximum number of iteration reached before convergence. Consider increasing max_iter to improve the fit.\n",
      "\n",
      "D:\\Programs\\Science\\Anaconda\\Anaconda\\lib\\site-packages\\sklearn\\linear_model\\_stochastic_gradient.py:573: ConvergenceWarning:\n",
      "\n",
      "Maximum number of iteration reached before convergence. Consider increasing max_iter to improve the fit.\n",
      "\n"
     ]
    },
    {
     "data": {
      "text/plain": [
       "GridSearchCV(cv=StratifiedShuffleSplit(n_splits=10, random_state=0, test_size=0.2,\n",
       "            train_size=None),\n",
       "             estimator=Pipeline(steps=[('scaling', StandardScaler()),\n",
       "                                       ('classifier',\n",
       "                                        SGDClassifier(penalty='elasticnet',\n",
       "                                                      random_state=0))]),\n",
       "             param_grid={'classifier__alpha': array([1.00000000e-06, 3.16227766e-05, 1.00000000e-03, 3.16227766e-02,\n",
       "       1.00000000e+00]),\n",
       "                         'classifier__l1_ratio': array([1.00000e-04, 2.50075e-01, 5.00050e-01, 7.50025e-01, 1.00000e+00]),\n",
       "                         'classifier__loss': ['squared_hinge', 'hinge', 'log',\n",
       "                                              'modified_huber']},\n",
       "             scoring=make_scorer(roc_auc_score, needs_threshold=True))"
      ]
     },
     "execution_count": 40,
     "metadata": {},
     "output_type": "execute_result"
    }
   ],
   "source": [
    "grid_cv.fit(X_train, y_train)"
   ]
  },
  {
   "cell_type": "code",
   "execution_count": 140,
   "metadata": {},
   "outputs": [
    {
     "data": {
      "text/plain": [
       "Pipeline(steps=[('scaling', StandardScaler()),\n",
       "                ('classifier',\n",
       "                 SGDClassifier(alpha=0.21544346900318823, l1_ratio=0.5556,\n",
       "                               penalty='elasticnet', random_state=0))])"
      ]
     },
     "execution_count": 140,
     "metadata": {},
     "output_type": "execute_result"
    }
   ],
   "source": [
    "grid_cv.best_estimator_"
   ]
  },
  {
   "cell_type": "code",
   "execution_count": 41,
   "metadata": {},
   "outputs": [
    {
     "name": "stdout",
     "output_type": "stream",
     "text": [
      "0.6164835164835165\n",
      "{'classifier__alpha': 0.03162277660168379, 'classifier__l1_ratio': 0.250075, 'classifier__loss': 'hinge'}\n"
     ]
    }
   ],
   "source": [
    "print(grid_cv.best_score_)\n",
    "print(grid_cv.best_params_)"
   ]
  },
  {
   "cell_type": "code",
   "execution_count": null,
   "metadata": {},
   "outputs": [],
   "source": [
    "pd.DataFrame(grid_cv.cv_results_)"
   ]
  },
  {
   "cell_type": "code",
   "execution_count": 42,
   "metadata": {},
   "outputs": [
    {
     "data": {
      "text/html": [
       "<div>\n",
       "<style scoped>\n",
       "    .dataframe tbody tr th:only-of-type {\n",
       "        vertical-align: middle;\n",
       "    }\n",
       "\n",
       "    .dataframe tbody tr th {\n",
       "        vertical-align: top;\n",
       "    }\n",
       "\n",
       "    .dataframe thead th {\n",
       "        text-align: right;\n",
       "    }\n",
       "</style>\n",
       "<table border=\"1\" class=\"dataframe\">\n",
       "  <thead>\n",
       "    <tr style=\"text-align: right;\">\n",
       "      <th></th>\n",
       "      <th>mean_fit_time</th>\n",
       "      <th>std_fit_time</th>\n",
       "      <th>mean_score_time</th>\n",
       "      <th>std_score_time</th>\n",
       "      <th>split0_test_score</th>\n",
       "      <th>split1_test_score</th>\n",
       "      <th>split2_test_score</th>\n",
       "      <th>split3_test_score</th>\n",
       "      <th>split4_test_score</th>\n",
       "      <th>split5_test_score</th>\n",
       "      <th>split6_test_score</th>\n",
       "      <th>split7_test_score</th>\n",
       "      <th>split8_test_score</th>\n",
       "      <th>split9_test_score</th>\n",
       "      <th>mean_test_score</th>\n",
       "      <th>std_test_score</th>\n",
       "      <th>rank_test_score</th>\n",
       "    </tr>\n",
       "    <tr>\n",
       "      <th>param_classifier__loss</th>\n",
       "      <th></th>\n",
       "      <th></th>\n",
       "      <th></th>\n",
       "      <th></th>\n",
       "      <th></th>\n",
       "      <th></th>\n",
       "      <th></th>\n",
       "      <th></th>\n",
       "      <th></th>\n",
       "      <th></th>\n",
       "      <th></th>\n",
       "      <th></th>\n",
       "      <th></th>\n",
       "      <th></th>\n",
       "      <th></th>\n",
       "      <th></th>\n",
       "      <th></th>\n",
       "    </tr>\n",
       "  </thead>\n",
       "  <tbody>\n",
       "    <tr>\n",
       "      <th>hinge</th>\n",
       "      <td>0.051943</td>\n",
       "      <td>0.007280</td>\n",
       "      <td>0.018741</td>\n",
       "      <td>0.005244</td>\n",
       "      <td>0.563516</td>\n",
       "      <td>0.577582</td>\n",
       "      <td>0.620659</td>\n",
       "      <td>0.594945</td>\n",
       "      <td>0.487253</td>\n",
       "      <td>0.665055</td>\n",
       "      <td>0.585275</td>\n",
       "      <td>0.525055</td>\n",
       "      <td>0.605055</td>\n",
       "      <td>0.486593</td>\n",
       "      <td>0.571099</td>\n",
       "      <td>0.069868</td>\n",
       "      <td>42.00</td>\n",
       "    </tr>\n",
       "    <tr>\n",
       "      <th>log</th>\n",
       "      <td>0.053685</td>\n",
       "      <td>0.007228</td>\n",
       "      <td>0.017585</td>\n",
       "      <td>0.003304</td>\n",
       "      <td>0.528571</td>\n",
       "      <td>0.587033</td>\n",
       "      <td>0.606374</td>\n",
       "      <td>0.600659</td>\n",
       "      <td>0.546593</td>\n",
       "      <td>0.650330</td>\n",
       "      <td>0.544835</td>\n",
       "      <td>0.521099</td>\n",
       "      <td>0.569451</td>\n",
       "      <td>0.504615</td>\n",
       "      <td>0.565956</td>\n",
       "      <td>0.060798</td>\n",
       "      <td>48.40</td>\n",
       "    </tr>\n",
       "    <tr>\n",
       "      <th>modified_huber</th>\n",
       "      <td>0.052856</td>\n",
       "      <td>0.010846</td>\n",
       "      <td>0.018152</td>\n",
       "      <td>0.004389</td>\n",
       "      <td>0.530989</td>\n",
       "      <td>0.586154</td>\n",
       "      <td>0.634945</td>\n",
       "      <td>0.608352</td>\n",
       "      <td>0.539560</td>\n",
       "      <td>0.653846</td>\n",
       "      <td>0.553846</td>\n",
       "      <td>0.527253</td>\n",
       "      <td>0.560000</td>\n",
       "      <td>0.497143</td>\n",
       "      <td>0.569209</td>\n",
       "      <td>0.066931</td>\n",
       "      <td>50.24</td>\n",
       "    </tr>\n",
       "    <tr>\n",
       "      <th>squared_hinge</th>\n",
       "      <td>0.074144</td>\n",
       "      <td>0.025707</td>\n",
       "      <td>0.024648</td>\n",
       "      <td>0.023363</td>\n",
       "      <td>0.564176</td>\n",
       "      <td>0.614725</td>\n",
       "      <td>0.610769</td>\n",
       "      <td>0.612747</td>\n",
       "      <td>0.479780</td>\n",
       "      <td>0.665714</td>\n",
       "      <td>0.574945</td>\n",
       "      <td>0.527033</td>\n",
       "      <td>0.583516</td>\n",
       "      <td>0.480440</td>\n",
       "      <td>0.571385</td>\n",
       "      <td>0.069866</td>\n",
       "      <td>58.08</td>\n",
       "    </tr>\n",
       "  </tbody>\n",
       "</table>\n",
       "</div>"
      ],
      "text/plain": [
       "                        mean_fit_time  std_fit_time  mean_score_time  \\\n",
       "param_classifier__loss                                                 \n",
       "hinge                        0.051943      0.007280         0.018741   \n",
       "log                          0.053685      0.007228         0.017585   \n",
       "modified_huber               0.052856      0.010846         0.018152   \n",
       "squared_hinge                0.074144      0.025707         0.024648   \n",
       "\n",
       "                        std_score_time  split0_test_score  split1_test_score  \\\n",
       "param_classifier__loss                                                         \n",
       "hinge                         0.005244           0.563516           0.577582   \n",
       "log                           0.003304           0.528571           0.587033   \n",
       "modified_huber                0.004389           0.530989           0.586154   \n",
       "squared_hinge                 0.023363           0.564176           0.614725   \n",
       "\n",
       "                        split2_test_score  split3_test_score  \\\n",
       "param_classifier__loss                                         \n",
       "hinge                            0.620659           0.594945   \n",
       "log                              0.606374           0.600659   \n",
       "modified_huber                   0.634945           0.608352   \n",
       "squared_hinge                    0.610769           0.612747   \n",
       "\n",
       "                        split4_test_score  split5_test_score  \\\n",
       "param_classifier__loss                                         \n",
       "hinge                            0.487253           0.665055   \n",
       "log                              0.546593           0.650330   \n",
       "modified_huber                   0.539560           0.653846   \n",
       "squared_hinge                    0.479780           0.665714   \n",
       "\n",
       "                        split6_test_score  split7_test_score  \\\n",
       "param_classifier__loss                                         \n",
       "hinge                            0.585275           0.525055   \n",
       "log                              0.544835           0.521099   \n",
       "modified_huber                   0.553846           0.527253   \n",
       "squared_hinge                    0.574945           0.527033   \n",
       "\n",
       "                        split8_test_score  split9_test_score  mean_test_score  \\\n",
       "param_classifier__loss                                                          \n",
       "hinge                            0.605055           0.486593         0.571099   \n",
       "log                              0.569451           0.504615         0.565956   \n",
       "modified_huber                   0.560000           0.497143         0.569209   \n",
       "squared_hinge                    0.583516           0.480440         0.571385   \n",
       "\n",
       "                        std_test_score  rank_test_score  \n",
       "param_classifier__loss                                   \n",
       "hinge                         0.069868            42.00  \n",
       "log                           0.060798            48.40  \n",
       "modified_huber                0.066931            50.24  \n",
       "squared_hinge                 0.069866            58.08  "
      ]
     },
     "execution_count": 42,
     "metadata": {},
     "output_type": "execute_result"
    }
   ],
   "source": [
    "res = pd.DataFrame(grid_cv.cv_results_)\n",
    "res.groupby(\"param_classifier__loss\").mean(\"mean_test_score\")"
   ]
  },
  {
   "cell_type": "code",
   "execution_count": 45,
   "metadata": {},
   "outputs": [],
   "source": [
    "res.to_csv(\"test.csv\", sep=\"\\t\")"
   ]
  },
  {
   "cell_type": "markdown",
   "metadata": {},
   "source": [
    "Plot optimization heatmap:"
   ]
  },
  {
   "cell_type": "code",
   "execution_count": 44,
   "metadata": {},
   "outputs": [],
   "source": [
    "import plotly.graph_objects as go\n",
    "from plotly.offline import plot\n",
    "\n",
    "\n",
    "forplot = res.loc[res[\"param_classifier__loss\"] == \"hinge\"]\n",
    "z = forplot.pivot_table(columns=\"param_classifier__alpha\", index = \"param_classifier__l1_ratio\", values = \"mean_test_score\")\n",
    "\n",
    "fig = go.Figure(data=go.Heatmap(\n",
    "    y = np.sort(np.unique(forplot[\"param_classifier__l1_ratio\"])),\n",
    "    x = np.sort(np.unique(forplot[\"param_classifier__alpha\"])),\n",
    "    z = z,\n",
    "    type = \"heatmap\",\n",
    "    colorscale = \"Viridis\"))\n",
    "fig.update_layout(xaxis_type=\"log\", yaxis_type=\"linear\",\n",
    "                 xaxis = dict(\n",
    "                 title=\"alpha\"),\n",
    "                 yaxis = dict(\n",
    "                 title=\"l1_ratio\"))\n",
    "fig.write_image(\"plots/opt_SGD_hinge_3.pdf\")\n",
    "#plot(fig)"
   ]
  },
  {
   "cell_type": "code",
   "execution_count": 105,
   "metadata": {},
   "outputs": [
    {
     "data": {
      "text/html": [
       "<div>\n",
       "<style scoped>\n",
       "    .dataframe tbody tr th:only-of-type {\n",
       "        vertical-align: middle;\n",
       "    }\n",
       "\n",
       "    .dataframe tbody tr th {\n",
       "        vertical-align: top;\n",
       "    }\n",
       "\n",
       "    .dataframe thead tr th {\n",
       "        text-align: left;\n",
       "    }\n",
       "\n",
       "    .dataframe thead tr:last-of-type th {\n",
       "        text-align: right;\n",
       "    }\n",
       "</style>\n",
       "<table border=\"1\" class=\"dataframe\">\n",
       "  <thead>\n",
       "    <tr>\n",
       "      <th>param_l1_ratio</th>\n",
       "    </tr>\n",
       "  </thead>\n",
       "  <tbody>\n",
       "  </tbody>\n",
       "</table>\n",
       "</div>"
      ],
      "text/plain": [
       "Empty DataFrame\n",
       "Columns: []\n",
       "Index: []"
      ]
     },
     "execution_count": 105,
     "metadata": {},
     "output_type": "execute_result"
    }
   ],
   "source": [
    "z.head()"
   ]
  },
  {
   "cell_type": "markdown",
   "metadata": {},
   "source": [
    "Assess whether the \"best\" parameter set is actually robust:"
   ]
  },
  {
   "cell_type": "code",
   "execution_count": 111,
   "metadata": {},
   "outputs": [],
   "source": [
    "bestparams = grid_cv.best_params_\n",
    "scorer = metrics.make_scorer(metrics.roc_auc_score)\n",
    "classifier = SGDClassifier(random_state = 0, penalty=\"elasticnet\", **bestparams)\n",
    "scores = []\n",
    "\n",
    "for i in range(0, 51):\n",
    "    cv_strategy = model_selection.StratifiedShuffleSplit(n_splits = 10, test_size=0.2, random_state = i)\n",
    "    scoring = model_selection.cross_val_score(classifier, X_train, y_train, scoring = scorer, cv = cv_strategy)\n",
    "    scores.append(scoring.mean())"
   ]
  },
  {
   "cell_type": "code",
   "execution_count": 112,
   "metadata": {},
   "outputs": [
    {
     "name": "stderr",
     "output_type": "stream",
     "text": [
      "D:\\Programs\\Science\\Anaconda\\Anaconda\\lib\\site-packages\\seaborn\\distributions.py:2551: FutureWarning:\n",
      "\n",
      "`distplot` is a deprecated function and will be removed in a future version. Please adapt your code to use either `displot` (a figure-level function with similar flexibility) or `histplot` (an axes-level function for histograms).\n",
      "\n"
     ]
    },
    {
     "data": {
      "text/plain": [
       "<AxesSubplot:ylabel='Density'>"
      ]
     },
     "execution_count": 112,
     "metadata": {},
     "output_type": "execute_result"
    },
    {
     "data": {
      "image/png": "[encoded data removed]",
      "text/plain": [
       "<Figure size 432x288 with 1 Axes>"
      ]
     },
     "metadata": {},
     "output_type": "display_data"
    }
   ],
   "source": [
    "sns.distplot(scores)"
   ]
  },
  {
   "cell_type": "code",
   "execution_count": 113,
   "metadata": {},
   "outputs": [
    {
     "name": "stderr",
     "output_type": "stream",
     "text": [
      "D:\\Programs\\Science\\Anaconda\\Anaconda\\lib\\site-packages\\seaborn\\distributions.py:2551: FutureWarning:\n",
      "\n",
      "`distplot` is a deprecated function and will be removed in a future version. Please adapt your code to use either `displot` (a figure-level function with similar flexibility) or `histplot` (an axes-level function for histograms).\n",
      "\n"
     ]
    },
    {
     "data": {
      "image/png": "[encoded data removed]",
      "text/plain": [
       "<Figure size 432x288 with 1 Axes>"
      ]
     },
     "metadata": {},
     "output_type": "display_data"
    }
   ],
   "source": [
    "\n",
    "plot = sns.distplot(scores)\n",
    "fig = plot.get_figure()\n",
    "fig.savefig(\"plots/dist_rocauc_shufflesplit2.png\", dpi=600)\n"
   ]
  },
  {
   "cell_type": "code",
   "execution_count": 59,
   "metadata": {},
   "outputs": [
    {
     "name": "stderr",
     "output_type": "stream",
     "text": [
      "D:\\Programs\\Science\\Anaconda\\Anaconda\\lib\\site-packages\\seaborn\\distributions.py:2551: FutureWarning:\n",
      "\n",
      "`distplot` is a deprecated function and will be removed in a future version. Please adapt your code to use either `displot` (a figure-level function with similar flexibility) or `histplot` (an axes-level function for histograms).\n",
      "\n"
     ]
    },
    {
     "data": {
      "text/plain": [
       "<AxesSubplot:ylabel='Density'>"
      ]
     },
     "execution_count": 59,
     "metadata": {},
     "output_type": "execute_result"
    },
    {
     "data": {
      "image/png": "[encoded data removed]",
      "text/plain": [
       "<Figure size 432x288 with 1 Axes>"
      ]
     },
     "metadata": {},
     "output_type": "display_data"
    }
   ],
   "source": [
    "temp = res.loc[res[\"param_loss\"] == \"squared_hinge\"].sort_values(axis=0, by=\"mean_test_score\", ascending=False, ignore_index=True)\n",
    "secondbestparams = {\n",
    "    \"loss\": \"squared_hinge\",\n",
    "    \"alpha\": temp.loc[1, \"param_alpha\"],\n",
    "    \"l1_ratio\": temp.loc[1, \"param_l1_ratio\"]\n",
    "}\n",
    "scorer = metrics.make_scorer(metrics.roc_auc_score)\n",
    "classifier = SGDClassifier(random_state = 0, penalty=\"elasticnet\", **secondbestparams)\n",
    "scores = []\n",
    "\n",
    "for i in range(0, 51):\n",
    "    cv_strategy = model_selection.StratifiedKFold(n_splits = 10, shuffle = True, random_state = i)\n",
    "    scoring = model_selection.cross_val_score(classifier, X_train, y_train, scoring = scorer, cv = cv_strategy)\n",
    "    scores.append(scoring.mean())\n",
    "    \n",
    "sns.distplot(scores)"
   ]
  },
  {
   "cell_type": "markdown",
   "metadata": {},
   "source": [
    "ShuffleSplit proved to be better than KFold crossvalidation, so I'm gonna keep it. Linear models proved to perform poorly on my data."
   ]
  },
  {
   "cell_type": "markdown",
   "metadata": {},
   "source": [
    "## Introducing polynomial features"
   ]
  },
  {
   "cell_type": "code",
   "execution_count": 20,
   "metadata": {},
   "outputs": [
    {
     "name": "stderr",
     "output_type": "stream",
     "text": [
      "C:\\Users\\LabSysBio\\Anaconda3\\lib\\site-packages\\sklearn\\model_selection\\_validation.py:528: FutureWarning: From version 0.22, errors during fit will result in a cross validation score of NaN by default. Use error_score='raise' if you want an exception raised or error_score=np.nan to adopt the behavior from version 0.22.\n",
      "  FutureWarning)\n"
     ]
    },
    {
     "ename": "MemoryError",
     "evalue": "",
     "output_type": "error",
     "traceback": [
      "\u001b[1;31m---------------------------------------------------------------------------\u001b[0m",
      "\u001b[1;31mMemoryError\u001b[0m                               Traceback (most recent call last)",
      "\u001b[1;32m<ipython-input-20-0874f967cc19>\u001b[0m in \u001b[0;36m<module>\u001b[1;34m\u001b[0m\n\u001b[0;32m     18\u001b[0m \u001b[0mscorer\u001b[0m \u001b[1;33m=\u001b[0m \u001b[0mmetrics\u001b[0m\u001b[1;33m.\u001b[0m\u001b[0mmake_scorer\u001b[0m\u001b[1;33m(\u001b[0m\u001b[0mmetrics\u001b[0m\u001b[1;33m.\u001b[0m\u001b[0mroc_auc_score\u001b[0m\u001b[1;33m,\u001b[0m \u001b[0mneeds_threshold\u001b[0m\u001b[1;33m=\u001b[0m\u001b[1;32mTrue\u001b[0m\u001b[1;33m)\u001b[0m\u001b[1;33m\u001b[0m\u001b[1;33m\u001b[0m\u001b[0m\n\u001b[0;32m     19\u001b[0m \u001b[0mgrid_cv\u001b[0m \u001b[1;33m=\u001b[0m \u001b[0mmodel_selection\u001b[0m\u001b[1;33m.\u001b[0m\u001b[0mRandomizedSearchCV\u001b[0m\u001b[1;33m(\u001b[0m\u001b[0mclassifier\u001b[0m\u001b[1;33m,\u001b[0m \u001b[0mparamgrid\u001b[0m\u001b[1;33m,\u001b[0m \u001b[0mscoring\u001b[0m \u001b[1;33m=\u001b[0m \u001b[0mscorer\u001b[0m\u001b[1;33m,\u001b[0m \u001b[0mcv\u001b[0m \u001b[1;33m=\u001b[0m \u001b[0mcv_strategy\u001b[0m\u001b[1;33m,\u001b[0m \u001b[0mn_iter\u001b[0m\u001b[1;33m=\u001b[0m\u001b[1;36m10\u001b[0m\u001b[1;33m)\u001b[0m\u001b[1;33m\u001b[0m\u001b[1;33m\u001b[0m\u001b[0m\n\u001b[1;32m---> 20\u001b[1;33m \u001b[0mgrid_cv\u001b[0m\u001b[1;33m.\u001b[0m\u001b[0mfit\u001b[0m\u001b[1;33m(\u001b[0m\u001b[0mX_train\u001b[0m\u001b[1;33m,\u001b[0m \u001b[0my_train\u001b[0m\u001b[1;33m)\u001b[0m\u001b[1;33m\u001b[0m\u001b[1;33m\u001b[0m\u001b[0m\n\u001b[0m",
      "\u001b[1;32m~\\Anaconda3\\lib\\site-packages\\sklearn\\model_selection\\_search.py\u001b[0m in \u001b[0;36mfit\u001b[1;34m(self, X, y, groups, **fit_params)\u001b[0m\n\u001b[0;32m    685\u001b[0m                 \u001b[1;32mreturn\u001b[0m \u001b[0mresults\u001b[0m\u001b[1;33m\u001b[0m\u001b[1;33m\u001b[0m\u001b[0m\n\u001b[0;32m    686\u001b[0m \u001b[1;33m\u001b[0m\u001b[0m\n\u001b[1;32m--> 687\u001b[1;33m             \u001b[0mself\u001b[0m\u001b[1;33m.\u001b[0m\u001b[0m_run_search\u001b[0m\u001b[1;33m(\u001b[0m\u001b[0mevaluate_candidates\u001b[0m\u001b[1;33m)\u001b[0m\u001b[1;33m\u001b[0m\u001b[1;33m\u001b[0m\u001b[0m\n\u001b[0m\u001b[0;32m    688\u001b[0m \u001b[1;33m\u001b[0m\u001b[0m\n\u001b[0;32m    689\u001b[0m         \u001b[1;31m# For multi-metric evaluation, store the best_index_, best_params_ and\u001b[0m\u001b[1;33m\u001b[0m\u001b[1;33m\u001b[0m\u001b[1;33m\u001b[0m\u001b[0m\n",
      "\u001b[1;32m~\\Anaconda3\\lib\\site-packages\\sklearn\\model_selection\\_search.py\u001b[0m in \u001b[0;36m_run_search\u001b[1;34m(self, evaluate_candidates)\u001b[0m\n\u001b[0;32m   1466\u001b[0m         evaluate_candidates(ParameterSampler(\n\u001b[0;32m   1467\u001b[0m             \u001b[0mself\u001b[0m\u001b[1;33m.\u001b[0m\u001b[0mparam_distributions\u001b[0m\u001b[1;33m,\u001b[0m \u001b[0mself\u001b[0m\u001b[1;33m.\u001b[0m\u001b[0mn_iter\u001b[0m\u001b[1;33m,\u001b[0m\u001b[1;33m\u001b[0m\u001b[1;33m\u001b[0m\u001b[0m\n\u001b[1;32m-> 1468\u001b[1;33m             random_state=self.random_state))\n\u001b[0m",
      "\u001b[1;32m~\\Anaconda3\\lib\\site-packages\\sklearn\\model_selection\\_search.py\u001b[0m in \u001b[0;36mevaluate_candidates\u001b[1;34m(candidate_params)\u001b[0m\n\u001b[0;32m    664\u001b[0m                                \u001b[1;32mfor\u001b[0m \u001b[0mparameters\u001b[0m\u001b[1;33m,\u001b[0m \u001b[1;33m(\u001b[0m\u001b[0mtrain\u001b[0m\u001b[1;33m,\u001b[0m \u001b[0mtest\u001b[0m\u001b[1;33m)\u001b[0m\u001b[1;33m\u001b[0m\u001b[1;33m\u001b[0m\u001b[0m\n\u001b[0;32m    665\u001b[0m                                in product(candidate_params,\n\u001b[1;32m--> 666\u001b[1;33m                                           cv.split(X, y, groups)))\n\u001b[0m\u001b[0;32m    667\u001b[0m \u001b[1;33m\u001b[0m\u001b[0m\n\u001b[0;32m    668\u001b[0m                 \u001b[1;32mif\u001b[0m \u001b[0mlen\u001b[0m\u001b[1;33m(\u001b[0m\u001b[0mout\u001b[0m\u001b[1;33m)\u001b[0m \u001b[1;33m<\u001b[0m \u001b[1;36m1\u001b[0m\u001b[1;33m:\u001b[0m\u001b[1;33m\u001b[0m\u001b[1;33m\u001b[0m\u001b[0m\n",
      "\u001b[1;32m~\\Anaconda3\\lib\\site-packages\\joblib\\parallel.py\u001b[0m in \u001b[0;36m__call__\u001b[1;34m(self, iterable)\u001b[0m\n\u001b[0;32m    919\u001b[0m             \u001b[1;31m# remaining jobs.\u001b[0m\u001b[1;33m\u001b[0m\u001b[1;33m\u001b[0m\u001b[1;33m\u001b[0m\u001b[0m\n\u001b[0;32m    920\u001b[0m             \u001b[0mself\u001b[0m\u001b[1;33m.\u001b[0m\u001b[0m_iterating\u001b[0m \u001b[1;33m=\u001b[0m \u001b[1;32mFalse\u001b[0m\u001b[1;33m\u001b[0m\u001b[1;33m\u001b[0m\u001b[0m\n\u001b[1;32m--> 921\u001b[1;33m             \u001b[1;32mif\u001b[0m \u001b[0mself\u001b[0m\u001b[1;33m.\u001b[0m\u001b[0mdispatch_one_batch\u001b[0m\u001b[1;33m(\u001b[0m\u001b[0miterator\u001b[0m\u001b[1;33m)\u001b[0m\u001b[1;33m:\u001b[0m\u001b[1;33m\u001b[0m\u001b[1;33m\u001b[0m\u001b[0m\n\u001b[0m\u001b[0;32m    922\u001b[0m                 \u001b[0mself\u001b[0m\u001b[1;33m.\u001b[0m\u001b[0m_iterating\u001b[0m \u001b[1;33m=\u001b[0m \u001b[0mself\u001b[0m\u001b[1;33m.\u001b[0m\u001b[0m_original_iterator\u001b[0m \u001b[1;32mis\u001b[0m \u001b[1;32mnot\u001b[0m \u001b[1;32mNone\u001b[0m\u001b[1;33m\u001b[0m\u001b[1;33m\u001b[0m\u001b[0m\n\u001b[0;32m    923\u001b[0m \u001b[1;33m\u001b[0m\u001b[0m\n",
      "\u001b[1;32m~\\Anaconda3\\lib\\site-packages\\joblib\\parallel.py\u001b[0m in \u001b[0;36mdispatch_one_batch\u001b[1;34m(self, iterator)\u001b[0m\n\u001b[0;32m    757\u001b[0m                 \u001b[1;32mreturn\u001b[0m \u001b[1;32mFalse\u001b[0m\u001b[1;33m\u001b[0m\u001b[1;33m\u001b[0m\u001b[0m\n\u001b[0;32m    758\u001b[0m             \u001b[1;32melse\u001b[0m\u001b[1;33m:\u001b[0m\u001b[1;33m\u001b[0m\u001b[1;33m\u001b[0m\u001b[0m\n\u001b[1;32m--> 759\u001b[1;33m                 \u001b[0mself\u001b[0m\u001b[1;33m.\u001b[0m\u001b[0m_dispatch\u001b[0m\u001b[1;33m(\u001b[0m\u001b[0mtasks\u001b[0m\u001b[1;33m)\u001b[0m\u001b[1;33m\u001b[0m\u001b[1;33m\u001b[0m\u001b[0m\n\u001b[0m\u001b[0;32m    760\u001b[0m                 \u001b[1;32mreturn\u001b[0m \u001b[1;32mTrue\u001b[0m\u001b[1;33m\u001b[0m\u001b[1;33m\u001b[0m\u001b[0m\n\u001b[0;32m    761\u001b[0m \u001b[1;33m\u001b[0m\u001b[0m\n",
      "\u001b[1;32m~\\Anaconda3\\lib\\site-packages\\joblib\\parallel.py\u001b[0m in \u001b[0;36m_dispatch\u001b[1;34m(self, batch)\u001b[0m\n\u001b[0;32m    714\u001b[0m         \u001b[1;32mwith\u001b[0m \u001b[0mself\u001b[0m\u001b[1;33m.\u001b[0m\u001b[0m_lock\u001b[0m\u001b[1;33m:\u001b[0m\u001b[1;33m\u001b[0m\u001b[1;33m\u001b[0m\u001b[0m\n\u001b[0;32m    715\u001b[0m             \u001b[0mjob_idx\u001b[0m \u001b[1;33m=\u001b[0m \u001b[0mlen\u001b[0m\u001b[1;33m(\u001b[0m\u001b[0mself\u001b[0m\u001b[1;33m.\u001b[0m\u001b[0m_jobs\u001b[0m\u001b[1;33m)\u001b[0m\u001b[1;33m\u001b[0m\u001b[1;33m\u001b[0m\u001b[0m\n\u001b[1;32m--> 716\u001b[1;33m             \u001b[0mjob\u001b[0m \u001b[1;33m=\u001b[0m \u001b[0mself\u001b[0m\u001b[1;33m.\u001b[0m\u001b[0m_backend\u001b[0m\u001b[1;33m.\u001b[0m\u001b[0mapply_async\u001b[0m\u001b[1;33m(\u001b[0m\u001b[0mbatch\u001b[0m\u001b[1;33m,\u001b[0m \u001b[0mcallback\u001b[0m\u001b[1;33m=\u001b[0m\u001b[0mcb\u001b[0m\u001b[1;33m)\u001b[0m\u001b[1;33m\u001b[0m\u001b[1;33m\u001b[0m\u001b[0m\n\u001b[0m\u001b[0;32m    717\u001b[0m             \u001b[1;31m# A job can complete so quickly than its callback is\u001b[0m\u001b[1;33m\u001b[0m\u001b[1;33m\u001b[0m\u001b[1;33m\u001b[0m\u001b[0m\n\u001b[0;32m    718\u001b[0m             \u001b[1;31m# called before we get here, causing self._jobs to\u001b[0m\u001b[1;33m\u001b[0m\u001b[1;33m\u001b[0m\u001b[1;33m\u001b[0m\u001b[0m\n",
      "\u001b[1;32m~\\Anaconda3\\lib\\site-packages\\joblib\\_parallel_backends.py\u001b[0m in \u001b[0;36mapply_async\u001b[1;34m(self, func, callback)\u001b[0m\n\u001b[0;32m    180\u001b[0m     \u001b[1;32mdef\u001b[0m \u001b[0mapply_async\u001b[0m\u001b[1;33m(\u001b[0m\u001b[0mself\u001b[0m\u001b[1;33m,\u001b[0m \u001b[0mfunc\u001b[0m\u001b[1;33m,\u001b[0m \u001b[0mcallback\u001b[0m\u001b[1;33m=\u001b[0m\u001b[1;32mNone\u001b[0m\u001b[1;33m)\u001b[0m\u001b[1;33m:\u001b[0m\u001b[1;33m\u001b[0m\u001b[1;33m\u001b[0m\u001b[0m\n\u001b[0;32m    181\u001b[0m         \u001b[1;34m\"\"\"Schedule a func to be run\"\"\"\u001b[0m\u001b[1;33m\u001b[0m\u001b[1;33m\u001b[0m\u001b[0m\n\u001b[1;32m--> 182\u001b[1;33m         \u001b[0mresult\u001b[0m \u001b[1;33m=\u001b[0m \u001b[0mImmediateResult\u001b[0m\u001b[1;33m(\u001b[0m\u001b[0mfunc\u001b[0m\u001b[1;33m)\u001b[0m\u001b[1;33m\u001b[0m\u001b[1;33m\u001b[0m\u001b[0m\n\u001b[0m\u001b[0;32m    183\u001b[0m         \u001b[1;32mif\u001b[0m \u001b[0mcallback\u001b[0m\u001b[1;33m:\u001b[0m\u001b[1;33m\u001b[0m\u001b[1;33m\u001b[0m\u001b[0m\n\u001b[0;32m    184\u001b[0m             \u001b[0mcallback\u001b[0m\u001b[1;33m(\u001b[0m\u001b[0mresult\u001b[0m\u001b[1;33m)\u001b[0m\u001b[1;33m\u001b[0m\u001b[1;33m\u001b[0m\u001b[0m\n",
      "\u001b[1;32m~\\Anaconda3\\lib\\site-packages\\joblib\\_parallel_backends.py\u001b[0m in \u001b[0;36m__init__\u001b[1;34m(self, batch)\u001b[0m\n\u001b[0;32m    547\u001b[0m         \u001b[1;31m# Don't delay the application, to avoid keeping the input\u001b[0m\u001b[1;33m\u001b[0m\u001b[1;33m\u001b[0m\u001b[1;33m\u001b[0m\u001b[0m\n\u001b[0;32m    548\u001b[0m         \u001b[1;31m# arguments in memory\u001b[0m\u001b[1;33m\u001b[0m\u001b[1;33m\u001b[0m\u001b[1;33m\u001b[0m\u001b[0m\n\u001b[1;32m--> 549\u001b[1;33m         \u001b[0mself\u001b[0m\u001b[1;33m.\u001b[0m\u001b[0mresults\u001b[0m \u001b[1;33m=\u001b[0m \u001b[0mbatch\u001b[0m\u001b[1;33m(\u001b[0m\u001b[1;33m)\u001b[0m\u001b[1;33m\u001b[0m\u001b[1;33m\u001b[0m\u001b[0m\n\u001b[0m\u001b[0;32m    550\u001b[0m \u001b[1;33m\u001b[0m\u001b[0m\n\u001b[0;32m    551\u001b[0m     \u001b[1;32mdef\u001b[0m \u001b[0mget\u001b[0m\u001b[1;33m(\u001b[0m\u001b[0mself\u001b[0m\u001b[1;33m)\u001b[0m\u001b[1;33m:\u001b[0m\u001b[1;33m\u001b[0m\u001b[1;33m\u001b[0m\u001b[0m\n",
      "\u001b[1;32m~\\Anaconda3\\lib\\site-packages\\joblib\\parallel.py\u001b[0m in \u001b[0;36m__call__\u001b[1;34m(self)\u001b[0m\n\u001b[0;32m    223\u001b[0m         \u001b[1;32mwith\u001b[0m \u001b[0mparallel_backend\u001b[0m\u001b[1;33m(\u001b[0m\u001b[0mself\u001b[0m\u001b[1;33m.\u001b[0m\u001b[0m_backend\u001b[0m\u001b[1;33m,\u001b[0m \u001b[0mn_jobs\u001b[0m\u001b[1;33m=\u001b[0m\u001b[0mself\u001b[0m\u001b[1;33m.\u001b[0m\u001b[0m_n_jobs\u001b[0m\u001b[1;33m)\u001b[0m\u001b[1;33m:\u001b[0m\u001b[1;33m\u001b[0m\u001b[1;33m\u001b[0m\u001b[0m\n\u001b[0;32m    224\u001b[0m             return [func(*args, **kwargs)\n\u001b[1;32m--> 225\u001b[1;33m                     for func, args, kwargs in self.items]\n\u001b[0m\u001b[0;32m    226\u001b[0m \u001b[1;33m\u001b[0m\u001b[0m\n\u001b[0;32m    227\u001b[0m     \u001b[1;32mdef\u001b[0m \u001b[0m__len__\u001b[0m\u001b[1;33m(\u001b[0m\u001b[0mself\u001b[0m\u001b[1;33m)\u001b[0m\u001b[1;33m:\u001b[0m\u001b[1;33m\u001b[0m\u001b[1;33m\u001b[0m\u001b[0m\n",
      "\u001b[1;32m~\\Anaconda3\\lib\\site-packages\\joblib\\parallel.py\u001b[0m in \u001b[0;36m<listcomp>\u001b[1;34m(.0)\u001b[0m\n\u001b[0;32m    223\u001b[0m         \u001b[1;32mwith\u001b[0m \u001b[0mparallel_backend\u001b[0m\u001b[1;33m(\u001b[0m\u001b[0mself\u001b[0m\u001b[1;33m.\u001b[0m\u001b[0m_backend\u001b[0m\u001b[1;33m,\u001b[0m \u001b[0mn_jobs\u001b[0m\u001b[1;33m=\u001b[0m\u001b[0mself\u001b[0m\u001b[1;33m.\u001b[0m\u001b[0m_n_jobs\u001b[0m\u001b[1;33m)\u001b[0m\u001b[1;33m:\u001b[0m\u001b[1;33m\u001b[0m\u001b[1;33m\u001b[0m\u001b[0m\n\u001b[0;32m    224\u001b[0m             return [func(*args, **kwargs)\n\u001b[1;32m--> 225\u001b[1;33m                     for func, args, kwargs in self.items]\n\u001b[0m\u001b[0;32m    226\u001b[0m \u001b[1;33m\u001b[0m\u001b[0m\n\u001b[0;32m    227\u001b[0m     \u001b[1;32mdef\u001b[0m \u001b[0m__len__\u001b[0m\u001b[1;33m(\u001b[0m\u001b[0mself\u001b[0m\u001b[1;33m)\u001b[0m\u001b[1;33m:\u001b[0m\u001b[1;33m\u001b[0m\u001b[1;33m\u001b[0m\u001b[0m\n",
      "\u001b[1;32m~\\Anaconda3\\lib\\site-packages\\sklearn\\model_selection\\_validation.py\u001b[0m in \u001b[0;36m_fit_and_score\u001b[1;34m(estimator, X, y, scorer, train, test, verbose, parameters, fit_params, return_train_score, return_parameters, return_n_test_samples, return_times, return_estimator, error_score)\u001b[0m\n\u001b[0;32m    512\u001b[0m             \u001b[0mestimator\u001b[0m\u001b[1;33m.\u001b[0m\u001b[0mfit\u001b[0m\u001b[1;33m(\u001b[0m\u001b[0mX_train\u001b[0m\u001b[1;33m,\u001b[0m \u001b[1;33m**\u001b[0m\u001b[0mfit_params\u001b[0m\u001b[1;33m)\u001b[0m\u001b[1;33m\u001b[0m\u001b[1;33m\u001b[0m\u001b[0m\n\u001b[0;32m    513\u001b[0m         \u001b[1;32melse\u001b[0m\u001b[1;33m:\u001b[0m\u001b[1;33m\u001b[0m\u001b[1;33m\u001b[0m\u001b[0m\n\u001b[1;32m--> 514\u001b[1;33m             \u001b[0mestimator\u001b[0m\u001b[1;33m.\u001b[0m\u001b[0mfit\u001b[0m\u001b[1;33m(\u001b[0m\u001b[0mX_train\u001b[0m\u001b[1;33m,\u001b[0m \u001b[0my_train\u001b[0m\u001b[1;33m,\u001b[0m \u001b[1;33m**\u001b[0m\u001b[0mfit_params\u001b[0m\u001b[1;33m)\u001b[0m\u001b[1;33m\u001b[0m\u001b[1;33m\u001b[0m\u001b[0m\n\u001b[0m\u001b[0;32m    515\u001b[0m \u001b[1;33m\u001b[0m\u001b[0m\n\u001b[0;32m    516\u001b[0m     \u001b[1;32mexcept\u001b[0m \u001b[0mException\u001b[0m \u001b[1;32mas\u001b[0m \u001b[0me\u001b[0m\u001b[1;33m:\u001b[0m\u001b[1;33m\u001b[0m\u001b[1;33m\u001b[0m\u001b[0m\n",
      "\u001b[1;32m~\\Anaconda3\\lib\\site-packages\\sklearn\\pipeline.py\u001b[0m in \u001b[0;36mfit\u001b[1;34m(self, X, y, **fit_params)\u001b[0m\n\u001b[0;32m    350\u001b[0m             \u001b[0mThis\u001b[0m \u001b[0mestimator\u001b[0m\u001b[1;33m\u001b[0m\u001b[1;33m\u001b[0m\u001b[0m\n\u001b[0;32m    351\u001b[0m         \"\"\"\n\u001b[1;32m--> 352\u001b[1;33m         \u001b[0mXt\u001b[0m\u001b[1;33m,\u001b[0m \u001b[0mfit_params\u001b[0m \u001b[1;33m=\u001b[0m \u001b[0mself\u001b[0m\u001b[1;33m.\u001b[0m\u001b[0m_fit\u001b[0m\u001b[1;33m(\u001b[0m\u001b[0mX\u001b[0m\u001b[1;33m,\u001b[0m \u001b[0my\u001b[0m\u001b[1;33m,\u001b[0m \u001b[1;33m**\u001b[0m\u001b[0mfit_params\u001b[0m\u001b[1;33m)\u001b[0m\u001b[1;33m\u001b[0m\u001b[1;33m\u001b[0m\u001b[0m\n\u001b[0m\u001b[0;32m    353\u001b[0m         with _print_elapsed_time('Pipeline',\n\u001b[0;32m    354\u001b[0m                                  self._log_message(len(self.steps) - 1)):\n",
      "\u001b[1;32m~\\Anaconda3\\lib\\site-packages\\sklearn\\pipeline.py\u001b[0m in \u001b[0;36m_fit\u001b[1;34m(self, X, y, **fit_params)\u001b[0m\n\u001b[0;32m    315\u001b[0m                 \u001b[0mmessage_clsname\u001b[0m\u001b[1;33m=\u001b[0m\u001b[1;34m'Pipeline'\u001b[0m\u001b[1;33m,\u001b[0m\u001b[1;33m\u001b[0m\u001b[1;33m\u001b[0m\u001b[0m\n\u001b[0;32m    316\u001b[0m                 \u001b[0mmessage\u001b[0m\u001b[1;33m=\u001b[0m\u001b[0mself\u001b[0m\u001b[1;33m.\u001b[0m\u001b[0m_log_message\u001b[0m\u001b[1;33m(\u001b[0m\u001b[0mstep_idx\u001b[0m\u001b[1;33m)\u001b[0m\u001b[1;33m,\u001b[0m\u001b[1;33m\u001b[0m\u001b[1;33m\u001b[0m\u001b[0m\n\u001b[1;32m--> 317\u001b[1;33m                 **fit_params_steps[name])\n\u001b[0m\u001b[0;32m    318\u001b[0m             \u001b[1;31m# Replace the transformer of the step with the fitted\u001b[0m\u001b[1;33m\u001b[0m\u001b[1;33m\u001b[0m\u001b[1;33m\u001b[0m\u001b[0m\n\u001b[0;32m    319\u001b[0m             \u001b[1;31m# transformer. This is necessary when loading the transformer\u001b[0m\u001b[1;33m\u001b[0m\u001b[1;33m\u001b[0m\u001b[1;33m\u001b[0m\u001b[0m\n",
      "\u001b[1;32m~\\Anaconda3\\lib\\site-packages\\joblib\\memory.py\u001b[0m in \u001b[0;36m__call__\u001b[1;34m(self, *args, **kwargs)\u001b[0m\n\u001b[0;32m    353\u001b[0m \u001b[1;33m\u001b[0m\u001b[0m\n\u001b[0;32m    354\u001b[0m     \u001b[1;32mdef\u001b[0m \u001b[0m__call__\u001b[0m\u001b[1;33m(\u001b[0m\u001b[0mself\u001b[0m\u001b[1;33m,\u001b[0m \u001b[1;33m*\u001b[0m\u001b[0margs\u001b[0m\u001b[1;33m,\u001b[0m \u001b[1;33m**\u001b[0m\u001b[0mkwargs\u001b[0m\u001b[1;33m)\u001b[0m\u001b[1;33m:\u001b[0m\u001b[1;33m\u001b[0m\u001b[1;33m\u001b[0m\u001b[0m\n\u001b[1;32m--> 355\u001b[1;33m         \u001b[1;32mreturn\u001b[0m \u001b[0mself\u001b[0m\u001b[1;33m.\u001b[0m\u001b[0mfunc\u001b[0m\u001b[1;33m(\u001b[0m\u001b[1;33m*\u001b[0m\u001b[0margs\u001b[0m\u001b[1;33m,\u001b[0m \u001b[1;33m**\u001b[0m\u001b[0mkwargs\u001b[0m\u001b[1;33m)\u001b[0m\u001b[1;33m\u001b[0m\u001b[1;33m\u001b[0m\u001b[0m\n\u001b[0m\u001b[0;32m    356\u001b[0m \u001b[1;33m\u001b[0m\u001b[0m\n\u001b[0;32m    357\u001b[0m     \u001b[1;32mdef\u001b[0m \u001b[0mcall_and_shelve\u001b[0m\u001b[1;33m(\u001b[0m\u001b[0mself\u001b[0m\u001b[1;33m,\u001b[0m \u001b[1;33m*\u001b[0m\u001b[0margs\u001b[0m\u001b[1;33m,\u001b[0m \u001b[1;33m**\u001b[0m\u001b[0mkwargs\u001b[0m\u001b[1;33m)\u001b[0m\u001b[1;33m:\u001b[0m\u001b[1;33m\u001b[0m\u001b[1;33m\u001b[0m\u001b[0m\n",
      "\u001b[1;32m~\\Anaconda3\\lib\\site-packages\\sklearn\\pipeline.py\u001b[0m in \u001b[0;36m_fit_transform_one\u001b[1;34m(transformer, X, y, weight, message_clsname, message, **fit_params)\u001b[0m\n\u001b[0;32m    714\u001b[0m     \u001b[1;32mwith\u001b[0m \u001b[0m_print_elapsed_time\u001b[0m\u001b[1;33m(\u001b[0m\u001b[0mmessage_clsname\u001b[0m\u001b[1;33m,\u001b[0m \u001b[0mmessage\u001b[0m\u001b[1;33m)\u001b[0m\u001b[1;33m:\u001b[0m\u001b[1;33m\u001b[0m\u001b[1;33m\u001b[0m\u001b[0m\n\u001b[0;32m    715\u001b[0m         \u001b[1;32mif\u001b[0m \u001b[0mhasattr\u001b[0m\u001b[1;33m(\u001b[0m\u001b[0mtransformer\u001b[0m\u001b[1;33m,\u001b[0m \u001b[1;34m'fit_transform'\u001b[0m\u001b[1;33m)\u001b[0m\u001b[1;33m:\u001b[0m\u001b[1;33m\u001b[0m\u001b[1;33m\u001b[0m\u001b[0m\n\u001b[1;32m--> 716\u001b[1;33m             \u001b[0mres\u001b[0m \u001b[1;33m=\u001b[0m \u001b[0mtransformer\u001b[0m\u001b[1;33m.\u001b[0m\u001b[0mfit_transform\u001b[0m\u001b[1;33m(\u001b[0m\u001b[0mX\u001b[0m\u001b[1;33m,\u001b[0m \u001b[0my\u001b[0m\u001b[1;33m,\u001b[0m \u001b[1;33m**\u001b[0m\u001b[0mfit_params\u001b[0m\u001b[1;33m)\u001b[0m\u001b[1;33m\u001b[0m\u001b[1;33m\u001b[0m\u001b[0m\n\u001b[0m\u001b[0;32m    717\u001b[0m         \u001b[1;32melse\u001b[0m\u001b[1;33m:\u001b[0m\u001b[1;33m\u001b[0m\u001b[1;33m\u001b[0m\u001b[0m\n\u001b[0;32m    718\u001b[0m             \u001b[0mres\u001b[0m \u001b[1;33m=\u001b[0m \u001b[0mtransformer\u001b[0m\u001b[1;33m.\u001b[0m\u001b[0mfit\u001b[0m\u001b[1;33m(\u001b[0m\u001b[0mX\u001b[0m\u001b[1;33m,\u001b[0m \u001b[0my\u001b[0m\u001b[1;33m,\u001b[0m \u001b[1;33m**\u001b[0m\u001b[0mfit_params\u001b[0m\u001b[1;33m)\u001b[0m\u001b[1;33m.\u001b[0m\u001b[0mtransform\u001b[0m\u001b[1;33m(\u001b[0m\u001b[0mX\u001b[0m\u001b[1;33m)\u001b[0m\u001b[1;33m\u001b[0m\u001b[1;33m\u001b[0m\u001b[0m\n",
      "\u001b[1;32m~\\Anaconda3\\lib\\site-packages\\sklearn\\base.py\u001b[0m in \u001b[0;36mfit_transform\u001b[1;34m(self, X, y, **fit_params)\u001b[0m\n\u001b[0;32m    554\u001b[0m         \u001b[1;32melse\u001b[0m\u001b[1;33m:\u001b[0m\u001b[1;33m\u001b[0m\u001b[1;33m\u001b[0m\u001b[0m\n\u001b[0;32m    555\u001b[0m             \u001b[1;31m# fit method of arity 2 (supervised transformation)\u001b[0m\u001b[1;33m\u001b[0m\u001b[1;33m\u001b[0m\u001b[1;33m\u001b[0m\u001b[0m\n\u001b[1;32m--> 556\u001b[1;33m             \u001b[1;32mreturn\u001b[0m \u001b[0mself\u001b[0m\u001b[1;33m.\u001b[0m\u001b[0mfit\u001b[0m\u001b[1;33m(\u001b[0m\u001b[0mX\u001b[0m\u001b[1;33m,\u001b[0m \u001b[0my\u001b[0m\u001b[1;33m,\u001b[0m \u001b[1;33m**\u001b[0m\u001b[0mfit_params\u001b[0m\u001b[1;33m)\u001b[0m\u001b[1;33m.\u001b[0m\u001b[0mtransform\u001b[0m\u001b[1;33m(\u001b[0m\u001b[0mX\u001b[0m\u001b[1;33m)\u001b[0m\u001b[1;33m\u001b[0m\u001b[1;33m\u001b[0m\u001b[0m\n\u001b[0m\u001b[0;32m    557\u001b[0m \u001b[1;33m\u001b[0m\u001b[0m\n\u001b[0;32m    558\u001b[0m \u001b[1;33m\u001b[0m\u001b[0m\n",
      "\u001b[1;32m~\\Anaconda3\\lib\\site-packages\\sklearn\\preprocessing\\data.py\u001b[0m in \u001b[0;36mtransform\u001b[1;34m(self, X)\u001b[0m\n\u001b[0;32m   1544\u001b[0m             \u001b[1;32melse\u001b[0m\u001b[1;33m:\u001b[0m\u001b[1;33m\u001b[0m\u001b[1;33m\u001b[0m\u001b[0m\n\u001b[0;32m   1545\u001b[0m                 XP = np.empty((n_samples, self.n_output_features_),\n\u001b[1;32m-> 1546\u001b[1;33m                               dtype=X.dtype, order=self.order)\n\u001b[0m\u001b[0;32m   1547\u001b[0m                 \u001b[1;32mfor\u001b[0m \u001b[0mi\u001b[0m\u001b[1;33m,\u001b[0m \u001b[0mcomb\u001b[0m \u001b[1;32min\u001b[0m \u001b[0menumerate\u001b[0m\u001b[1;33m(\u001b[0m\u001b[0mcombinations\u001b[0m\u001b[1;33m)\u001b[0m\u001b[1;33m:\u001b[0m\u001b[1;33m\u001b[0m\u001b[1;33m\u001b[0m\u001b[0m\n\u001b[0;32m   1548\u001b[0m                     \u001b[0mXP\u001b[0m\u001b[1;33m[\u001b[0m\u001b[1;33m:\u001b[0m\u001b[1;33m,\u001b[0m \u001b[0mi\u001b[0m\u001b[1;33m]\u001b[0m \u001b[1;33m=\u001b[0m \u001b[0mX\u001b[0m\u001b[1;33m[\u001b[0m\u001b[1;33m:\u001b[0m\u001b[1;33m,\u001b[0m \u001b[0mcomb\u001b[0m\u001b[1;33m]\u001b[0m\u001b[1;33m.\u001b[0m\u001b[0mprod\u001b[0m\u001b[1;33m(\u001b[0m\u001b[1;36m1\u001b[0m\u001b[1;33m)\u001b[0m\u001b[1;33m\u001b[0m\u001b[1;33m\u001b[0m\u001b[0m\n",
      "\u001b[1;31mMemoryError\u001b[0m: "
     ]
    }
   ],
   "source": [
    "clf = SGDClassifier(random_state = 0, penalty=\"elasticnet\")\n",
    "\n",
    "classifier = pipeline.Pipeline(steps=[\n",
    "    (\"scaling\", preprocessing.StandardScaler()),\n",
    "    (\"polynomial\", preprocessing.PolynomialFeatures(3)),\n",
    "    (\"classifier\", clf)\n",
    "])\n",
    "\n",
    "paramgrid = {\n",
    "    \"classifier__loss\" : [\"squared_hinge\", \"hinge\", \"log\", \"modified_huber\"],\n",
    "    #\"classifier__loss\" : [\"squared_hinge\"],\n",
    "    \"classifier__alpha\" : np.logspace(-6, 0, 5),\n",
    "    \"classifier__l1_ratio\" : np.linspace(0.0001, 1, 5)\n",
    "}\n",
    "\n",
    "#cv_strategy = model_selection.StratifiedKFold(n_splits = 10, shuffle = True, random_state = 1)\n",
    "cv_strategy = model_selection.StratifiedShuffleSplit(n_splits=10, test_size=0.2, random_state=0)\n",
    "scorer = metrics.make_scorer(metrics.roc_auc_score, needs_threshold=True)\n",
    "grid_cv = model_selection.RandomizedSearchCV(classifier, paramgrid, scoring = scorer, cv = cv_strategy, n_iter=10)\n",
    "grid_cv.fit(X_train, y_train)"
   ]
  },
  {
   "cell_type": "code",
   "execution_count": 6,
   "metadata": {},
   "outputs": [
    {
     "name": "stdout",
     "output_type": "stream",
     "text": [
      "0.6596153846153846\n",
      "{'classifier__alpha': 1e-06, 'classifier__l1_ratio': 0.0001, 'classifier__loss': 'hinge'}\n"
     ]
    }
   ],
   "source": [
    "print(grid_cv.best_score_)\n",
    "print(grid_cv.best_params_)"
   ]
  },
  {
   "cell_type": "code",
   "execution_count": 7,
   "metadata": {},
   "outputs": [
    {
     "data": {
      "text/html": [
       "<div>\n",
       "<style scoped>\n",
       "    .dataframe tbody tr th:only-of-type {\n",
       "        vertical-align: middle;\n",
       "    }\n",
       "\n",
       "    .dataframe tbody tr th {\n",
       "        vertical-align: top;\n",
       "    }\n",
       "\n",
       "    .dataframe thead th {\n",
       "        text-align: right;\n",
       "    }\n",
       "</style>\n",
       "<table border=\"1\" class=\"dataframe\">\n",
       "  <thead>\n",
       "    <tr style=\"text-align: right;\">\n",
       "      <th></th>\n",
       "      <th>mean_fit_time</th>\n",
       "      <th>std_fit_time</th>\n",
       "      <th>mean_score_time</th>\n",
       "      <th>std_score_time</th>\n",
       "      <th>split0_test_score</th>\n",
       "      <th>split1_test_score</th>\n",
       "      <th>split2_test_score</th>\n",
       "      <th>split3_test_score</th>\n",
       "      <th>split4_test_score</th>\n",
       "      <th>split5_test_score</th>\n",
       "      <th>split6_test_score</th>\n",
       "      <th>split7_test_score</th>\n",
       "      <th>split8_test_score</th>\n",
       "      <th>split9_test_score</th>\n",
       "      <th>mean_test_score</th>\n",
       "      <th>std_test_score</th>\n",
       "      <th>rank_test_score</th>\n",
       "    </tr>\n",
       "    <tr>\n",
       "      <th>param_classifier__loss</th>\n",
       "      <th></th>\n",
       "      <th></th>\n",
       "      <th></th>\n",
       "      <th></th>\n",
       "      <th></th>\n",
       "      <th></th>\n",
       "      <th></th>\n",
       "      <th></th>\n",
       "      <th></th>\n",
       "      <th></th>\n",
       "      <th></th>\n",
       "      <th></th>\n",
       "      <th></th>\n",
       "      <th></th>\n",
       "      <th></th>\n",
       "      <th></th>\n",
       "      <th></th>\n",
       "    </tr>\n",
       "  </thead>\n",
       "  <tbody>\n",
       "    <tr>\n",
       "      <th>hinge</th>\n",
       "      <td>31.161342</td>\n",
       "      <td>26.044088</td>\n",
       "      <td>0.120234</td>\n",
       "      <td>0.008467</td>\n",
       "      <td>0.614725</td>\n",
       "      <td>0.644286</td>\n",
       "      <td>0.594176</td>\n",
       "      <td>0.657912</td>\n",
       "      <td>0.652527</td>\n",
       "      <td>0.575604</td>\n",
       "      <td>0.628132</td>\n",
       "      <td>0.613626</td>\n",
       "      <td>0.599011</td>\n",
       "      <td>0.643407</td>\n",
       "      <td>0.622341</td>\n",
       "      <td>0.043633</td>\n",
       "      <td>39.84</td>\n",
       "    </tr>\n",
       "    <tr>\n",
       "      <th>log</th>\n",
       "      <td>31.611442</td>\n",
       "      <td>31.821830</td>\n",
       "      <td>0.119774</td>\n",
       "      <td>0.007183</td>\n",
       "      <td>0.650110</td>\n",
       "      <td>0.635714</td>\n",
       "      <td>0.600549</td>\n",
       "      <td>0.653407</td>\n",
       "      <td>0.575934</td>\n",
       "      <td>0.548462</td>\n",
       "      <td>0.630549</td>\n",
       "      <td>0.599560</td>\n",
       "      <td>0.640989</td>\n",
       "      <td>0.652308</td>\n",
       "      <td>0.618758</td>\n",
       "      <td>0.048274</td>\n",
       "      <td>44.96</td>\n",
       "    </tr>\n",
       "    <tr>\n",
       "      <th>modified_huber</th>\n",
       "      <td>44.335278</td>\n",
       "      <td>36.868865</td>\n",
       "      <td>0.119612</td>\n",
       "      <td>0.008415</td>\n",
       "      <td>0.657363</td>\n",
       "      <td>0.643736</td>\n",
       "      <td>0.584725</td>\n",
       "      <td>0.680440</td>\n",
       "      <td>0.578901</td>\n",
       "      <td>0.561319</td>\n",
       "      <td>0.635275</td>\n",
       "      <td>0.624396</td>\n",
       "      <td>0.641978</td>\n",
       "      <td>0.642198</td>\n",
       "      <td>0.625033</td>\n",
       "      <td>0.055518</td>\n",
       "      <td>43.16</td>\n",
       "    </tr>\n",
       "    <tr>\n",
       "      <th>squared_hinge</th>\n",
       "      <td>43.497859</td>\n",
       "      <td>40.284817</td>\n",
       "      <td>0.121623</td>\n",
       "      <td>0.010792</td>\n",
       "      <td>0.672198</td>\n",
       "      <td>0.668791</td>\n",
       "      <td>0.530330</td>\n",
       "      <td>0.636374</td>\n",
       "      <td>0.581648</td>\n",
       "      <td>0.549560</td>\n",
       "      <td>0.647692</td>\n",
       "      <td>0.635934</td>\n",
       "      <td>0.612418</td>\n",
       "      <td>0.666264</td>\n",
       "      <td>0.620121</td>\n",
       "      <td>0.058616</td>\n",
       "      <td>67.72</td>\n",
       "    </tr>\n",
       "  </tbody>\n",
       "</table>\n",
       "</div>"
      ],
      "text/plain": [
       "                        mean_fit_time  std_fit_time  mean_score_time  \\\n",
       "param_classifier__loss                                                 \n",
       "hinge                       31.161342     26.044088         0.120234   \n",
       "log                         31.611442     31.821830         0.119774   \n",
       "modified_huber              44.335278     36.868865         0.119612   \n",
       "squared_hinge               43.497859     40.284817         0.121623   \n",
       "\n",
       "                        std_score_time  split0_test_score  split1_test_score  \\\n",
       "param_classifier__loss                                                         \n",
       "hinge                         0.008467           0.614725           0.644286   \n",
       "log                           0.007183           0.650110           0.635714   \n",
       "modified_huber                0.008415           0.657363           0.643736   \n",
       "squared_hinge                 0.010792           0.672198           0.668791   \n",
       "\n",
       "                        split2_test_score  split3_test_score  \\\n",
       "param_classifier__loss                                         \n",
       "hinge                            0.594176           0.657912   \n",
       "log                              0.600549           0.653407   \n",
       "modified_huber                   0.584725           0.680440   \n",
       "squared_hinge                    0.530330           0.636374   \n",
       "\n",
       "                        split4_test_score  split5_test_score  \\\n",
       "param_classifier__loss                                         \n",
       "hinge                            0.652527           0.575604   \n",
       "log                              0.575934           0.548462   \n",
       "modified_huber                   0.578901           0.561319   \n",
       "squared_hinge                    0.581648           0.549560   \n",
       "\n",
       "                        split6_test_score  split7_test_score  \\\n",
       "param_classifier__loss                                         \n",
       "hinge                            0.628132           0.613626   \n",
       "log                              0.630549           0.599560   \n",
       "modified_huber                   0.635275           0.624396   \n",
       "squared_hinge                    0.647692           0.635934   \n",
       "\n",
       "                        split8_test_score  split9_test_score  mean_test_score  \\\n",
       "param_classifier__loss                                                          \n",
       "hinge                            0.599011           0.643407         0.622341   \n",
       "log                              0.640989           0.652308         0.618758   \n",
       "modified_huber                   0.641978           0.642198         0.625033   \n",
       "squared_hinge                    0.612418           0.666264         0.620121   \n",
       "\n",
       "                        std_test_score  rank_test_score  \n",
       "param_classifier__loss                                   \n",
       "hinge                         0.043633            39.84  \n",
       "log                           0.048274            44.96  \n",
       "modified_huber                0.055518            43.16  \n",
       "squared_hinge                 0.058616            67.72  "
      ]
     },
     "execution_count": 7,
     "metadata": {},
     "output_type": "execute_result"
    }
   ],
   "source": [
    "res = pd.DataFrame(grid_cv.cv_results_)\n",
    "res.groupby(\"param_classifier__loss\").mean(\"mean_test_score\")"
   ]
  },
  {
   "cell_type": "code",
   "execution_count": 64,
   "metadata": {},
   "outputs": [
    {
     "data": {
      "text/plain": [
       "{'loss': 'log', 'alpha': 0.031622776601683784, 'l1_ratio': 1e-06}"
      ]
     },
     "execution_count": 64,
     "metadata": {},
     "output_type": "execute_result"
    }
   ],
   "source": [
    "res = pd.read_csv(\"opt_poly2_2.csv\", sep=\"\\t\")\n",
    "\n",
    "temp = res.sort_values(axis=0, by=\"mean_test_score\", ascending=False, ignore_index=True)\n",
    "bestparams = {\n",
    "    \"loss\": temp.loc[0, \"param_classifier__loss\"],\n",
    "    \"alpha\": temp.loc[0, \"param_classifier__alpha\"],\n",
    "    \"l1_ratio\": temp.loc[0, \"param_classifier__l1_ratio\"]\n",
    "}\n",
    "bestparams"
   ]
  },
  {
   "cell_type": "code",
   "execution_count": 49,
   "metadata": {},
   "outputs": [
    {
     "data": {
      "text/html": [
       "<div>\n",
       "<style scoped>\n",
       "    .dataframe tbody tr th:only-of-type {\n",
       "        vertical-align: middle;\n",
       "    }\n",
       "\n",
       "    .dataframe tbody tr th {\n",
       "        vertical-align: top;\n",
       "    }\n",
       "\n",
       "    .dataframe thead th {\n",
       "        text-align: right;\n",
       "    }\n",
       "</style>\n",
       "<table border=\"1\" class=\"dataframe\">\n",
       "  <thead>\n",
       "    <tr style=\"text-align: right;\">\n",
       "      <th></th>\n",
       "      <th>Unnamed: 0</th>\n",
       "      <th>mean_fit_time</th>\n",
       "      <th>std_fit_time</th>\n",
       "      <th>mean_score_time</th>\n",
       "      <th>std_score_time</th>\n",
       "      <th>param_classifier__alpha</th>\n",
       "      <th>param_classifier__l1_ratio</th>\n",
       "      <th>split0_test_score</th>\n",
       "      <th>split1_test_score</th>\n",
       "      <th>split2_test_score</th>\n",
       "      <th>split3_test_score</th>\n",
       "      <th>split4_test_score</th>\n",
       "      <th>split5_test_score</th>\n",
       "      <th>split6_test_score</th>\n",
       "      <th>split7_test_score</th>\n",
       "      <th>split8_test_score</th>\n",
       "      <th>split9_test_score</th>\n",
       "      <th>mean_test_score</th>\n",
       "      <th>std_test_score</th>\n",
       "      <th>rank_test_score</th>\n",
       "    </tr>\n",
       "    <tr>\n",
       "      <th>param_classifier__loss</th>\n",
       "      <th></th>\n",
       "      <th></th>\n",
       "      <th></th>\n",
       "      <th></th>\n",
       "      <th></th>\n",
       "      <th></th>\n",
       "      <th></th>\n",
       "      <th></th>\n",
       "      <th></th>\n",
       "      <th></th>\n",
       "      <th></th>\n",
       "      <th></th>\n",
       "      <th></th>\n",
       "      <th></th>\n",
       "      <th></th>\n",
       "      <th></th>\n",
       "      <th></th>\n",
       "      <th></th>\n",
       "      <th></th>\n",
       "      <th></th>\n",
       "    </tr>\n",
       "  </thead>\n",
       "  <tbody>\n",
       "    <tr>\n",
       "      <th>hinge</th>\n",
       "      <td>49.0</td>\n",
       "      <td>107.804565</td>\n",
       "      <td>100.226841</td>\n",
       "      <td>1.132702</td>\n",
       "      <td>0.243089</td>\n",
       "      <td>0.206531</td>\n",
       "      <td>0.50005</td>\n",
       "      <td>0.609890</td>\n",
       "      <td>0.705055</td>\n",
       "      <td>0.628571</td>\n",
       "      <td>0.688791</td>\n",
       "      <td>0.570110</td>\n",
       "      <td>0.601099</td>\n",
       "      <td>0.667692</td>\n",
       "      <td>0.607912</td>\n",
       "      <td>0.630549</td>\n",
       "      <td>0.722198</td>\n",
       "      <td>0.643187</td>\n",
       "      <td>0.062984</td>\n",
       "      <td>56.32</td>\n",
       "    </tr>\n",
       "    <tr>\n",
       "      <th>log</th>\n",
       "      <td>50.0</td>\n",
       "      <td>96.745536</td>\n",
       "      <td>106.241133</td>\n",
       "      <td>1.123844</td>\n",
       "      <td>0.230225</td>\n",
       "      <td>0.206531</td>\n",
       "      <td>0.50005</td>\n",
       "      <td>0.629231</td>\n",
       "      <td>0.702198</td>\n",
       "      <td>0.686813</td>\n",
       "      <td>0.684615</td>\n",
       "      <td>0.550549</td>\n",
       "      <td>0.590330</td>\n",
       "      <td>0.650330</td>\n",
       "      <td>0.605934</td>\n",
       "      <td>0.726154</td>\n",
       "      <td>0.740000</td>\n",
       "      <td>0.656615</td>\n",
       "      <td>0.071795</td>\n",
       "      <td>33.72</td>\n",
       "    </tr>\n",
       "    <tr>\n",
       "      <th>modified_huber</th>\n",
       "      <td>51.0</td>\n",
       "      <td>131.234578</td>\n",
       "      <td>96.510271</td>\n",
       "      <td>1.094258</td>\n",
       "      <td>0.243310</td>\n",
       "      <td>0.206531</td>\n",
       "      <td>0.50005</td>\n",
       "      <td>0.638242</td>\n",
       "      <td>0.716264</td>\n",
       "      <td>0.660000</td>\n",
       "      <td>0.721758</td>\n",
       "      <td>0.551429</td>\n",
       "      <td>0.603736</td>\n",
       "      <td>0.669011</td>\n",
       "      <td>0.642637</td>\n",
       "      <td>0.726154</td>\n",
       "      <td>0.731868</td>\n",
       "      <td>0.666110</td>\n",
       "      <td>0.080055</td>\n",
       "      <td>34.04</td>\n",
       "    </tr>\n",
       "    <tr>\n",
       "      <th>squared_hinge</th>\n",
       "      <td>48.0</td>\n",
       "      <td>117.377572</td>\n",
       "      <td>103.048019</td>\n",
       "      <td>1.136656</td>\n",
       "      <td>0.241179</td>\n",
       "      <td>0.206531</td>\n",
       "      <td>0.50005</td>\n",
       "      <td>0.672308</td>\n",
       "      <td>0.725055</td>\n",
       "      <td>0.602637</td>\n",
       "      <td>0.672088</td>\n",
       "      <td>0.551429</td>\n",
       "      <td>0.586154</td>\n",
       "      <td>0.700659</td>\n",
       "      <td>0.641978</td>\n",
       "      <td>0.639560</td>\n",
       "      <td>0.708571</td>\n",
       "      <td>0.650044</td>\n",
       "      <td>0.060810</td>\n",
       "      <td>72.68</td>\n",
       "    </tr>\n",
       "  </tbody>\n",
       "</table>\n",
       "</div>"
      ],
      "text/plain": [
       "                        Unnamed: 0  mean_fit_time  std_fit_time  \\\n",
       "param_classifier__loss                                            \n",
       "hinge                         49.0     107.804565    100.226841   \n",
       "log                           50.0      96.745536    106.241133   \n",
       "modified_huber                51.0     131.234578     96.510271   \n",
       "squared_hinge                 48.0     117.377572    103.048019   \n",
       "\n",
       "                        mean_score_time  std_score_time  \\\n",
       "param_classifier__loss                                    \n",
       "hinge                          1.132702        0.243089   \n",
       "log                            1.123844        0.230225   \n",
       "modified_huber                 1.094258        0.243310   \n",
       "squared_hinge                  1.136656        0.241179   \n",
       "\n",
       "                        param_classifier__alpha  param_classifier__l1_ratio  \\\n",
       "param_classifier__loss                                                        \n",
       "hinge                                  0.206531                     0.50005   \n",
       "log                                    0.206531                     0.50005   \n",
       "modified_huber                         0.206531                     0.50005   \n",
       "squared_hinge                          0.206531                     0.50005   \n",
       "\n",
       "                        split0_test_score  split1_test_score  \\\n",
       "param_classifier__loss                                         \n",
       "hinge                            0.609890           0.705055   \n",
       "log                              0.629231           0.702198   \n",
       "modified_huber                   0.638242           0.716264   \n",
       "squared_hinge                    0.672308           0.725055   \n",
       "\n",
       "                        split2_test_score  split3_test_score  \\\n",
       "param_classifier__loss                                         \n",
       "hinge                            0.628571           0.688791   \n",
       "log                              0.686813           0.684615   \n",
       "modified_huber                   0.660000           0.721758   \n",
       "squared_hinge                    0.602637           0.672088   \n",
       "\n",
       "                        split4_test_score  split5_test_score  \\\n",
       "param_classifier__loss                                         \n",
       "hinge                            0.570110           0.601099   \n",
       "log                              0.550549           0.590330   \n",
       "modified_huber                   0.551429           0.603736   \n",
       "squared_hinge                    0.551429           0.586154   \n",
       "\n",
       "                        split6_test_score  split7_test_score  \\\n",
       "param_classifier__loss                                         \n",
       "hinge                            0.667692           0.607912   \n",
       "log                              0.650330           0.605934   \n",
       "modified_huber                   0.669011           0.642637   \n",
       "squared_hinge                    0.700659           0.641978   \n",
       "\n",
       "                        split8_test_score  split9_test_score  mean_test_score  \\\n",
       "param_classifier__loss                                                          \n",
       "hinge                            0.630549           0.722198         0.643187   \n",
       "log                              0.726154           0.740000         0.656615   \n",
       "modified_huber                   0.726154           0.731868         0.666110   \n",
       "squared_hinge                    0.639560           0.708571         0.650044   \n",
       "\n",
       "                        std_test_score  rank_test_score  \n",
       "param_classifier__loss                                   \n",
       "hinge                         0.062984            56.32  \n",
       "log                           0.071795            33.72  \n",
       "modified_huber                0.080055            34.04  \n",
       "squared_hinge                 0.060810            72.68  "
      ]
     },
     "execution_count": 49,
     "metadata": {},
     "output_type": "execute_result"
    }
   ],
   "source": [
    "res.groupby(\"param_classifier__loss\").mean(\"mean_test_score\")"
   ]
  },
  {
   "cell_type": "code",
   "execution_count": 66,
   "metadata": {},
   "outputs": [],
   "source": [
    "import plotly.graph_objects as go\n",
    "from plotly.offline import plot\n",
    "\n",
    "\n",
    "forplot = res.loc[res[\"param_classifier__loss\"] == \"log\"]\n",
    "z = forplot.pivot_table(columns=\"param_classifier__alpha\", index = \"param_classifier__l1_ratio\", values = \"mean_test_score\")\n",
    "\n",
    "fig = go.Figure(data=go.Heatmap(\n",
    "    y = np.sort(np.unique(forplot[\"param_classifier__l1_ratio\"])),\n",
    "    x = np.sort(np.unique(forplot[\"param_classifier__alpha\"])),\n",
    "    z = z,\n",
    "    type = \"heatmap\",\n",
    "    colorscale = \"Viridis\"))\n",
    "fig.update_layout(xaxis_type=\"log\", yaxis_type=\"linear\",\n",
    "                 xaxis = dict(\n",
    "                 title=\"alpha\"),\n",
    "                 yaxis = dict(\n",
    "                 title=\"l1_ratio\"))\n",
    "fig.write_image(\"plots/opt_SGD_poly2_log_3.pdf\")\n",
    "#plot(fig)"
   ]
  },
  {
   "cell_type": "markdown",
   "metadata": {},
   "source": [
    "Testing on the test set:"
   ]
  },
  {
   "cell_type": "code",
   "execution_count": 68,
   "metadata": {},
   "outputs": [
    {
     "name": "stderr",
     "output_type": "stream",
     "text": [
      "D:\\Programs\\Science\\Anaconda\\Anaconda\\lib\\site-packages\\seaborn\\distributions.py:2551: FutureWarning:\n",
      "\n",
      "`distplot` is a deprecated function and will be removed in a future version. Please adapt your code to use either `displot` (a figure-level function with similar flexibility) or `histplot` (an axes-level function for histograms).\n",
      "\n"
     ]
    },
    {
     "data": {
      "text/plain": [
       "<AxesSubplot:ylabel='Density'>"
      ]
     },
     "execution_count": 68,
     "metadata": {},
     "output_type": "execute_result"
    },
    {
     "data": {
      "image/png": "[encoded data removed]",
      "text/plain": [
       "<Figure size 432x288 with 1 Axes>"
      ]
     },
     "metadata": {},
     "output_type": "display_data"
    }
   ],
   "source": [
    "scr = metrics.make_scorer(metrics.roc_auc_score, needs_threshold=True)\n",
    "\n",
    "scores = []\n",
    "accuracy = []\n",
    "precision = []\n",
    "recall = []\n",
    "\n",
    "for i in range(0, 31):\n",
    "    clf = SGDClassifier(random_state = i, penalty=\"elasticnet\", alpha=3.162e-5, l1_ratio=0.0001, loss=\"log\")\n",
    "    \n",
    "    classifier = pipeline.Pipeline(steps=[\n",
    "        (\"scaling\", preprocessing.StandardScaler()),\n",
    "        (\"polynomial\", preprocessing.PolynomialFeatures(2)),\n",
    "        (\"classifier\", clf)\n",
    "    ])\n",
    "\n",
    "    classifier.fit(X_train, y_train)\n",
    "\n",
    "    scores.append(scr(classifier, X_test, y_test))\n",
    "    \n",
    "    predictions = classifier.predict(X_test)\n",
    "    \n",
    "    accuracy.append(metrics.accuracy_score(y_test, predictions))\n",
    "    precision.append(metrics.precision_score(y_test, predictions))\n",
    "    recall.append(metrics.recall_score(y_test, predictions))\n",
    "\n",
    "sns.distplot(scores)\n",
    "#etrics.plot_roc_curve(classifier, X_test, y_test)\n",
    "#metrics.plot_precision_recall_curve(classifier, X_test, y_test)"
   ]
  },
  {
   "cell_type": "code",
   "execution_count": 70,
   "metadata": {},
   "outputs": [
    {
     "name": "stdout",
     "output_type": "stream",
     "text": [
      "Median accuracy: 0.6379310344827587\n",
      "Median precision: 0.6153846153846154\n",
      "Median recall: 0.7931034482758621\n"
     ]
    }
   ],
   "source": [
    "print(\"Median accuracy:\", np.median(accuracy))\n",
    "print(\"Median precision:\", np.median(precision))\n",
    "print(\"Median recall:\", np.median(recall))"
   ]
  },
  {
   "cell_type": "code",
   "execution_count": 62,
   "metadata": {},
   "outputs": [
    {
     "name": "stderr",
     "output_type": "stream",
     "text": [
      "D:\\Programs\\Science\\Anaconda\\Anaconda\\lib\\site-packages\\seaborn\\distributions.py:2551: FutureWarning:\n",
      "\n",
      "`distplot` is a deprecated function and will be removed in a future version. Please adapt your code to use either `displot` (a figure-level function with similar flexibility) or `histplot` (an axes-level function for histograms).\n",
      "\n"
     ]
    },
    {
     "data": {
      "image/png": "[encoded data removed]",
      "text/plain": [
       "<Figure size 432x288 with 1 Axes>"
      ]
     },
     "metadata": {},
     "output_type": "display_data"
    }
   ],
   "source": [
    "plot = sns.distplot(scores)\n",
    "fig = plot.get_figure()\n",
    "fig.savefig(\"plots/dist_rocauc_poly2_test.png\", dpi=600)"
   ]
  },
  {
   "cell_type": "code",
   "execution_count": 63,
   "metadata": {},
   "outputs": [
    {
     "data": {
      "text/plain": [
       "0.7395957193816884"
      ]
     },
     "execution_count": 63,
     "metadata": {},
     "output_type": "execute_result"
    }
   ],
   "source": [
    "np.median(scores)"
   ]
  },
  {
   "cell_type": "code",
   "execution_count": 32,
   "metadata": {},
   "outputs": [
    {
     "name": "stdout",
     "output_type": "stream",
     "text": [
      "0.7740784780023781\n",
      "0.7740784780023781\n",
      "0.6551724137931034\n"
     ]
    },
    {
     "data": {
      "text/plain": [
       "<sklearn.metrics._plot.roc_curve.RocCurveDisplay at 0x21e727d2c50>"
      ]
     },
     "execution_count": 32,
     "metadata": {},
     "output_type": "execute_result"
    },
    {
     "data": {
      "image/png": "[encoded data removed]",
      "text/plain": [
       "<Figure size 432x288 with 1 Axes>"
      ]
     },
     "metadata": {},
     "output_type": "display_data"
    }
   ],
   "source": [
    "clf = SGDClassifier(random_state = 2, penalty=\"elasticnet\", alpha=1e-6, l1_ratio=0.0001, loss=\"hinge\")\n",
    "classifier = pipeline.Pipeline(steps=[\n",
    "        (\"scaling\", preprocessing.StandardScaler()),\n",
    "        (\"polynomial\", preprocessing.PolynomialFeatures(2)),\n",
    "        (\"classifier\", clf)\n",
    "    ])\n",
    "\n",
    "classifier.fit(X_train, y_train)\n",
    "               \n",
    "prediction = classifier.decision_function(X_test)\n",
    "\n",
    "fpr, tpr, thresholds = metrics.roc_curve(y_true = y_test, y_score = prediction)\n",
    "\n",
    "auc = metrics.auc(fpr, tpr)\n",
    "\n",
    "print(auc)\n",
    "\n",
    "scr = metrics.make_scorer(metrics.roc_auc_score, needs_threshold=True)\n",
    "\n",
    "print(scr(classifier, X_test, y_test))\n",
    "\n",
    "print(scorer(classifier, X_test, y_test))\n",
    "\n",
    "metrics.plot_roc_curve(classifier, X_test, y_test)"
   ]
  },
  {
   "cell_type": "code",
   "execution_count": 33,
   "metadata": {},
   "outputs": [
    {
     "data": {
      "text/plain": [
       "0.7740784780023781"
      ]
     },
     "execution_count": 33,
     "metadata": {},
     "output_type": "execute_result"
    }
   ],
   "source": [
    "metrics.roc_auc_score(y_true = y_test, y_score = classifier.decision_function(X_test))"
   ]
  },
  {
   "cell_type": "markdown",
   "metadata": {},
   "source": [
    "## Random Forest"
   ]
  },
  {
   "cell_type": "code",
   "execution_count": 15,
   "metadata": {},
   "outputs": [
    {
     "name": "stdout",
     "output_type": "stream",
     "text": [
      "Fitting 10 folds for each of 2106 candidates, totalling 21060 fits\n"
     ]
    },
    {
     "name": "stderr",
     "output_type": "stream",
     "text": [
      "[Parallel(n_jobs=-1)]: Using backend LokyBackend with 4 concurrent workers.\n",
      "[Parallel(n_jobs=-1)]: Done 154 tasks      | elapsed:    3.1s\n",
      "[Parallel(n_jobs=-1)]: Done 1330 tasks      | elapsed:   25.1s\n",
      "[Parallel(n_jobs=-1)]: Done 2672 tasks      | elapsed:   56.5s\n",
      "[Parallel(n_jobs=-1)]: Done 3866 tasks      | elapsed:  1.4min\n"
     ]
    },
    {
     "ename": "KeyboardInterrupt",
     "evalue": "",
     "output_type": "error",
     "traceback": [
      "\u001b[1;31m---------------------------------------------------------------------------\u001b[0m",
      "\u001b[1;31mKeyboardInterrupt\u001b[0m                         Traceback (most recent call last)",
      "\u001b[1;32m<ipython-input-15-c92b20aac2d3>\u001b[0m in \u001b[0;36m<module>\u001b[1;34m\u001b[0m\n\u001b[0;32m     13\u001b[0m \u001b[0mscorer\u001b[0m \u001b[1;33m=\u001b[0m \u001b[0mmetrics\u001b[0m\u001b[1;33m.\u001b[0m\u001b[0mmake_scorer\u001b[0m\u001b[1;33m(\u001b[0m\u001b[0mmetrics\u001b[0m\u001b[1;33m.\u001b[0m\u001b[0mroc_auc_score\u001b[0m\u001b[1;33m,\u001b[0m \u001b[0mneeds_threshold\u001b[0m\u001b[1;33m=\u001b[0m\u001b[1;32mTrue\u001b[0m\u001b[1;33m)\u001b[0m\u001b[1;33m\u001b[0m\u001b[1;33m\u001b[0m\u001b[0m\n\u001b[0;32m     14\u001b[0m \u001b[0mgrid_cv\u001b[0m \u001b[1;33m=\u001b[0m \u001b[0mmodel_selection\u001b[0m\u001b[1;33m.\u001b[0m\u001b[0mGridSearchCV\u001b[0m\u001b[1;33m(\u001b[0m\u001b[0mclf\u001b[0m\u001b[1;33m,\u001b[0m \u001b[0mparamgrid\u001b[0m\u001b[1;33m,\u001b[0m \u001b[0mscoring\u001b[0m \u001b[1;33m=\u001b[0m \u001b[0mscorer\u001b[0m\u001b[1;33m,\u001b[0m \u001b[0mcv\u001b[0m \u001b[1;33m=\u001b[0m \u001b[0mcv_strategy\u001b[0m\u001b[1;33m,\u001b[0m \u001b[0mn_jobs\u001b[0m\u001b[1;33m=\u001b[0m\u001b[1;33m-\u001b[0m\u001b[1;36m1\u001b[0m\u001b[1;33m,\u001b[0m \u001b[0mverbose\u001b[0m\u001b[1;33m=\u001b[0m\u001b[1;36m1\u001b[0m\u001b[1;33m)\u001b[0m\u001b[1;33m\u001b[0m\u001b[1;33m\u001b[0m\u001b[0m\n\u001b[1;32m---> 15\u001b[1;33m \u001b[0mgrid_cv\u001b[0m\u001b[1;33m.\u001b[0m\u001b[0mfit\u001b[0m\u001b[1;33m(\u001b[0m\u001b[0mX_train\u001b[0m\u001b[1;33m,\u001b[0m \u001b[0my_train\u001b[0m\u001b[1;33m)\u001b[0m\u001b[1;33m\u001b[0m\u001b[1;33m\u001b[0m\u001b[0m\n\u001b[0m",
      "\u001b[1;32m~\\Anaconda3\\lib\\site-packages\\sklearn\\model_selection\\_search.py\u001b[0m in \u001b[0;36mfit\u001b[1;34m(self, X, y, groups, **fit_params)\u001b[0m\n\u001b[0;32m    685\u001b[0m                 \u001b[1;32mreturn\u001b[0m \u001b[0mresults\u001b[0m\u001b[1;33m\u001b[0m\u001b[1;33m\u001b[0m\u001b[0m\n\u001b[0;32m    686\u001b[0m \u001b[1;33m\u001b[0m\u001b[0m\n\u001b[1;32m--> 687\u001b[1;33m             \u001b[0mself\u001b[0m\u001b[1;33m.\u001b[0m\u001b[0m_run_search\u001b[0m\u001b[1;33m(\u001b[0m\u001b[0mevaluate_candidates\u001b[0m\u001b[1;33m)\u001b[0m\u001b[1;33m\u001b[0m\u001b[1;33m\u001b[0m\u001b[0m\n\u001b[0m\u001b[0;32m    688\u001b[0m \u001b[1;33m\u001b[0m\u001b[0m\n\u001b[0;32m    689\u001b[0m         \u001b[1;31m# For multi-metric evaluation, store the best_index_, best_params_ and\u001b[0m\u001b[1;33m\u001b[0m\u001b[1;33m\u001b[0m\u001b[1;33m\u001b[0m\u001b[0m\n",
      "\u001b[1;32m~\\Anaconda3\\lib\\site-packages\\sklearn\\model_selection\\_search.py\u001b[0m in \u001b[0;36m_run_search\u001b[1;34m(self, evaluate_candidates)\u001b[0m\n\u001b[0;32m   1146\u001b[0m     \u001b[1;32mdef\u001b[0m \u001b[0m_run_search\u001b[0m\u001b[1;33m(\u001b[0m\u001b[0mself\u001b[0m\u001b[1;33m,\u001b[0m \u001b[0mevaluate_candidates\u001b[0m\u001b[1;33m)\u001b[0m\u001b[1;33m:\u001b[0m\u001b[1;33m\u001b[0m\u001b[1;33m\u001b[0m\u001b[0m\n\u001b[0;32m   1147\u001b[0m         \u001b[1;34m\"\"\"Search all candidates in param_grid\"\"\"\u001b[0m\u001b[1;33m\u001b[0m\u001b[1;33m\u001b[0m\u001b[0m\n\u001b[1;32m-> 1148\u001b[1;33m         \u001b[0mevaluate_candidates\u001b[0m\u001b[1;33m(\u001b[0m\u001b[0mParameterGrid\u001b[0m\u001b[1;33m(\u001b[0m\u001b[0mself\u001b[0m\u001b[1;33m.\u001b[0m\u001b[0mparam_grid\u001b[0m\u001b[1;33m)\u001b[0m\u001b[1;33m)\u001b[0m\u001b[1;33m\u001b[0m\u001b[1;33m\u001b[0m\u001b[0m\n\u001b[0m\u001b[0;32m   1149\u001b[0m \u001b[1;33m\u001b[0m\u001b[0m\n\u001b[0;32m   1150\u001b[0m \u001b[1;33m\u001b[0m\u001b[0m\n",
      "\u001b[1;32m~\\Anaconda3\\lib\\site-packages\\sklearn\\model_selection\\_search.py\u001b[0m in \u001b[0;36mevaluate_candidates\u001b[1;34m(candidate_params)\u001b[0m\n\u001b[0;32m    664\u001b[0m                                \u001b[1;32mfor\u001b[0m \u001b[0mparameters\u001b[0m\u001b[1;33m,\u001b[0m \u001b[1;33m(\u001b[0m\u001b[0mtrain\u001b[0m\u001b[1;33m,\u001b[0m \u001b[0mtest\u001b[0m\u001b[1;33m)\u001b[0m\u001b[1;33m\u001b[0m\u001b[1;33m\u001b[0m\u001b[0m\n\u001b[0;32m    665\u001b[0m                                in product(candidate_params,\n\u001b[1;32m--> 666\u001b[1;33m                                           cv.split(X, y, groups)))\n\u001b[0m\u001b[0;32m    667\u001b[0m \u001b[1;33m\u001b[0m\u001b[0m\n\u001b[0;32m    668\u001b[0m                 \u001b[1;32mif\u001b[0m \u001b[0mlen\u001b[0m\u001b[1;33m(\u001b[0m\u001b[0mout\u001b[0m\u001b[1;33m)\u001b[0m \u001b[1;33m<\u001b[0m \u001b[1;36m1\u001b[0m\u001b[1;33m:\u001b[0m\u001b[1;33m\u001b[0m\u001b[1;33m\u001b[0m\u001b[0m\n",
      "\u001b[1;32m~\\Anaconda3\\lib\\site-packages\\joblib\\parallel.py\u001b[0m in \u001b[0;36m__call__\u001b[1;34m(self, iterable)\u001b[0m\n\u001b[0;32m    932\u001b[0m \u001b[1;33m\u001b[0m\u001b[0m\n\u001b[0;32m    933\u001b[0m             \u001b[1;32mwith\u001b[0m \u001b[0mself\u001b[0m\u001b[1;33m.\u001b[0m\u001b[0m_backend\u001b[0m\u001b[1;33m.\u001b[0m\u001b[0mretrieval_context\u001b[0m\u001b[1;33m(\u001b[0m\u001b[1;33m)\u001b[0m\u001b[1;33m:\u001b[0m\u001b[1;33m\u001b[0m\u001b[1;33m\u001b[0m\u001b[0m\n\u001b[1;32m--> 934\u001b[1;33m                 \u001b[0mself\u001b[0m\u001b[1;33m.\u001b[0m\u001b[0mretrieve\u001b[0m\u001b[1;33m(\u001b[0m\u001b[1;33m)\u001b[0m\u001b[1;33m\u001b[0m\u001b[1;33m\u001b[0m\u001b[0m\n\u001b[0m\u001b[0;32m    935\u001b[0m             \u001b[1;31m# Make sure that we get a last message telling us we are done\u001b[0m\u001b[1;33m\u001b[0m\u001b[1;33m\u001b[0m\u001b[1;33m\u001b[0m\u001b[0m\n\u001b[0;32m    936\u001b[0m             \u001b[0melapsed_time\u001b[0m \u001b[1;33m=\u001b[0m \u001b[0mtime\u001b[0m\u001b[1;33m.\u001b[0m\u001b[0mtime\u001b[0m\u001b[1;33m(\u001b[0m\u001b[1;33m)\u001b[0m \u001b[1;33m-\u001b[0m \u001b[0mself\u001b[0m\u001b[1;33m.\u001b[0m\u001b[0m_start_time\u001b[0m\u001b[1;33m\u001b[0m\u001b[1;33m\u001b[0m\u001b[0m\n",
      "\u001b[1;32m~\\Anaconda3\\lib\\site-packages\\joblib\\parallel.py\u001b[0m in \u001b[0;36mretrieve\u001b[1;34m(self)\u001b[0m\n\u001b[0;32m    831\u001b[0m             \u001b[1;32mtry\u001b[0m\u001b[1;33m:\u001b[0m\u001b[1;33m\u001b[0m\u001b[1;33m\u001b[0m\u001b[0m\n\u001b[0;32m    832\u001b[0m                 \u001b[1;32mif\u001b[0m \u001b[0mgetattr\u001b[0m\u001b[1;33m(\u001b[0m\u001b[0mself\u001b[0m\u001b[1;33m.\u001b[0m\u001b[0m_backend\u001b[0m\u001b[1;33m,\u001b[0m \u001b[1;34m'supports_timeout'\u001b[0m\u001b[1;33m,\u001b[0m \u001b[1;32mFalse\u001b[0m\u001b[1;33m)\u001b[0m\u001b[1;33m:\u001b[0m\u001b[1;33m\u001b[0m\u001b[1;33m\u001b[0m\u001b[0m\n\u001b[1;32m--> 833\u001b[1;33m                     \u001b[0mself\u001b[0m\u001b[1;33m.\u001b[0m\u001b[0m_output\u001b[0m\u001b[1;33m.\u001b[0m\u001b[0mextend\u001b[0m\u001b[1;33m(\u001b[0m\u001b[0mjob\u001b[0m\u001b[1;33m.\u001b[0m\u001b[0mget\u001b[0m\u001b[1;33m(\u001b[0m\u001b[0mtimeout\u001b[0m\u001b[1;33m=\u001b[0m\u001b[0mself\u001b[0m\u001b[1;33m.\u001b[0m\u001b[0mtimeout\u001b[0m\u001b[1;33m)\u001b[0m\u001b[1;33m)\u001b[0m\u001b[1;33m\u001b[0m\u001b[1;33m\u001b[0m\u001b[0m\n\u001b[0m\u001b[0;32m    834\u001b[0m                 \u001b[1;32melse\u001b[0m\u001b[1;33m:\u001b[0m\u001b[1;33m\u001b[0m\u001b[1;33m\u001b[0m\u001b[0m\n\u001b[0;32m    835\u001b[0m                     \u001b[0mself\u001b[0m\u001b[1;33m.\u001b[0m\u001b[0m_output\u001b[0m\u001b[1;33m.\u001b[0m\u001b[0mextend\u001b[0m\u001b[1;33m(\u001b[0m\u001b[0mjob\u001b[0m\u001b[1;33m.\u001b[0m\u001b[0mget\u001b[0m\u001b[1;33m(\u001b[0m\u001b[1;33m)\u001b[0m\u001b[1;33m)\u001b[0m\u001b[1;33m\u001b[0m\u001b[1;33m\u001b[0m\u001b[0m\n",
      "\u001b[1;32m~\\Anaconda3\\lib\\site-packages\\joblib\\_parallel_backends.py\u001b[0m in \u001b[0;36mwrap_future_result\u001b[1;34m(future, timeout)\u001b[0m\n\u001b[0;32m    519\u001b[0m         AsyncResults.get from multiprocessing.\"\"\"\n\u001b[0;32m    520\u001b[0m         \u001b[1;32mtry\u001b[0m\u001b[1;33m:\u001b[0m\u001b[1;33m\u001b[0m\u001b[1;33m\u001b[0m\u001b[0m\n\u001b[1;32m--> 521\u001b[1;33m             \u001b[1;32mreturn\u001b[0m \u001b[0mfuture\u001b[0m\u001b[1;33m.\u001b[0m\u001b[0mresult\u001b[0m\u001b[1;33m(\u001b[0m\u001b[0mtimeout\u001b[0m\u001b[1;33m=\u001b[0m\u001b[0mtimeout\u001b[0m\u001b[1;33m)\u001b[0m\u001b[1;33m\u001b[0m\u001b[1;33m\u001b[0m\u001b[0m\n\u001b[0m\u001b[0;32m    522\u001b[0m         \u001b[1;32mexcept\u001b[0m \u001b[0mLokyTimeoutError\u001b[0m\u001b[1;33m:\u001b[0m\u001b[1;33m\u001b[0m\u001b[1;33m\u001b[0m\u001b[0m\n\u001b[0;32m    523\u001b[0m             \u001b[1;32mraise\u001b[0m \u001b[0mTimeoutError\u001b[0m\u001b[1;33m(\u001b[0m\u001b[1;33m)\u001b[0m\u001b[1;33m\u001b[0m\u001b[1;33m\u001b[0m\u001b[0m\n",
      "\u001b[1;32m~\\Anaconda3\\lib\\concurrent\\futures\\_base.py\u001b[0m in \u001b[0;36mresult\u001b[1;34m(self, timeout)\u001b[0m\n\u001b[0;32m    425\u001b[0m                 \u001b[1;32mreturn\u001b[0m \u001b[0mself\u001b[0m\u001b[1;33m.\u001b[0m\u001b[0m__get_result\u001b[0m\u001b[1;33m(\u001b[0m\u001b[1;33m)\u001b[0m\u001b[1;33m\u001b[0m\u001b[1;33m\u001b[0m\u001b[0m\n\u001b[0;32m    426\u001b[0m \u001b[1;33m\u001b[0m\u001b[0m\n\u001b[1;32m--> 427\u001b[1;33m             \u001b[0mself\u001b[0m\u001b[1;33m.\u001b[0m\u001b[0m_condition\u001b[0m\u001b[1;33m.\u001b[0m\u001b[0mwait\u001b[0m\u001b[1;33m(\u001b[0m\u001b[0mtimeout\u001b[0m\u001b[1;33m)\u001b[0m\u001b[1;33m\u001b[0m\u001b[1;33m\u001b[0m\u001b[0m\n\u001b[0m\u001b[0;32m    428\u001b[0m \u001b[1;33m\u001b[0m\u001b[0m\n\u001b[0;32m    429\u001b[0m             \u001b[1;32mif\u001b[0m \u001b[0mself\u001b[0m\u001b[1;33m.\u001b[0m\u001b[0m_state\u001b[0m \u001b[1;32min\u001b[0m \u001b[1;33m[\u001b[0m\u001b[0mCANCELLED\u001b[0m\u001b[1;33m,\u001b[0m \u001b[0mCANCELLED_AND_NOTIFIED\u001b[0m\u001b[1;33m]\u001b[0m\u001b[1;33m:\u001b[0m\u001b[1;33m\u001b[0m\u001b[1;33m\u001b[0m\u001b[0m\n",
      "\u001b[1;32m~\\Anaconda3\\lib\\threading.py\u001b[0m in \u001b[0;36mwait\u001b[1;34m(self, timeout)\u001b[0m\n\u001b[0;32m    294\u001b[0m         \u001b[1;32mtry\u001b[0m\u001b[1;33m:\u001b[0m    \u001b[1;31m# restore state no matter what (e.g., KeyboardInterrupt)\u001b[0m\u001b[1;33m\u001b[0m\u001b[1;33m\u001b[0m\u001b[0m\n\u001b[0;32m    295\u001b[0m             \u001b[1;32mif\u001b[0m \u001b[0mtimeout\u001b[0m \u001b[1;32mis\u001b[0m \u001b[1;32mNone\u001b[0m\u001b[1;33m:\u001b[0m\u001b[1;33m\u001b[0m\u001b[1;33m\u001b[0m\u001b[0m\n\u001b[1;32m--> 296\u001b[1;33m                 \u001b[0mwaiter\u001b[0m\u001b[1;33m.\u001b[0m\u001b[0macquire\u001b[0m\u001b[1;33m(\u001b[0m\u001b[1;33m)\u001b[0m\u001b[1;33m\u001b[0m\u001b[1;33m\u001b[0m\u001b[0m\n\u001b[0m\u001b[0;32m    297\u001b[0m                 \u001b[0mgotit\u001b[0m \u001b[1;33m=\u001b[0m \u001b[1;32mTrue\u001b[0m\u001b[1;33m\u001b[0m\u001b[1;33m\u001b[0m\u001b[0m\n\u001b[0;32m    298\u001b[0m             \u001b[1;32melse\u001b[0m\u001b[1;33m:\u001b[0m\u001b[1;33m\u001b[0m\u001b[1;33m\u001b[0m\u001b[0m\n",
      "\u001b[1;31mKeyboardInterrupt\u001b[0m: "
     ]
    }
   ],
   "source": [
    "clf = RandomForestClassifier(random_state = 0)\n",
    "\n",
    "\n",
    "paramgrid = {\n",
    "    \"n_estimators\" : np.arange(10, 205, 5),\n",
    "    \"max_depth\" : np.arange(2, 5),\n",
    "    \"criterion\" : [\"gini\", \"entropy\"],\n",
    "    \"max_features\": np.arange(5, 50, 5)\n",
    "}\n",
    "\n",
    "#cv_strategy = model_selection.StratifiedKFold(n_splits = 10, shuffle = True, random_state = 1)\n",
    "cv_strategy = model_selection.StratifiedShuffleSplit(n_splits=10, test_size=0.2, random_state=0)\n",
    "scorer = metrics.make_scorer(metrics.roc_auc_score, needs_threshold=True)\n",
    "grid_cv = model_selection.GridSearchCV(clf, paramgrid, scoring = scorer, cv = cv_strategy, n_jobs=-1, verbose=1)\n",
    "grid_cv.fit(X_train, y_train)"
   ]
  },
  {
   "cell_type": "code",
   "execution_count": 6,
   "metadata": {},
   "outputs": [
    {
     "data": {
      "text/plain": [
       "array([ 5, 10, 15, 20, 25, 30, 35, 40, 45])"
      ]
     },
     "execution_count": 6,
     "metadata": {},
     "output_type": "execute_result"
    }
   ],
   "source": [
    "np.arange(5, 50, 5)"
   ]
  },
  {
   "cell_type": "markdown",
   "metadata": {},
   "source": [
    "## Legacy code"
   ]
  },
  {
   "cell_type": "code",
   "execution_count": 5,
   "metadata": {},
   "outputs": [],
   "source": [
    "classifier = LogisticRegression(random_state = 1)\n",
    "cv_strategy = model_selection.StratifiedKFold(n_splits = 10, shuffle = True, random_state = 1)\n",
    "scorer = metrics.make_scorer(metrics.roc_auc_score)"
   ]
  },
  {
   "cell_type": "code",
   "execution_count": 12,
   "metadata": {},
   "outputs": [],
   "source": [
    "scoring = model_selection.cross_val_score(classifier, X, y, scoring = scorer, cv = cv_strategy)"
   ]
  },
  {
   "cell_type": "code",
   "execution_count": 13,
   "metadata": {},
   "outputs": [
    {
     "name": "stdout",
     "output_type": "stream",
     "text": [
      "Log mean:0.6261111111111111, max:0.7944444444444444, min:0.4611111111111111, std:0.08770214744615246\n"
     ]
    }
   ],
   "source": [
    "print('Log mean:{}, max:{}, min:{}, std:{}'.format(scoring.mean(), scoring.max(), \n",
    "                                                   scoring.min(), scoring.std()))"
   ]
  },
  {
   "cell_type": "code",
   "execution_count": null,
   "metadata": {},
   "outputs": [],
   "source": []
  },
  {
   "cell_type": "code",
   "execution_count": 52,
   "metadata": {},
   "outputs": [],
   "source": [
    "trainingdata[\"class\"] = np.append(np.repeat(1, 96), np.repeat(0, 96))"
   ]
  },
  {
   "cell_type": "code",
   "execution_count": 31,
   "metadata": {},
   "outputs": [
    {
     "data": {
      "text/html": [
       "<div>\n",
       "<style scoped>\n",
       "    .dataframe tbody tr th:only-of-type {\n",
       "        vertical-align: middle;\n",
       "    }\n",
       "\n",
       "    .dataframe tbody tr th {\n",
       "        vertical-align: top;\n",
       "    }\n",
       "\n",
       "    .dataframe thead th {\n",
       "        text-align: right;\n",
       "    }\n",
       "</style>\n",
       "<table border=\"1\" class=\"dataframe\">\n",
       "  <thead>\n",
       "    <tr style=\"text-align: right;\">\n",
       "      <th></th>\n",
       "      <th>X5720</th>\n",
       "      <th>X466</th>\n",
       "      <th>X6009</th>\n",
       "      <th>X2309</th>\n",
       "      <th>X387</th>\n",
       "      <th>X3553</th>\n",
       "      <th>X427</th>\n",
       "      <th>X5898</th>\n",
       "      <th>X23365</th>\n",
       "      <th>X6657</th>\n",
       "      <th>...</th>\n",
       "      <th>X9738</th>\n",
       "      <th>X6793</th>\n",
       "      <th>X7358</th>\n",
       "      <th>X58472</th>\n",
       "      <th>X50865</th>\n",
       "      <th>X23200</th>\n",
       "      <th>X51293</th>\n",
       "      <th>X10962</th>\n",
       "      <th>X10153</th>\n",
       "      <th>X874</th>\n",
       "    </tr>\n",
       "  </thead>\n",
       "  <tbody>\n",
       "    <tr>\n",
       "      <th>0</th>\n",
       "      <td>0.572005</td>\n",
       "      <td>-0.215412</td>\n",
       "      <td>0.173019</td>\n",
       "      <td>0.489742</td>\n",
       "      <td>0.420306</td>\n",
       "      <td>-0.339560</td>\n",
       "      <td>-0.052438</td>\n",
       "      <td>-0.278286</td>\n",
       "      <td>0.062474</td>\n",
       "      <td>-0.595485</td>\n",
       "      <td>...</td>\n",
       "      <td>0.214504</td>\n",
       "      <td>-1.008332</td>\n",
       "      <td>-0.932064</td>\n",
       "      <td>0.196377</td>\n",
       "      <td>0.388575</td>\n",
       "      <td>-0.675791</td>\n",
       "      <td>0.237582</td>\n",
       "      <td>0.077460</td>\n",
       "      <td>0.445300</td>\n",
       "      <td>0.430141</td>\n",
       "    </tr>\n",
       "    <tr>\n",
       "      <th>1</th>\n",
       "      <td>0.156599</td>\n",
       "      <td>-0.205048</td>\n",
       "      <td>0.022631</td>\n",
       "      <td>0.266661</td>\n",
       "      <td>-0.024832</td>\n",
       "      <td>0.242809</td>\n",
       "      <td>-0.038130</td>\n",
       "      <td>-0.007111</td>\n",
       "      <td>0.194066</td>\n",
       "      <td>-0.002117</td>\n",
       "      <td>...</td>\n",
       "      <td>0.722045</td>\n",
       "      <td>0.302664</td>\n",
       "      <td>-0.190207</td>\n",
       "      <td>-0.063637</td>\n",
       "      <td>-0.233029</td>\n",
       "      <td>-0.346681</td>\n",
       "      <td>0.019575</td>\n",
       "      <td>0.062390</td>\n",
       "      <td>0.088810</td>\n",
       "      <td>0.232947</td>\n",
       "    </tr>\n",
       "    <tr>\n",
       "      <th>2</th>\n",
       "      <td>0.144802</td>\n",
       "      <td>-1.361585</td>\n",
       "      <td>0.274811</td>\n",
       "      <td>0.320524</td>\n",
       "      <td>0.294310</td>\n",
       "      <td>0.437889</td>\n",
       "      <td>-0.410621</td>\n",
       "      <td>-1.944621</td>\n",
       "      <td>1.114904</td>\n",
       "      <td>0.391805</td>\n",
       "      <td>...</td>\n",
       "      <td>-0.814418</td>\n",
       "      <td>0.090174</td>\n",
       "      <td>-1.075967</td>\n",
       "      <td>0.063934</td>\n",
       "      <td>-0.699627</td>\n",
       "      <td>0.559719</td>\n",
       "      <td>0.558929</td>\n",
       "      <td>-0.233413</td>\n",
       "      <td>0.507622</td>\n",
       "      <td>0.170530</td>\n",
       "    </tr>\n",
       "    <tr>\n",
       "      <th>3</th>\n",
       "      <td>0.571052</td>\n",
       "      <td>-2.094509</td>\n",
       "      <td>-1.362594</td>\n",
       "      <td>1.188793</td>\n",
       "      <td>0.796376</td>\n",
       "      <td>0.523494</td>\n",
       "      <td>0.119419</td>\n",
       "      <td>1.646214</td>\n",
       "      <td>1.405747</td>\n",
       "      <td>1.342340</td>\n",
       "      <td>...</td>\n",
       "      <td>1.620770</td>\n",
       "      <td>1.148686</td>\n",
       "      <td>-4.769783</td>\n",
       "      <td>-0.598601</td>\n",
       "      <td>2.829943</td>\n",
       "      <td>2.217611</td>\n",
       "      <td>-0.849854</td>\n",
       "      <td>-1.417561</td>\n",
       "      <td>2.965447</td>\n",
       "      <td>-3.550254</td>\n",
       "    </tr>\n",
       "    <tr>\n",
       "      <th>4</th>\n",
       "      <td>0.519844</td>\n",
       "      <td>0.279864</td>\n",
       "      <td>-0.065269</td>\n",
       "      <td>-0.025814</td>\n",
       "      <td>0.543482</td>\n",
       "      <td>0.184110</td>\n",
       "      <td>0.275908</td>\n",
       "      <td>0.320203</td>\n",
       "      <td>-0.121650</td>\n",
       "      <td>-0.446459</td>\n",
       "      <td>...</td>\n",
       "      <td>0.196816</td>\n",
       "      <td>0.605350</td>\n",
       "      <td>-0.261210</td>\n",
       "      <td>0.428848</td>\n",
       "      <td>0.486934</td>\n",
       "      <td>0.002326</td>\n",
       "      <td>0.151491</td>\n",
       "      <td>0.228473</td>\n",
       "      <td>-0.580365</td>\n",
       "      <td>0.917084</td>\n",
       "    </tr>\n",
       "  </tbody>\n",
       "</table>\n",
       "<p>5 rows × 978 columns</p>\n",
       "</div>"
      ],
      "text/plain": [
       "      X5720      X466     X6009     X2309      X387     X3553      X427  \\\n",
       "0  0.572005 -0.215412  0.173019  0.489742  0.420306 -0.339560 -0.052438   \n",
       "1  0.156599 -0.205048  0.022631  0.266661 -0.024832  0.242809 -0.038130   \n",
       "2  0.144802 -1.361585  0.274811  0.320524  0.294310  0.437889 -0.410621   \n",
       "3  0.571052 -2.094509 -1.362594  1.188793  0.796376  0.523494  0.119419   \n",
       "4  0.519844  0.279864 -0.065269 -0.025814  0.543482  0.184110  0.275908   \n",
       "\n",
       "      X5898    X23365     X6657  ...     X9738     X6793     X7358    X58472  \\\n",
       "0 -0.278286  0.062474 -0.595485  ...  0.214504 -1.008332 -0.932064  0.196377   \n",
       "1 -0.007111  0.194066 -0.002117  ...  0.722045  0.302664 -0.190207 -0.063637   \n",
       "2 -1.944621  1.114904  0.391805  ... -0.814418  0.090174 -1.075967  0.063934   \n",
       "3  1.646214  1.405747  1.342340  ...  1.620770  1.148686 -4.769783 -0.598601   \n",
       "4  0.320203 -0.121650 -0.446459  ...  0.196816  0.605350 -0.261210  0.428848   \n",
       "\n",
       "     X50865    X23200    X51293    X10962    X10153      X874  \n",
       "0  0.388575 -0.675791  0.237582  0.077460  0.445300  0.430141  \n",
       "1 -0.233029 -0.346681  0.019575  0.062390  0.088810  0.232947  \n",
       "2 -0.699627  0.559719  0.558929 -0.233413  0.507622  0.170530  \n",
       "3  2.829943  2.217611 -0.849854 -1.417561  2.965447 -3.550254  \n",
       "4  0.486934  0.002326  0.151491  0.228473 -0.580365  0.917084  \n",
       "\n",
       "[5 rows x 978 columns]"
      ]
     },
     "execution_count": 31,
     "metadata": {},
     "output_type": "execute_result"
    }
   ],
   "source": [
    "trainingdata.iloc[:, 1:979].head()"
   ]
  },
  {
   "cell_type": "code",
   "execution_count": 82,
   "metadata": {},
   "outputs": [
    {
     "ename": "PerfectSeparationError",
     "evalue": "Perfect separation detected, results not available",
     "output_type": "error",
     "traceback": [
      "\u001b[1;31m---------------------------------------------------------------------------\u001b[0m",
      "\u001b[1;31mPerfectSeparationError\u001b[0m                    Traceback (most recent call last)",
      "\u001b[1;32m<ipython-input-82-0295a5d55389>\u001b[0m in \u001b[0;36m<module>\u001b[1;34m\u001b[0m\n\u001b[0;32m      8\u001b[0m \u001b[0my\u001b[0m \u001b[1;33m=\u001b[0m \u001b[0mtrainingdata\u001b[0m\u001b[1;33m[\u001b[0m\u001b[1;34m\"class\"\u001b[0m\u001b[1;33m]\u001b[0m\u001b[1;33m\u001b[0m\u001b[1;33m\u001b[0m\u001b[0m\n\u001b[0;32m      9\u001b[0m \u001b[0mlogit_model\u001b[0m\u001b[1;33m=\u001b[0m\u001b[0msm\u001b[0m\u001b[1;33m.\u001b[0m\u001b[0mLogit\u001b[0m\u001b[1;33m(\u001b[0m\u001b[0my\u001b[0m\u001b[1;33m,\u001b[0m\u001b[0mX\u001b[0m\u001b[1;33m)\u001b[0m\u001b[1;33m\u001b[0m\u001b[1;33m\u001b[0m\u001b[0m\n\u001b[1;32m---> 10\u001b[1;33m \u001b[0mresult\u001b[0m\u001b[1;33m=\u001b[0m\u001b[0mlogit_model\u001b[0m\u001b[1;33m.\u001b[0m\u001b[0mfit\u001b[0m\u001b[1;33m(\u001b[0m\u001b[1;33m)\u001b[0m\u001b[1;33m\u001b[0m\u001b[1;33m\u001b[0m\u001b[0m\n\u001b[0m\u001b[0;32m     11\u001b[0m \u001b[1;33m\u001b[0m\u001b[0m\n\u001b[0;32m     12\u001b[0m \u001b[1;33m\u001b[0m\u001b[0m\n",
      "\u001b[1;32mD:\\Programs\\Science\\Anaconda\\Anaconda\\lib\\site-packages\\statsmodels\\discrete\\discrete_model.py\u001b[0m in \u001b[0;36mfit\u001b[1;34m(self, start_params, method, maxiter, full_output, disp, callback, **kwargs)\u001b[0m\n\u001b[0;32m   1967\u001b[0m                               \u001b[0mdisp\u001b[0m\u001b[1;33m=\u001b[0m\u001b[0mdisp\u001b[0m\u001b[1;33m,\u001b[0m\u001b[1;33m\u001b[0m\u001b[1;33m\u001b[0m\u001b[0m\n\u001b[0;32m   1968\u001b[0m                               \u001b[0mcallback\u001b[0m\u001b[1;33m=\u001b[0m\u001b[0mcallback\u001b[0m\u001b[1;33m,\u001b[0m\u001b[1;33m\u001b[0m\u001b[1;33m\u001b[0m\u001b[0m\n\u001b[1;32m-> 1969\u001b[1;33m                               **kwargs)\n\u001b[0m\u001b[0;32m   1970\u001b[0m \u001b[1;33m\u001b[0m\u001b[0m\n\u001b[0;32m   1971\u001b[0m         \u001b[0mdiscretefit\u001b[0m \u001b[1;33m=\u001b[0m \u001b[0mLogitResults\u001b[0m\u001b[1;33m(\u001b[0m\u001b[0mself\u001b[0m\u001b[1;33m,\u001b[0m \u001b[0mbnryfit\u001b[0m\u001b[1;33m)\u001b[0m\u001b[1;33m\u001b[0m\u001b[1;33m\u001b[0m\u001b[0m\n",
      "\u001b[1;32mD:\\Programs\\Science\\Anaconda\\Anaconda\\lib\\site-packages\\statsmodels\\discrete\\discrete_model.py\u001b[0m in \u001b[0;36mfit\u001b[1;34m(self, start_params, method, maxiter, full_output, disp, callback, **kwargs)\u001b[0m\n\u001b[0;32m    231\u001b[0m                              \u001b[0mdisp\u001b[0m\u001b[1;33m=\u001b[0m\u001b[0mdisp\u001b[0m\u001b[1;33m,\u001b[0m\u001b[1;33m\u001b[0m\u001b[1;33m\u001b[0m\u001b[0m\n\u001b[0;32m    232\u001b[0m                              \u001b[0mcallback\u001b[0m\u001b[1;33m=\u001b[0m\u001b[0mcallback\u001b[0m\u001b[1;33m,\u001b[0m\u001b[1;33m\u001b[0m\u001b[1;33m\u001b[0m\u001b[0m\n\u001b[1;32m--> 233\u001b[1;33m                              **kwargs)\n\u001b[0m\u001b[0;32m    234\u001b[0m \u001b[1;33m\u001b[0m\u001b[0m\n\u001b[0;32m    235\u001b[0m         \u001b[1;32mreturn\u001b[0m \u001b[0mmlefit\u001b[0m  \u001b[1;31m# It is up to subclasses to wrap results\u001b[0m\u001b[1;33m\u001b[0m\u001b[1;33m\u001b[0m\u001b[0m\n",
      "\u001b[1;32mD:\\Programs\\Science\\Anaconda\\Anaconda\\lib\\site-packages\\statsmodels\\base\\model.py\u001b[0m in \u001b[0;36mfit\u001b[1;34m(self, start_params, method, maxiter, full_output, disp, fargs, callback, retall, skip_hessian, **kwargs)\u001b[0m\n\u001b[0;32m    525\u001b[0m                                                        \u001b[0mcallback\u001b[0m\u001b[1;33m=\u001b[0m\u001b[0mcallback\u001b[0m\u001b[1;33m,\u001b[0m\u001b[1;33m\u001b[0m\u001b[1;33m\u001b[0m\u001b[0m\n\u001b[0;32m    526\u001b[0m                                                        \u001b[0mretall\u001b[0m\u001b[1;33m=\u001b[0m\u001b[0mretall\u001b[0m\u001b[1;33m,\u001b[0m\u001b[1;33m\u001b[0m\u001b[1;33m\u001b[0m\u001b[0m\n\u001b[1;32m--> 527\u001b[1;33m                                                        full_output=full_output)\n\u001b[0m\u001b[0;32m    528\u001b[0m \u001b[1;33m\u001b[0m\u001b[0m\n\u001b[0;32m    529\u001b[0m         \u001b[1;31m# NOTE: this is for fit_regularized and should be generalized\u001b[0m\u001b[1;33m\u001b[0m\u001b[1;33m\u001b[0m\u001b[1;33m\u001b[0m\u001b[0m\n",
      "\u001b[1;32mD:\\Programs\\Science\\Anaconda\\Anaconda\\lib\\site-packages\\statsmodels\\base\\optimizer.py\u001b[0m in \u001b[0;36m_fit\u001b[1;34m(self, objective, gradient, start_params, fargs, kwargs, hessian, method, maxiter, full_output, disp, callback, retall)\u001b[0m\n\u001b[0;32m    216\u001b[0m                             \u001b[0mdisp\u001b[0m\u001b[1;33m=\u001b[0m\u001b[0mdisp\u001b[0m\u001b[1;33m,\u001b[0m \u001b[0mmaxiter\u001b[0m\u001b[1;33m=\u001b[0m\u001b[0mmaxiter\u001b[0m\u001b[1;33m,\u001b[0m \u001b[0mcallback\u001b[0m\u001b[1;33m=\u001b[0m\u001b[0mcallback\u001b[0m\u001b[1;33m,\u001b[0m\u001b[1;33m\u001b[0m\u001b[1;33m\u001b[0m\u001b[0m\n\u001b[0;32m    217\u001b[0m                             \u001b[0mretall\u001b[0m\u001b[1;33m=\u001b[0m\u001b[0mretall\u001b[0m\u001b[1;33m,\u001b[0m \u001b[0mfull_output\u001b[0m\u001b[1;33m=\u001b[0m\u001b[0mfull_output\u001b[0m\u001b[1;33m,\u001b[0m\u001b[1;33m\u001b[0m\u001b[1;33m\u001b[0m\u001b[0m\n\u001b[1;32m--> 218\u001b[1;33m                             hess=hessian)\n\u001b[0m\u001b[0;32m    219\u001b[0m \u001b[1;33m\u001b[0m\u001b[0m\n\u001b[0;32m    220\u001b[0m         optim_settings = {'optimizer': method, 'start_params': start_params,\n",
      "\u001b[1;32mD:\\Programs\\Science\\Anaconda\\Anaconda\\lib\\site-packages\\statsmodels\\base\\optimizer.py\u001b[0m in \u001b[0;36m_fit_newton\u001b[1;34m(f, score, start_params, fargs, kwargs, disp, maxiter, callback, retall, full_output, hess, ridge_factor)\u001b[0m\n\u001b[0;32m    325\u001b[0m             \u001b[0mhistory\u001b[0m\u001b[1;33m.\u001b[0m\u001b[0mappend\u001b[0m\u001b[1;33m(\u001b[0m\u001b[0mnewparams\u001b[0m\u001b[1;33m)\u001b[0m\u001b[1;33m\u001b[0m\u001b[1;33m\u001b[0m\u001b[0m\n\u001b[0;32m    326\u001b[0m         \u001b[1;32mif\u001b[0m \u001b[0mcallback\u001b[0m \u001b[1;32mis\u001b[0m \u001b[1;32mnot\u001b[0m \u001b[1;32mNone\u001b[0m\u001b[1;33m:\u001b[0m\u001b[1;33m\u001b[0m\u001b[1;33m\u001b[0m\u001b[0m\n\u001b[1;32m--> 327\u001b[1;33m             \u001b[0mcallback\u001b[0m\u001b[1;33m(\u001b[0m\u001b[0mnewparams\u001b[0m\u001b[1;33m)\u001b[0m\u001b[1;33m\u001b[0m\u001b[1;33m\u001b[0m\u001b[0m\n\u001b[0m\u001b[0;32m    328\u001b[0m         \u001b[0miterations\u001b[0m \u001b[1;33m+=\u001b[0m \u001b[1;36m1\u001b[0m\u001b[1;33m\u001b[0m\u001b[1;33m\u001b[0m\u001b[0m\n\u001b[0;32m    329\u001b[0m     \u001b[0mfval\u001b[0m \u001b[1;33m=\u001b[0m \u001b[0mf\u001b[0m\u001b[1;33m(\u001b[0m\u001b[0mnewparams\u001b[0m\u001b[1;33m,\u001b[0m \u001b[1;33m*\u001b[0m\u001b[0mfargs\u001b[0m\u001b[1;33m)\u001b[0m  \u001b[1;31m# this is the negative likelihood\u001b[0m\u001b[1;33m\u001b[0m\u001b[1;33m\u001b[0m\u001b[0m\n",
      "\u001b[1;32mD:\\Programs\\Science\\Anaconda\\Anaconda\\lib\\site-packages\\statsmodels\\discrete\\discrete_model.py\u001b[0m in \u001b[0;36m_check_perfect_pred\u001b[1;34m(self, params, *args)\u001b[0m\n\u001b[0;32m    209\u001b[0m                 np.allclose(fittedvalues - endog, 0)):\n\u001b[0;32m    210\u001b[0m             \u001b[0mmsg\u001b[0m \u001b[1;33m=\u001b[0m \u001b[1;34m\"Perfect separation detected, results not available\"\u001b[0m\u001b[1;33m\u001b[0m\u001b[1;33m\u001b[0m\u001b[0m\n\u001b[1;32m--> 211\u001b[1;33m             \u001b[1;32mraise\u001b[0m \u001b[0mPerfectSeparationError\u001b[0m\u001b[1;33m(\u001b[0m\u001b[0mmsg\u001b[0m\u001b[1;33m)\u001b[0m\u001b[1;33m\u001b[0m\u001b[1;33m\u001b[0m\u001b[0m\n\u001b[0m\u001b[0;32m    212\u001b[0m \u001b[1;33m\u001b[0m\u001b[0m\n\u001b[0;32m    213\u001b[0m     \u001b[1;33m@\u001b[0m\u001b[0mAppender\u001b[0m\u001b[1;33m(\u001b[0m\u001b[0mbase\u001b[0m\u001b[1;33m.\u001b[0m\u001b[0mLikelihoodModel\u001b[0m\u001b[1;33m.\u001b[0m\u001b[0mfit\u001b[0m\u001b[1;33m.\u001b[0m\u001b[0m__doc__\u001b[0m\u001b[1;33m)\u001b[0m\u001b[1;33m\u001b[0m\u001b[1;33m\u001b[0m\u001b[0m\n",
      "\u001b[1;31mPerfectSeparationError\u001b[0m: Perfect separation detected, results not available"
     ]
    }
   ],
   "source": [
    "import statsmodels.api as sm\n",
    "\n",
    "#np.where(trainingdata.std(axis = 1) < 0.25)\n",
    "\n",
    "#trainingdata = trainingdata.iloc[:, trainingdata.columns.difference(np.where(trainingdata.std(axis = 1) < 0.25)[0])]\n",
    "\n",
    "X = trainingdata.iloc[:, 2:960]\n",
    "y = trainingdata[\"class\"]\n",
    "logit_model=sm.Logit(y,X)\n",
    "result=logit_model.fit()\n",
    "\n",
    "\n",
    "\n",
    "print(result.summary2())"
   ]
  },
  {
   "cell_type": "code",
   "execution_count": 57,
   "metadata": {},
   "outputs": [],
   "source": [
    "#pd.set_option(\"display.max_rows\", 10, \"display.max_columns\", 10)\n",
    "positivedata = trainingdata[trainingdata[\"class\"] == 1]\n",
    "negativedata = trainingdata[trainingdata[\"class\"] == 0]"
   ]
  },
  {
   "cell_type": "code",
   "execution_count": 69,
   "metadata": {},
   "outputs": [],
   "source": [
    "positive = positivedata.drop(columns = ['class', 'sample_id']).transpose()\n",
    "negative = negativedata.drop(columns = ['class', 'sample_id']).transpose()"
   ]
  },
  {
   "cell_type": "code",
   "execution_count": 70,
   "metadata": {},
   "outputs": [],
   "source": [
    "positive[\"max\"] = positive.max(axis = 1)\n",
    "positive[\"min\"] = positive.min(axis = 1)\n",
    "negative[\"max\"] = negative.max(axis = 1)\n",
    "negative[\"min\"] = negative.min(axis = 1)\n"
   ]
  },
  {
   "cell_type": "code",
   "execution_count": 73,
   "metadata": {},
   "outputs": [
    {
     "ename": "TypeError",
     "evalue": "unsupported operand type(s) for |: 'float' and 'float'",
     "output_type": "error",
     "traceback": [
      "\u001b[1;31m---------------------------------------------------------------------------\u001b[0m",
      "\u001b[1;31mTypeError\u001b[0m                                 Traceback (most recent call last)",
      "\u001b[1;32mD:\\Programs\\Science\\Anaconda\\Anaconda\\lib\\site-packages\\pandas\\core\\ops\\array_ops.py\u001b[0m in \u001b[0;36mna_logical_op\u001b[1;34m(x, y, op)\u001b[0m\n\u001b[0;32m    265\u001b[0m         \u001b[1;31m#  (xint or xbool) and (yint or bool)\u001b[0m\u001b[1;33m\u001b[0m\u001b[1;33m\u001b[0m\u001b[1;33m\u001b[0m\u001b[0m\n\u001b[1;32m--> 266\u001b[1;33m         \u001b[0mresult\u001b[0m \u001b[1;33m=\u001b[0m \u001b[0mop\u001b[0m\u001b[1;33m(\u001b[0m\u001b[0mx\u001b[0m\u001b[1;33m,\u001b[0m \u001b[0my\u001b[0m\u001b[1;33m)\u001b[0m\u001b[1;33m\u001b[0m\u001b[1;33m\u001b[0m\u001b[0m\n\u001b[0m\u001b[0;32m    267\u001b[0m     \u001b[1;32mexcept\u001b[0m \u001b[0mTypeError\u001b[0m\u001b[1;33m:\u001b[0m\u001b[1;33m\u001b[0m\u001b[1;33m\u001b[0m\u001b[0m\n",
      "\u001b[1;31mTypeError\u001b[0m: ufunc 'bitwise_or' not supported for the input types, and the inputs could not be safely coerced to any supported types according to the casting rule ''safe''",
      "\nDuring handling of the above exception, another exception occurred:\n",
      "\u001b[1;31mTypeError\u001b[0m                                 Traceback (most recent call last)",
      "\u001b[1;32m<ipython-input-73-93b04913aea2>\u001b[0m in \u001b[0;36m<module>\u001b[1;34m\u001b[0m\n\u001b[1;32m----> 1\u001b[1;33m \u001b[0mbadgenes\u001b[0m \u001b[1;33m=\u001b[0m \u001b[0mtrainingdata\u001b[0m\u001b[1;33m.\u001b[0m\u001b[0mcolumns\u001b[0m\u001b[1;33m[\u001b[0m\u001b[1;36m1\u001b[0m\u001b[1;33m:\u001b[0m\u001b[1;36m979\u001b[0m\u001b[1;33m]\u001b[0m\u001b[1;33m[\u001b[0m\u001b[0mpositive\u001b[0m\u001b[1;33m[\u001b[0m\u001b[1;34m\"min\"\u001b[0m\u001b[1;33m]\u001b[0m \u001b[1;33m>\u001b[0m \u001b[0mnegative\u001b[0m\u001b[1;33m[\u001b[0m\u001b[1;34m\"max\"\u001b[0m\u001b[1;33m]\u001b[0m \u001b[1;33m|\u001b[0m \u001b[0mpositive\u001b[0m\u001b[1;33m[\u001b[0m\u001b[1;34m\"max\"\u001b[0m\u001b[1;33m]\u001b[0m \u001b[1;33m<\u001b[0m \u001b[0mnegative\u001b[0m\u001b[1;33m[\u001b[0m\u001b[1;34m\"min\"\u001b[0m\u001b[1;33m]\u001b[0m\u001b[1;33m]\u001b[0m\u001b[1;33m\u001b[0m\u001b[1;33m\u001b[0m\u001b[0m\n\u001b[0m\u001b[0;32m      2\u001b[0m \u001b[0mbadgenes\u001b[0m\u001b[1;33m\u001b[0m\u001b[1;33m\u001b[0m\u001b[0m\n",
      "\u001b[1;32mD:\\Programs\\Science\\Anaconda\\Anaconda\\lib\\site-packages\\pandas\\core\\ops\\common.py\u001b[0m in \u001b[0;36mnew_method\u001b[1;34m(self, other)\u001b[0m\n\u001b[0;32m     63\u001b[0m         \u001b[0mother\u001b[0m \u001b[1;33m=\u001b[0m \u001b[0mitem_from_zerodim\u001b[0m\u001b[1;33m(\u001b[0m\u001b[0mother\u001b[0m\u001b[1;33m)\u001b[0m\u001b[1;33m\u001b[0m\u001b[1;33m\u001b[0m\u001b[0m\n\u001b[0;32m     64\u001b[0m \u001b[1;33m\u001b[0m\u001b[0m\n\u001b[1;32m---> 65\u001b[1;33m         \u001b[1;32mreturn\u001b[0m \u001b[0mmethod\u001b[0m\u001b[1;33m(\u001b[0m\u001b[0mself\u001b[0m\u001b[1;33m,\u001b[0m \u001b[0mother\u001b[0m\u001b[1;33m)\u001b[0m\u001b[1;33m\u001b[0m\u001b[1;33m\u001b[0m\u001b[0m\n\u001b[0m\u001b[0;32m     66\u001b[0m \u001b[1;33m\u001b[0m\u001b[0m\n\u001b[0;32m     67\u001b[0m     \u001b[1;32mreturn\u001b[0m \u001b[0mnew_method\u001b[0m\u001b[1;33m\u001b[0m\u001b[1;33m\u001b[0m\u001b[0m\n",
      "\u001b[1;32mD:\\Programs\\Science\\Anaconda\\Anaconda\\lib\\site-packages\\pandas\\core\\ops\\__init__.py\u001b[0m in \u001b[0;36mwrapper\u001b[1;34m(self, other)\u001b[0m\n\u001b[0;32m    392\u001b[0m         \u001b[0mrvalues\u001b[0m \u001b[1;33m=\u001b[0m \u001b[0mextract_array\u001b[0m\u001b[1;33m(\u001b[0m\u001b[0mother\u001b[0m\u001b[1;33m,\u001b[0m \u001b[0mextract_numpy\u001b[0m\u001b[1;33m=\u001b[0m\u001b[1;32mTrue\u001b[0m\u001b[1;33m)\u001b[0m\u001b[1;33m\u001b[0m\u001b[1;33m\u001b[0m\u001b[0m\n\u001b[0;32m    393\u001b[0m \u001b[1;33m\u001b[0m\u001b[0m\n\u001b[1;32m--> 394\u001b[1;33m         \u001b[0mres_values\u001b[0m \u001b[1;33m=\u001b[0m \u001b[0mlogical_op\u001b[0m\u001b[1;33m(\u001b[0m\u001b[0mlvalues\u001b[0m\u001b[1;33m,\u001b[0m \u001b[0mrvalues\u001b[0m\u001b[1;33m,\u001b[0m \u001b[0mop\u001b[0m\u001b[1;33m)\u001b[0m\u001b[1;33m\u001b[0m\u001b[1;33m\u001b[0m\u001b[0m\n\u001b[0m\u001b[0;32m    395\u001b[0m         \u001b[1;32mreturn\u001b[0m \u001b[0mself\u001b[0m\u001b[1;33m.\u001b[0m\u001b[0m_construct_result\u001b[0m\u001b[1;33m(\u001b[0m\u001b[0mres_values\u001b[0m\u001b[1;33m,\u001b[0m \u001b[0mname\u001b[0m\u001b[1;33m=\u001b[0m\u001b[0mres_name\u001b[0m\u001b[1;33m)\u001b[0m\u001b[1;33m\u001b[0m\u001b[1;33m\u001b[0m\u001b[0m\n\u001b[0;32m    396\u001b[0m \u001b[1;33m\u001b[0m\u001b[0m\n",
      "\u001b[1;32mD:\\Programs\\Science\\Anaconda\\Anaconda\\lib\\site-packages\\pandas\\core\\ops\\array_ops.py\u001b[0m in \u001b[0;36mlogical_op\u001b[1;34m(left, right, op)\u001b[0m\n\u001b[0;32m    354\u001b[0m         \u001b[0mfiller\u001b[0m \u001b[1;33m=\u001b[0m \u001b[0mfill_int\u001b[0m \u001b[1;32mif\u001b[0m \u001b[0mis_self_int_dtype\u001b[0m \u001b[1;32mand\u001b[0m \u001b[0mis_other_int_dtype\u001b[0m \u001b[1;32melse\u001b[0m \u001b[0mfill_bool\u001b[0m\u001b[1;33m\u001b[0m\u001b[1;33m\u001b[0m\u001b[0m\n\u001b[0;32m    355\u001b[0m \u001b[1;33m\u001b[0m\u001b[0m\n\u001b[1;32m--> 356\u001b[1;33m         \u001b[0mres_values\u001b[0m \u001b[1;33m=\u001b[0m \u001b[0mna_logical_op\u001b[0m\u001b[1;33m(\u001b[0m\u001b[0mlvalues\u001b[0m\u001b[1;33m,\u001b[0m \u001b[0mrvalues\u001b[0m\u001b[1;33m,\u001b[0m \u001b[0mop\u001b[0m\u001b[1;33m)\u001b[0m\u001b[1;33m\u001b[0m\u001b[1;33m\u001b[0m\u001b[0m\n\u001b[0m\u001b[0;32m    357\u001b[0m         \u001b[0mres_values\u001b[0m \u001b[1;33m=\u001b[0m \u001b[0mfiller\u001b[0m\u001b[1;33m(\u001b[0m\u001b[0mres_values\u001b[0m\u001b[1;33m)\u001b[0m  \u001b[1;31m# type: ignore\u001b[0m\u001b[1;33m\u001b[0m\u001b[1;33m\u001b[0m\u001b[0m\n\u001b[0;32m    358\u001b[0m \u001b[1;33m\u001b[0m\u001b[0m\n",
      "\u001b[1;32mD:\\Programs\\Science\\Anaconda\\Anaconda\\lib\\site-packages\\pandas\\core\\ops\\array_ops.py\u001b[0m in \u001b[0;36mna_logical_op\u001b[1;34m(x, y, op)\u001b[0m\n\u001b[0;32m    271\u001b[0m             \u001b[0mx\u001b[0m \u001b[1;33m=\u001b[0m \u001b[0mensure_object\u001b[0m\u001b[1;33m(\u001b[0m\u001b[0mx\u001b[0m\u001b[1;33m)\u001b[0m\u001b[1;33m\u001b[0m\u001b[1;33m\u001b[0m\u001b[0m\n\u001b[0;32m    272\u001b[0m             \u001b[0my\u001b[0m \u001b[1;33m=\u001b[0m \u001b[0mensure_object\u001b[0m\u001b[1;33m(\u001b[0m\u001b[0my\u001b[0m\u001b[1;33m)\u001b[0m\u001b[1;33m\u001b[0m\u001b[1;33m\u001b[0m\u001b[0m\n\u001b[1;32m--> 273\u001b[1;33m             \u001b[0mresult\u001b[0m \u001b[1;33m=\u001b[0m \u001b[0mlibops\u001b[0m\u001b[1;33m.\u001b[0m\u001b[0mvec_binop\u001b[0m\u001b[1;33m(\u001b[0m\u001b[0mx\u001b[0m\u001b[1;33m.\u001b[0m\u001b[0mravel\u001b[0m\u001b[1;33m(\u001b[0m\u001b[1;33m)\u001b[0m\u001b[1;33m,\u001b[0m \u001b[0my\u001b[0m\u001b[1;33m.\u001b[0m\u001b[0mravel\u001b[0m\u001b[1;33m(\u001b[0m\u001b[1;33m)\u001b[0m\u001b[1;33m,\u001b[0m \u001b[0mop\u001b[0m\u001b[1;33m)\u001b[0m\u001b[1;33m\u001b[0m\u001b[1;33m\u001b[0m\u001b[0m\n\u001b[0m\u001b[0;32m    274\u001b[0m         \u001b[1;32melse\u001b[0m\u001b[1;33m:\u001b[0m\u001b[1;33m\u001b[0m\u001b[1;33m\u001b[0m\u001b[0m\n\u001b[0;32m    275\u001b[0m             \u001b[1;31m# let null fall thru\u001b[0m\u001b[1;33m\u001b[0m\u001b[1;33m\u001b[0m\u001b[1;33m\u001b[0m\u001b[0m\n",
      "\u001b[1;32mpandas\\_libs\\ops.pyx\u001b[0m in \u001b[0;36mpandas._libs.ops.vec_binop\u001b[1;34m()\u001b[0m\n",
      "\u001b[1;32mpandas\\_libs\\ops.pyx\u001b[0m in \u001b[0;36mpandas._libs.ops.vec_binop\u001b[1;34m()\u001b[0m\n",
      "\u001b[1;31mTypeError\u001b[0m: unsupported operand type(s) for |: 'float' and 'float'"
     ]
    }
   ],
   "source": [
    "badgenes = trainingdata.columns[1:979][positive[\"min\"] > negative[\"max\"] | positive[\"max\"] < negative[\"min\"]]\n",
    "badgenes"
   ]
  },
  {
   "cell_type": "code",
   "execution_count": 75,
   "metadata": {},
   "outputs": [
    {
     "data": {
      "text/plain": [
       "0"
      ]
     },
     "execution_count": 75,
     "metadata": {},
     "output_type": "execute_result"
    }
   ],
   "source": [
    "(positive[\"min\"] > negative[\"max\"]).sum()\n"
   ]
  },
  {
   "cell_type": "code",
   "execution_count": 78,
   "metadata": {},
   "outputs": [
    {
     "data": {
      "text/plain": [
       "0"
      ]
     },
     "execution_count": 78,
     "metadata": {},
     "output_type": "execute_result"
    }
   ],
   "source": [
    "(positive[\"max\"] < negative[\"min\"]).sum()"
   ]
  },
  {
   "cell_type": "code",
   "execution_count": null,
   "metadata": {},
   "outputs": [],
   "source": []
  },
  {
   "cell_type": "code",
   "execution_count": 33,
   "metadata": {},
   "outputs": [
    {
     "data": {
      "text/plain": [
       "array([  8,  49,  76,  89,  99, 150, 168, 190], dtype=int64)"
      ]
     },
     "execution_count": 33,
     "metadata": {},
     "output_type": "execute_result"
    }
   ],
   "source": [
    "np.where(trainingdata.std(axis = 1) < 0.25)[0]"
   ]
  },
  {
   "cell_type": "code",
   "execution_count": 37,
   "metadata": {},
   "outputs": [],
   "source": [
    "#pd.set_option(\"display.max_rows\", None, \"display.max_columns\", None)\n",
    "#trainingdata.loc[:, (trainingdata == 0).sum() > 50]\n",
    "#trainingdata.iloc[:, np.where(trainingdata.std(axis = 1) < 0.25)[0]]\n",
    "trainingdata = trainingdata.loc[:, trainingdata.columns.difference(np.where(trainingdata.std(axis = 1) < 0.25)[0])]\n",
    "\n",
    "#trainingdata.loc[:, (trainingdata == 0).any(axis = 0)]"
   ]
  },
  {
   "cell_type": "code",
   "execution_count": 39,
   "metadata": {},
   "outputs": [
    {
     "data": {
      "text/plain": [
       "(192, 980)"
      ]
     },
     "execution_count": 39,
     "metadata": {},
     "output_type": "execute_result"
    }
   ],
   "source": [
    "trainingdata.shape"
   ]
  },
  {
   "cell_type": "code",
   "execution_count": 47,
   "metadata": {},
   "outputs": [
    {
     "data": {
      "text/plain": [
       "Index(['X10007', 'X1001', 'X10013', 'X10038', 'X10046', 'X10049', 'X10051',\n",
       "       'X10057', 'X10059', 'X10099',\n",
       "       ...\n",
       "       'X9926', 'X9928', 'X993', 'X994', 'X9943', 'X9961', 'X998', 'X9988',\n",
       "       'class', 'sample_id'],\n",
       "      dtype='object', length=972)"
      ]
     },
     "execution_count": 47,
     "metadata": {},
     "output_type": "execute_result"
    }
   ],
   "source": [
    "trainingdata.columns.difference(trainingdata.columns[np.where(trainingdata.std(axis = 1) < 0.25)[0]])"
   ]
  },
  {
   "cell_type": "code",
   "execution_count": 43,
   "metadata": {},
   "outputs": [
    {
     "data": {
      "text/plain": [
       "Index(['X10058', 'X10493', 'X10776', 'X10953', 'X11014', 'X1605', 'X1845',\n",
       "       'X2064'],\n",
       "      dtype='object')"
      ]
     },
     "execution_count": 43,
     "metadata": {},
     "output_type": "execute_result"
    }
   ],
   "source": [
    "trainingdata.columns[np.where(trainingdata.std(axis = 1) < 0.25)[0]]"
   ]
  },
  {
   "cell_type": "code",
   "execution_count": 48,
   "metadata": {},
   "outputs": [
    {
     "data": {
      "text/plain": [
       "(192, 972)"
      ]
     },
     "execution_count": 48,
     "metadata": {},
     "output_type": "execute_result"
    }
   ],
   "source": [
    "#trainingdata.drop(columns = trainingdata.columns[np.where(trainingdata.std(axis = 1) < 0.25)[0]])\n",
    "trainingdata = trainingdata.loc[:, trainingdata.columns.difference(trainingdata.columns[np.where(trainingdata.std(axis = 1) < 0.25)[0]])]\n",
    "trainingdata.shape"
   ]
  },
  {
   "cell_type": "code",
   "execution_count": 81,
   "metadata": {},
   "outputs": [
    {
     "data": {
      "text/plain": [
       "0      1\n",
       "1      1\n",
       "2      1\n",
       "3      1\n",
       "4      1\n",
       "      ..\n",
       "187    0\n",
       "188    0\n",
       "189    0\n",
       "190    0\n",
       "191    0\n",
       "Name: class, Length: 192, dtype: int32"
      ]
     },
     "execution_count": 81,
     "metadata": {},
     "output_type": "execute_result"
    }
   ],
   "source": [
    "trainingdata.iloc[:,979]"
   ]
  },
  {
   "cell_type": "code",
   "execution_count": null,
   "metadata": {},
   "outputs": [],
   "source": []
  }
 ],
 "metadata": {
  "kernelspec": {
   "display_name": "Python 3",
   "language": "python",
   "name": "python3"
  },
  "language_info": {
   "codemirror_mode": {
    "name": "ipython",
    "version": 3
   },
   "file_extension": ".py",
   "mimetype": "text/x-python",
   "name": "python",
   "nbconvert_exporter": "python",
   "pygments_lexer": "ipython3",
   "version": "3.7.3"
  }
 },
 "nbformat": 4,
 "nbformat_minor": 4
}
