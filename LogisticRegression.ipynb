{
 "cells": [
  {
   "cell_type": "code",
   "execution_count": 11,
   "metadata": {},
   "outputs": [
    {
     "ename": "ImportError",
     "evalue": "cannot import name 'grid_search' from 'sklearn' (C:\\Users\\LabSysBio\\Anaconda3\\lib\\site-packages\\sklearn\\__init__.py)",
     "output_type": "error",
     "traceback": [
      "\u001b[1;31m---------------------------------------------------------------------------\u001b[0m",
      "\u001b[1;31mImportError\u001b[0m                               Traceback (most recent call last)",
      "\u001b[1;32m<ipython-input-11-e918cf838f14>\u001b[0m in \u001b[0;36m<module>\u001b[1;34m\u001b[0m\n\u001b[0;32m      5\u001b[0m \u001b[0mplt\u001b[0m\u001b[1;33m.\u001b[0m\u001b[0mrc\u001b[0m\u001b[1;33m(\u001b[0m\u001b[1;34m\"font\"\u001b[0m\u001b[1;33m,\u001b[0m \u001b[0msize\u001b[0m\u001b[1;33m=\u001b[0m\u001b[1;36m14\u001b[0m\u001b[1;33m)\u001b[0m\u001b[1;33m\u001b[0m\u001b[1;33m\u001b[0m\u001b[0m\n\u001b[0;32m      6\u001b[0m \u001b[1;32mfrom\u001b[0m \u001b[0msklearn\u001b[0m\u001b[1;33m.\u001b[0m\u001b[0mlinear_model\u001b[0m \u001b[1;32mimport\u001b[0m \u001b[0mLogisticRegression\u001b[0m\u001b[1;33m,\u001b[0m \u001b[0mSGDClassifier\u001b[0m\u001b[1;33m\u001b[0m\u001b[1;33m\u001b[0m\u001b[0m\n\u001b[1;32m----> 7\u001b[1;33m \u001b[1;32mfrom\u001b[0m \u001b[0msklearn\u001b[0m \u001b[1;32mimport\u001b[0m \u001b[0mmodel_selection\u001b[0m\u001b[1;33m,\u001b[0m \u001b[0mmetrics\u001b[0m\u001b[1;33m,\u001b[0m \u001b[0mgrid_search\u001b[0m\u001b[1;33m\u001b[0m\u001b[1;33m\u001b[0m\u001b[0m\n\u001b[0m\u001b[0;32m      8\u001b[0m \u001b[1;32mimport\u001b[0m \u001b[0mseaborn\u001b[0m \u001b[1;32mas\u001b[0m \u001b[0msns\u001b[0m\u001b[1;33m\u001b[0m\u001b[1;33m\u001b[0m\u001b[0m\n\u001b[0;32m      9\u001b[0m \u001b[0msns\u001b[0m\u001b[1;33m.\u001b[0m\u001b[0mset\u001b[0m\u001b[1;33m(\u001b[0m\u001b[0mstyle\u001b[0m\u001b[1;33m=\u001b[0m\u001b[1;34m\"white\"\u001b[0m\u001b[1;33m)\u001b[0m\u001b[1;33m\u001b[0m\u001b[1;33m\u001b[0m\u001b[0m\n",
      "\u001b[1;31mImportError\u001b[0m: cannot import name 'grid_search' from 'sklearn' (C:\\Users\\LabSysBio\\Anaconda3\\lib\\site-packages\\sklearn\\__init__.py)"
     ]
    }
   ],
   "source": [
    "import pandas as pd\n",
    "import numpy as np\n",
    "from sklearn import preprocessing\n",
    "import matplotlib.pyplot as plt \n",
    "plt.rc(\"font\", size=14)\n",
    "from sklearn.linear_model import LogisticRegression, SGDClassifier\n",
    "from sklearn import model_selection, metrics\n",
    "import seaborn as sns\n",
    "sns.set(style=\"white\")\n",
    "sns.set(style=\"whitegrid\", color_codes=True)"
   ]
  },
  {
   "cell_type": "code",
   "execution_count": 2,
   "metadata": {},
   "outputs": [
    {
     "data": {
      "text/html": [
       "<div>\n",
       "<style scoped>\n",
       "    .dataframe tbody tr th:only-of-type {\n",
       "        vertical-align: middle;\n",
       "    }\n",
       "\n",
       "    .dataframe tbody tr th {\n",
       "        vertical-align: top;\n",
       "    }\n",
       "\n",
       "    .dataframe thead th {\n",
       "        text-align: right;\n",
       "    }\n",
       "</style>\n",
       "<table border=\"1\" class=\"dataframe\">\n",
       "  <thead>\n",
       "    <tr style=\"text-align: right;\">\n",
       "      <th></th>\n",
       "      <th>X5720</th>\n",
       "      <th>X466</th>\n",
       "      <th>X6009</th>\n",
       "      <th>X2309</th>\n",
       "      <th>X387</th>\n",
       "      <th>X3553</th>\n",
       "      <th>X427</th>\n",
       "      <th>X5898</th>\n",
       "      <th>X23365</th>\n",
       "      <th>X6657</th>\n",
       "      <th>...</th>\n",
       "      <th>X9738</th>\n",
       "      <th>X6793</th>\n",
       "      <th>X7358</th>\n",
       "      <th>X58472</th>\n",
       "      <th>X50865</th>\n",
       "      <th>X23200</th>\n",
       "      <th>X51293</th>\n",
       "      <th>X10962</th>\n",
       "      <th>X10153</th>\n",
       "      <th>X874</th>\n",
       "    </tr>\n",
       "    <tr>\n",
       "      <th>sample_id</th>\n",
       "      <th></th>\n",
       "      <th></th>\n",
       "      <th></th>\n",
       "      <th></th>\n",
       "      <th></th>\n",
       "      <th></th>\n",
       "      <th></th>\n",
       "      <th></th>\n",
       "      <th></th>\n",
       "      <th></th>\n",
       "      <th></th>\n",
       "      <th></th>\n",
       "      <th></th>\n",
       "      <th></th>\n",
       "      <th></th>\n",
       "      <th></th>\n",
       "      <th></th>\n",
       "      <th></th>\n",
       "      <th></th>\n",
       "      <th></th>\n",
       "      <th></th>\n",
       "    </tr>\n",
       "  </thead>\n",
       "  <tbody>\n",
       "    <tr>\n",
       "      <th>BRD-A07106394:QIVBCDIJIAJPQS-UHFFFAOYSA-N:20 µM:24 h:HA1E_HA1E</th>\n",
       "      <td>0.572005</td>\n",
       "      <td>-0.215412</td>\n",
       "      <td>0.173019</td>\n",
       "      <td>0.489742</td>\n",
       "      <td>0.420306</td>\n",
       "      <td>-0.339560</td>\n",
       "      <td>-0.052438</td>\n",
       "      <td>-0.278286</td>\n",
       "      <td>0.062474</td>\n",
       "      <td>-0.595485</td>\n",
       "      <td>...</td>\n",
       "      <td>0.214504</td>\n",
       "      <td>-1.008332</td>\n",
       "      <td>-0.932064</td>\n",
       "      <td>0.196377</td>\n",
       "      <td>0.388575</td>\n",
       "      <td>-0.675791</td>\n",
       "      <td>0.237582</td>\n",
       "      <td>0.077460</td>\n",
       "      <td>0.445300</td>\n",
       "      <td>0.430141</td>\n",
       "    </tr>\n",
       "    <tr>\n",
       "      <th>BRD-A17655518:HEFNNWSXXWATRW-UHFFFAOYSA-N:10 µM:24 h:A375_A549_HA1E_HT29_MCF7_PC3_VCAP_MCF7_PC3_VCAP</th>\n",
       "      <td>0.156599</td>\n",
       "      <td>-0.205048</td>\n",
       "      <td>0.022631</td>\n",
       "      <td>0.266661</td>\n",
       "      <td>-0.024832</td>\n",
       "      <td>0.242809</td>\n",
       "      <td>-0.038130</td>\n",
       "      <td>-0.007111</td>\n",
       "      <td>0.194066</td>\n",
       "      <td>-0.002117</td>\n",
       "      <td>...</td>\n",
       "      <td>0.722045</td>\n",
       "      <td>0.302664</td>\n",
       "      <td>-0.190207</td>\n",
       "      <td>-0.063637</td>\n",
       "      <td>-0.233029</td>\n",
       "      <td>-0.346681</td>\n",
       "      <td>0.019575</td>\n",
       "      <td>0.062390</td>\n",
       "      <td>0.088810</td>\n",
       "      <td>0.232947</td>\n",
       "    </tr>\n",
       "    <tr>\n",
       "      <th>BRD-A17846016:GLEVLJDDWXEYCO-UHFFFAOYSA-N:10 µM:24 h:MCF7_PC3</th>\n",
       "      <td>0.144802</td>\n",
       "      <td>-1.361585</td>\n",
       "      <td>0.274811</td>\n",
       "      <td>0.320524</td>\n",
       "      <td>0.294310</td>\n",
       "      <td>0.437889</td>\n",
       "      <td>-0.410621</td>\n",
       "      <td>-1.944621</td>\n",
       "      <td>1.114904</td>\n",
       "      <td>0.391805</td>\n",
       "      <td>...</td>\n",
       "      <td>-0.814418</td>\n",
       "      <td>0.090174</td>\n",
       "      <td>-1.075967</td>\n",
       "      <td>0.063934</td>\n",
       "      <td>-0.699627</td>\n",
       "      <td>0.559719</td>\n",
       "      <td>0.558929</td>\n",
       "      <td>-0.233413</td>\n",
       "      <td>0.507622</td>\n",
       "      <td>0.170530</td>\n",
       "    </tr>\n",
       "    <tr>\n",
       "      <th>BRD-A19037878:RTKIYFITIVXBLE-WKWSCTOISA-N:1.11 µM:24 h:A375_A549_HA1E_HCC515_HEPG2_HT29_MCF7_PC3</th>\n",
       "      <td>0.571052</td>\n",
       "      <td>-2.094509</td>\n",
       "      <td>-1.362594</td>\n",
       "      <td>1.188793</td>\n",
       "      <td>0.796376</td>\n",
       "      <td>0.523494</td>\n",
       "      <td>0.119419</td>\n",
       "      <td>1.646214</td>\n",
       "      <td>1.405747</td>\n",
       "      <td>1.342340</td>\n",
       "      <td>...</td>\n",
       "      <td>1.620770</td>\n",
       "      <td>1.148686</td>\n",
       "      <td>-4.769783</td>\n",
       "      <td>-0.598601</td>\n",
       "      <td>2.829943</td>\n",
       "      <td>2.217611</td>\n",
       "      <td>-0.849854</td>\n",
       "      <td>-1.417561</td>\n",
       "      <td>2.965447</td>\n",
       "      <td>-3.550254</td>\n",
       "    </tr>\n",
       "    <tr>\n",
       "      <th>BRD-A35258977:FBPFZTCFMRRESA-UHFFFAOYSA-N:20 µM:24 h:HA1E_HA1E</th>\n",
       "      <td>0.519844</td>\n",
       "      <td>0.279864</td>\n",
       "      <td>-0.065269</td>\n",
       "      <td>-0.025814</td>\n",
       "      <td>0.543482</td>\n",
       "      <td>0.184110</td>\n",
       "      <td>0.275908</td>\n",
       "      <td>0.320203</td>\n",
       "      <td>-0.121650</td>\n",
       "      <td>-0.446459</td>\n",
       "      <td>...</td>\n",
       "      <td>0.196816</td>\n",
       "      <td>0.605350</td>\n",
       "      <td>-0.261210</td>\n",
       "      <td>0.428848</td>\n",
       "      <td>0.486934</td>\n",
       "      <td>0.002326</td>\n",
       "      <td>0.151491</td>\n",
       "      <td>0.228473</td>\n",
       "      <td>-0.580365</td>\n",
       "      <td>0.917084</td>\n",
       "    </tr>\n",
       "  </tbody>\n",
       "</table>\n",
       "<p>5 rows × 978 columns</p>\n",
       "</div>"
      ],
      "text/plain": [
       "                                                       X5720      X466  \\\n",
       "sample_id                                                                \n",
       "BRD-A07106394:QIVBCDIJIAJPQS-UHFFFAOYSA-N:20 µM...  0.572005 -0.215412   \n",
       "BRD-A17655518:HEFNNWSXXWATRW-UHFFFAOYSA-N:10 µM...  0.156599 -0.205048   \n",
       "BRD-A17846016:GLEVLJDDWXEYCO-UHFFFAOYSA-N:10 µM...  0.144802 -1.361585   \n",
       "BRD-A19037878:RTKIYFITIVXBLE-WKWSCTOISA-N:1.11 ...  0.571052 -2.094509   \n",
       "BRD-A35258977:FBPFZTCFMRRESA-UHFFFAOYSA-N:20 µM...  0.519844  0.279864   \n",
       "\n",
       "                                                       X6009     X2309  \\\n",
       "sample_id                                                                \n",
       "BRD-A07106394:QIVBCDIJIAJPQS-UHFFFAOYSA-N:20 µM...  0.173019  0.489742   \n",
       "BRD-A17655518:HEFNNWSXXWATRW-UHFFFAOYSA-N:10 µM...  0.022631  0.266661   \n",
       "BRD-A17846016:GLEVLJDDWXEYCO-UHFFFAOYSA-N:10 µM...  0.274811  0.320524   \n",
       "BRD-A19037878:RTKIYFITIVXBLE-WKWSCTOISA-N:1.11 ... -1.362594  1.188793   \n",
       "BRD-A35258977:FBPFZTCFMRRESA-UHFFFAOYSA-N:20 µM... -0.065269 -0.025814   \n",
       "\n",
       "                                                        X387     X3553  \\\n",
       "sample_id                                                                \n",
       "BRD-A07106394:QIVBCDIJIAJPQS-UHFFFAOYSA-N:20 µM...  0.420306 -0.339560   \n",
       "BRD-A17655518:HEFNNWSXXWATRW-UHFFFAOYSA-N:10 µM... -0.024832  0.242809   \n",
       "BRD-A17846016:GLEVLJDDWXEYCO-UHFFFAOYSA-N:10 µM...  0.294310  0.437889   \n",
       "BRD-A19037878:RTKIYFITIVXBLE-WKWSCTOISA-N:1.11 ...  0.796376  0.523494   \n",
       "BRD-A35258977:FBPFZTCFMRRESA-UHFFFAOYSA-N:20 µM...  0.543482  0.184110   \n",
       "\n",
       "                                                        X427     X5898  \\\n",
       "sample_id                                                                \n",
       "BRD-A07106394:QIVBCDIJIAJPQS-UHFFFAOYSA-N:20 µM... -0.052438 -0.278286   \n",
       "BRD-A17655518:HEFNNWSXXWATRW-UHFFFAOYSA-N:10 µM... -0.038130 -0.007111   \n",
       "BRD-A17846016:GLEVLJDDWXEYCO-UHFFFAOYSA-N:10 µM... -0.410621 -1.944621   \n",
       "BRD-A19037878:RTKIYFITIVXBLE-WKWSCTOISA-N:1.11 ...  0.119419  1.646214   \n",
       "BRD-A35258977:FBPFZTCFMRRESA-UHFFFAOYSA-N:20 µM...  0.275908  0.320203   \n",
       "\n",
       "                                                      X23365     X6657  ...  \\\n",
       "sample_id                                                               ...   \n",
       "BRD-A07106394:QIVBCDIJIAJPQS-UHFFFAOYSA-N:20 µM...  0.062474 -0.595485  ...   \n",
       "BRD-A17655518:HEFNNWSXXWATRW-UHFFFAOYSA-N:10 µM...  0.194066 -0.002117  ...   \n",
       "BRD-A17846016:GLEVLJDDWXEYCO-UHFFFAOYSA-N:10 µM...  1.114904  0.391805  ...   \n",
       "BRD-A19037878:RTKIYFITIVXBLE-WKWSCTOISA-N:1.11 ...  1.405747  1.342340  ...   \n",
       "BRD-A35258977:FBPFZTCFMRRESA-UHFFFAOYSA-N:20 µM... -0.121650 -0.446459  ...   \n",
       "\n",
       "                                                       X9738     X6793  \\\n",
       "sample_id                                                                \n",
       "BRD-A07106394:QIVBCDIJIAJPQS-UHFFFAOYSA-N:20 µM...  0.214504 -1.008332   \n",
       "BRD-A17655518:HEFNNWSXXWATRW-UHFFFAOYSA-N:10 µM...  0.722045  0.302664   \n",
       "BRD-A17846016:GLEVLJDDWXEYCO-UHFFFAOYSA-N:10 µM... -0.814418  0.090174   \n",
       "BRD-A19037878:RTKIYFITIVXBLE-WKWSCTOISA-N:1.11 ...  1.620770  1.148686   \n",
       "BRD-A35258977:FBPFZTCFMRRESA-UHFFFAOYSA-N:20 µM...  0.196816  0.605350   \n",
       "\n",
       "                                                       X7358    X58472  \\\n",
       "sample_id                                                                \n",
       "BRD-A07106394:QIVBCDIJIAJPQS-UHFFFAOYSA-N:20 µM... -0.932064  0.196377   \n",
       "BRD-A17655518:HEFNNWSXXWATRW-UHFFFAOYSA-N:10 µM... -0.190207 -0.063637   \n",
       "BRD-A17846016:GLEVLJDDWXEYCO-UHFFFAOYSA-N:10 µM... -1.075967  0.063934   \n",
       "BRD-A19037878:RTKIYFITIVXBLE-WKWSCTOISA-N:1.11 ... -4.769783 -0.598601   \n",
       "BRD-A35258977:FBPFZTCFMRRESA-UHFFFAOYSA-N:20 µM... -0.261210  0.428848   \n",
       "\n",
       "                                                      X50865    X23200  \\\n",
       "sample_id                                                                \n",
       "BRD-A07106394:QIVBCDIJIAJPQS-UHFFFAOYSA-N:20 µM...  0.388575 -0.675791   \n",
       "BRD-A17655518:HEFNNWSXXWATRW-UHFFFAOYSA-N:10 µM... -0.233029 -0.346681   \n",
       "BRD-A17846016:GLEVLJDDWXEYCO-UHFFFAOYSA-N:10 µM... -0.699627  0.559719   \n",
       "BRD-A19037878:RTKIYFITIVXBLE-WKWSCTOISA-N:1.11 ...  2.829943  2.217611   \n",
       "BRD-A35258977:FBPFZTCFMRRESA-UHFFFAOYSA-N:20 µM...  0.486934  0.002326   \n",
       "\n",
       "                                                      X51293    X10962  \\\n",
       "sample_id                                                                \n",
       "BRD-A07106394:QIVBCDIJIAJPQS-UHFFFAOYSA-N:20 µM...  0.237582  0.077460   \n",
       "BRD-A17655518:HEFNNWSXXWATRW-UHFFFAOYSA-N:10 µM...  0.019575  0.062390   \n",
       "BRD-A17846016:GLEVLJDDWXEYCO-UHFFFAOYSA-N:10 µM...  0.558929 -0.233413   \n",
       "BRD-A19037878:RTKIYFITIVXBLE-WKWSCTOISA-N:1.11 ... -0.849854 -1.417561   \n",
       "BRD-A35258977:FBPFZTCFMRRESA-UHFFFAOYSA-N:20 µM...  0.151491  0.228473   \n",
       "\n",
       "                                                      X10153      X874  \n",
       "sample_id                                                               \n",
       "BRD-A07106394:QIVBCDIJIAJPQS-UHFFFAOYSA-N:20 µM...  0.445300  0.430141  \n",
       "BRD-A17655518:HEFNNWSXXWATRW-UHFFFAOYSA-N:10 µM...  0.088810  0.232947  \n",
       "BRD-A17846016:GLEVLJDDWXEYCO-UHFFFAOYSA-N:10 µM...  0.507622  0.170530  \n",
       "BRD-A19037878:RTKIYFITIVXBLE-WKWSCTOISA-N:1.11 ...  2.965447 -3.550254  \n",
       "BRD-A35258977:FBPFZTCFMRRESA-UHFFFAOYSA-N:20 µM... -0.580365  0.917084  \n",
       "\n",
       "[5 rows x 978 columns]"
      ]
     },
     "execution_count": 2,
     "metadata": {},
     "output_type": "execute_result"
    }
   ],
   "source": [
    "trainingdata = pd.read_csv(\"trainingtable.csv\", header=0, index_col=0)\n",
    "trainingdata.head()"
   ]
  },
  {
   "cell_type": "code",
   "execution_count": 3,
   "metadata": {},
   "outputs": [],
   "source": [
    "X = trainingdata\n",
    "y = np.append(np.repeat(1, 96), np.repeat(0, 96))"
   ]
  },
  {
   "cell_type": "markdown",
   "metadata": {},
   "source": [
    "# Quick and dirty solution\n",
    "(short and sweet)"
   ]
  },
  {
   "cell_type": "code",
   "execution_count": 18,
   "metadata": {},
   "outputs": [],
   "source": [
    "X_train, X_test, y_train, y_test = model_selection.train_test_split(X, y, test_size=0.3, random_state=1, stratify=y)"
   ]
  },
  {
   "cell_type": "code",
   "execution_count": 42,
   "metadata": {},
   "outputs": [],
   "source": [
    "model = LogisticRegression(random_state = 0).fit(X_train, y_train)"
   ]
  },
  {
   "cell_type": "code",
   "execution_count": 51,
   "metadata": {},
   "outputs": [],
   "source": [
    "predictions = model.predict(X_test)\n",
    "predictions_probas = model.predict_proba(X_test)\n",
    "probas = []\n",
    "for i in range(len(predictions_probas)):\n",
    "    probas.append(predictions_probas[i][1])"
   ]
  },
  {
   "cell_type": "code",
   "execution_count": null,
   "metadata": {},
   "outputs": [],
   "source": [
    "print(\"Accuracy:\", metrics.accuracy_score(y_test, predictions))\n",
    "print(\"Precision:\", metrics.precision_score(y_test, predictions))\n",
    "print(\"Recall:\", metrics.recall_score(y_test, predictions))\n",
    "metrics.plot_roc_curve(model, X_test, y_test)\n",
    "metrics.plot_precision_recall_curve(model, X_test, y_test)"
   ]
  },
  {
   "cell_type": "markdown",
   "metadata": {},
   "source": [
    "## Grid optimization"
   ]
  },
  {
   "cell_type": "code",
   "execution_count": 19,
   "metadata": {},
   "outputs": [],
   "source": [
    "X_train, X_test, y_train, y_test = model_selection.train_test_split(X, y, test_size=0.3, random_state=1, stratify=y)"
   ]
  },
  {
   "cell_type": "code",
   "execution_count": 12,
   "metadata": {},
   "outputs": [
    {
     "data": {
      "text/plain": [
       "dict_keys(['alpha', 'average', 'class_weight', 'early_stopping', 'epsilon', 'eta0', 'fit_intercept', 'l1_ratio', 'learning_rate', 'loss', 'max_iter', 'n_iter_no_change', 'n_jobs', 'penalty', 'power_t', 'random_state', 'shuffle', 'tol', 'validation_fraction', 'verbose', 'warm_start'])"
      ]
     },
     "execution_count": 12,
     "metadata": {},
     "output_type": "execute_result"
    }
   ],
   "source": [
    "classifier = SGDClassifier(random_state = 0, penalty=\"elasticnet\")\n",
    "classifier.get_params().keys()"
   ]
  },
  {
   "cell_type": "code",
   "execution_count": 21,
   "metadata": {},
   "outputs": [],
   "source": [
    "paramgrid = {\n",
    "    \"loss\" : [\"log\", \"hinge\", \"squared_hinge\"],\n",
    "    \"alpha\" : np.linspace(0.0001, 0.001, 5),\n",
    "    \"l1_ratio\" : np.logspace(-4, 0, 5)\n",
    "}"
   ]
  },
  {
   "cell_type": "code",
   "execution_count": 22,
   "metadata": {},
   "outputs": [],
   "source": [
    "cv_strategy = model_selection.StratifiedKFold(n_splits = 10, shuffle = True, random_state = 1)\n",
    "scorer = metrics.make_scorer(metrics.roc_auc_score)"
   ]
  },
  {
   "cell_type": "code",
   "execution_count": 23,
   "metadata": {},
   "outputs": [],
   "source": [
    "grid_cv = model_selection.GridSearchCV(classifier, paramgrid, scoring = scorer, cv = cv_strategy)"
   ]
  },
  {
   "cell_type": "code",
   "execution_count": 24,
   "metadata": {},
   "outputs": [
    {
     "name": "stderr",
     "output_type": "stream",
     "text": [
      "C:\\Users\\LabSysBio\\Anaconda3\\lib\\site-packages\\sklearn\\model_selection\\_search.py:813: DeprecationWarning: The default of the `iid` parameter will change from True to False in version 0.22 and will be removed in 0.24. This will change numeric results when test-set sizes are unequal.\n",
      "  DeprecationWarning)\n"
     ]
    },
    {
     "data": {
      "text/plain": [
       "GridSearchCV(cv=StratifiedKFold(n_splits=10, random_state=1, shuffle=True),\n",
       "             error_score='raise-deprecating',\n",
       "             estimator=SGDClassifier(alpha=0.0001, average=False,\n",
       "                                     class_weight=None, early_stopping=False,\n",
       "                                     epsilon=0.1, eta0=0.0, fit_intercept=True,\n",
       "                                     l1_ratio=0.15, learning_rate='optimal',\n",
       "                                     loss='hinge', max_iter=1000,\n",
       "                                     n_iter_no_change=5, n_jobs=None,\n",
       "                                     penalty='elasticnet...\n",
       "                                     random_state=0, shuffle=True, tol=0.001,\n",
       "                                     validation_fraction=0.1, verbose=0,\n",
       "                                     warm_start=False),\n",
       "             iid='warn', n_jobs=None,\n",
       "             param_grid={'alpha': array([0.0001  , 0.000325, 0.00055 , 0.000775, 0.001   ]),\n",
       "                         'l1_ratio': array([1.e-04, 1.e-03, 1.e-02, 1.e-01, 1.e+00]),\n",
       "                         'loss': ['log', 'hinge', 'squared_hinge']},\n",
       "             pre_dispatch='2*n_jobs', refit=True, return_train_score=False,\n",
       "             scoring=make_scorer(roc_auc_score), verbose=0)"
      ]
     },
     "execution_count": 24,
     "metadata": {},
     "output_type": "execute_result"
    }
   ],
   "source": [
    "grid_cv.fit(X_train, y_train)"
   ]
  },
  {
   "cell_type": "code",
   "execution_count": 25,
   "metadata": {},
   "outputs": [
    {
     "data": {
      "text/plain": [
       "SGDClassifier(alpha=0.0001, average=False, class_weight=None,\n",
       "              early_stopping=False, epsilon=0.1, eta0=0.0, fit_intercept=True,\n",
       "              l1_ratio=1.0, learning_rate='optimal', loss='hinge',\n",
       "              max_iter=1000, n_iter_no_change=5, n_jobs=None,\n",
       "              penalty='elasticnet', power_t=0.5, random_state=0, shuffle=True,\n",
       "              tol=0.001, validation_fraction=0.1, verbose=0, warm_start=False)"
      ]
     },
     "execution_count": 25,
     "metadata": {},
     "output_type": "execute_result"
    }
   ],
   "source": [
    "grid_cv.best_estimator_"
   ]
  },
  {
   "cell_type": "code",
   "execution_count": 27,
   "metadata": {},
   "outputs": [
    {
     "name": "stdout",
     "output_type": "stream",
     "text": [
      "0.6194029850746269\n",
      "{'alpha': 0.0001, 'l1_ratio': 1.0, 'loss': 'hinge'}\n"
     ]
    }
   ],
   "source": [
    "print(grid_cv.best_score_)\n",
    "print(grid_cv.best_params_)"
   ]
  },
  {
   "cell_type": "code",
   "execution_count": null,
   "metadata": {},
   "outputs": [],
   "source": [
    "pd.DataFrame(grid_cv.cv_results_)"
   ]
  },
  {
   "cell_type": "markdown",
   "metadata": {},
   "source": [
    "## Legacy code"
   ]
  },
  {
   "cell_type": "code",
   "execution_count": 5,
   "metadata": {},
   "outputs": [],
   "source": [
    "classifier = LogisticRegression(random_state = 1)\n",
    "cv_strategy = model_selection.StratifiedKFold(n_splits = 10, shuffle = True, random_state = 1)\n",
    "scorer = metrics.make_scorer(metrics.roc_auc_score)"
   ]
  },
  {
   "cell_type": "code",
   "execution_count": 12,
   "metadata": {},
   "outputs": [],
   "source": [
    "scoring = model_selection.cross_val_score(classifier, X, y, scoring = scorer, cv = cv_strategy)"
   ]
  },
  {
   "cell_type": "code",
   "execution_count": 13,
   "metadata": {},
   "outputs": [
    {
     "name": "stdout",
     "output_type": "stream",
     "text": [
      "Log mean:0.6261111111111111, max:0.7944444444444444, min:0.4611111111111111, std:0.08770214744615246\n"
     ]
    }
   ],
   "source": [
    "print('Log mean:{}, max:{}, min:{}, std:{}'.format(scoring.mean(), scoring.max(), \n",
    "                                                   scoring.min(), scoring.std()))"
   ]
  },
  {
   "cell_type": "code",
   "execution_count": null,
   "metadata": {},
   "outputs": [],
   "source": []
  },
  {
   "cell_type": "code",
   "execution_count": 52,
   "metadata": {},
   "outputs": [],
   "source": [
    "trainingdata[\"class\"] = np.append(np.repeat(1, 96), np.repeat(0, 96))"
   ]
  },
  {
   "cell_type": "code",
   "execution_count": 31,
   "metadata": {},
   "outputs": [
    {
     "data": {
      "text/html": [
       "<div>\n",
       "<style scoped>\n",
       "    .dataframe tbody tr th:only-of-type {\n",
       "        vertical-align: middle;\n",
       "    }\n",
       "\n",
       "    .dataframe tbody tr th {\n",
       "        vertical-align: top;\n",
       "    }\n",
       "\n",
       "    .dataframe thead th {\n",
       "        text-align: right;\n",
       "    }\n",
       "</style>\n",
       "<table border=\"1\" class=\"dataframe\">\n",
       "  <thead>\n",
       "    <tr style=\"text-align: right;\">\n",
       "      <th></th>\n",
       "      <th>X5720</th>\n",
       "      <th>X466</th>\n",
       "      <th>X6009</th>\n",
       "      <th>X2309</th>\n",
       "      <th>X387</th>\n",
       "      <th>X3553</th>\n",
       "      <th>X427</th>\n",
       "      <th>X5898</th>\n",
       "      <th>X23365</th>\n",
       "      <th>X6657</th>\n",
       "      <th>...</th>\n",
       "      <th>X9738</th>\n",
       "      <th>X6793</th>\n",
       "      <th>X7358</th>\n",
       "      <th>X58472</th>\n",
       "      <th>X50865</th>\n",
       "      <th>X23200</th>\n",
       "      <th>X51293</th>\n",
       "      <th>X10962</th>\n",
       "      <th>X10153</th>\n",
       "      <th>X874</th>\n",
       "    </tr>\n",
       "  </thead>\n",
       "  <tbody>\n",
       "    <tr>\n",
       "      <th>0</th>\n",
       "      <td>0.572005</td>\n",
       "      <td>-0.215412</td>\n",
       "      <td>0.173019</td>\n",
       "      <td>0.489742</td>\n",
       "      <td>0.420306</td>\n",
       "      <td>-0.339560</td>\n",
       "      <td>-0.052438</td>\n",
       "      <td>-0.278286</td>\n",
       "      <td>0.062474</td>\n",
       "      <td>-0.595485</td>\n",
       "      <td>...</td>\n",
       "      <td>0.214504</td>\n",
       "      <td>-1.008332</td>\n",
       "      <td>-0.932064</td>\n",
       "      <td>0.196377</td>\n",
       "      <td>0.388575</td>\n",
       "      <td>-0.675791</td>\n",
       "      <td>0.237582</td>\n",
       "      <td>0.077460</td>\n",
       "      <td>0.445300</td>\n",
       "      <td>0.430141</td>\n",
       "    </tr>\n",
       "    <tr>\n",
       "      <th>1</th>\n",
       "      <td>0.156599</td>\n",
       "      <td>-0.205048</td>\n",
       "      <td>0.022631</td>\n",
       "      <td>0.266661</td>\n",
       "      <td>-0.024832</td>\n",
       "      <td>0.242809</td>\n",
       "      <td>-0.038130</td>\n",
       "      <td>-0.007111</td>\n",
       "      <td>0.194066</td>\n",
       "      <td>-0.002117</td>\n",
       "      <td>...</td>\n",
       "      <td>0.722045</td>\n",
       "      <td>0.302664</td>\n",
       "      <td>-0.190207</td>\n",
       "      <td>-0.063637</td>\n",
       "      <td>-0.233029</td>\n",
       "      <td>-0.346681</td>\n",
       "      <td>0.019575</td>\n",
       "      <td>0.062390</td>\n",
       "      <td>0.088810</td>\n",
       "      <td>0.232947</td>\n",
       "    </tr>\n",
       "    <tr>\n",
       "      <th>2</th>\n",
       "      <td>0.144802</td>\n",
       "      <td>-1.361585</td>\n",
       "      <td>0.274811</td>\n",
       "      <td>0.320524</td>\n",
       "      <td>0.294310</td>\n",
       "      <td>0.437889</td>\n",
       "      <td>-0.410621</td>\n",
       "      <td>-1.944621</td>\n",
       "      <td>1.114904</td>\n",
       "      <td>0.391805</td>\n",
       "      <td>...</td>\n",
       "      <td>-0.814418</td>\n",
       "      <td>0.090174</td>\n",
       "      <td>-1.075967</td>\n",
       "      <td>0.063934</td>\n",
       "      <td>-0.699627</td>\n",
       "      <td>0.559719</td>\n",
       "      <td>0.558929</td>\n",
       "      <td>-0.233413</td>\n",
       "      <td>0.507622</td>\n",
       "      <td>0.170530</td>\n",
       "    </tr>\n",
       "    <tr>\n",
       "      <th>3</th>\n",
       "      <td>0.571052</td>\n",
       "      <td>-2.094509</td>\n",
       "      <td>-1.362594</td>\n",
       "      <td>1.188793</td>\n",
       "      <td>0.796376</td>\n",
       "      <td>0.523494</td>\n",
       "      <td>0.119419</td>\n",
       "      <td>1.646214</td>\n",
       "      <td>1.405747</td>\n",
       "      <td>1.342340</td>\n",
       "      <td>...</td>\n",
       "      <td>1.620770</td>\n",
       "      <td>1.148686</td>\n",
       "      <td>-4.769783</td>\n",
       "      <td>-0.598601</td>\n",
       "      <td>2.829943</td>\n",
       "      <td>2.217611</td>\n",
       "      <td>-0.849854</td>\n",
       "      <td>-1.417561</td>\n",
       "      <td>2.965447</td>\n",
       "      <td>-3.550254</td>\n",
       "    </tr>\n",
       "    <tr>\n",
       "      <th>4</th>\n",
       "      <td>0.519844</td>\n",
       "      <td>0.279864</td>\n",
       "      <td>-0.065269</td>\n",
       "      <td>-0.025814</td>\n",
       "      <td>0.543482</td>\n",
       "      <td>0.184110</td>\n",
       "      <td>0.275908</td>\n",
       "      <td>0.320203</td>\n",
       "      <td>-0.121650</td>\n",
       "      <td>-0.446459</td>\n",
       "      <td>...</td>\n",
       "      <td>0.196816</td>\n",
       "      <td>0.605350</td>\n",
       "      <td>-0.261210</td>\n",
       "      <td>0.428848</td>\n",
       "      <td>0.486934</td>\n",
       "      <td>0.002326</td>\n",
       "      <td>0.151491</td>\n",
       "      <td>0.228473</td>\n",
       "      <td>-0.580365</td>\n",
       "      <td>0.917084</td>\n",
       "    </tr>\n",
       "  </tbody>\n",
       "</table>\n",
       "<p>5 rows × 978 columns</p>\n",
       "</div>"
      ],
      "text/plain": [
       "      X5720      X466     X6009     X2309      X387     X3553      X427  \\\n",
       "0  0.572005 -0.215412  0.173019  0.489742  0.420306 -0.339560 -0.052438   \n",
       "1  0.156599 -0.205048  0.022631  0.266661 -0.024832  0.242809 -0.038130   \n",
       "2  0.144802 -1.361585  0.274811  0.320524  0.294310  0.437889 -0.410621   \n",
       "3  0.571052 -2.094509 -1.362594  1.188793  0.796376  0.523494  0.119419   \n",
       "4  0.519844  0.279864 -0.065269 -0.025814  0.543482  0.184110  0.275908   \n",
       "\n",
       "      X5898    X23365     X6657  ...     X9738     X6793     X7358    X58472  \\\n",
       "0 -0.278286  0.062474 -0.595485  ...  0.214504 -1.008332 -0.932064  0.196377   \n",
       "1 -0.007111  0.194066 -0.002117  ...  0.722045  0.302664 -0.190207 -0.063637   \n",
       "2 -1.944621  1.114904  0.391805  ... -0.814418  0.090174 -1.075967  0.063934   \n",
       "3  1.646214  1.405747  1.342340  ...  1.620770  1.148686 -4.769783 -0.598601   \n",
       "4  0.320203 -0.121650 -0.446459  ...  0.196816  0.605350 -0.261210  0.428848   \n",
       "\n",
       "     X50865    X23200    X51293    X10962    X10153      X874  \n",
       "0  0.388575 -0.675791  0.237582  0.077460  0.445300  0.430141  \n",
       "1 -0.233029 -0.346681  0.019575  0.062390  0.088810  0.232947  \n",
       "2 -0.699627  0.559719  0.558929 -0.233413  0.507622  0.170530  \n",
       "3  2.829943  2.217611 -0.849854 -1.417561  2.965447 -3.550254  \n",
       "4  0.486934  0.002326  0.151491  0.228473 -0.580365  0.917084  \n",
       "\n",
       "[5 rows x 978 columns]"
      ]
     },
     "execution_count": 31,
     "metadata": {},
     "output_type": "execute_result"
    }
   ],
   "source": [
    "trainingdata.iloc[:, 1:979].head()"
   ]
  },
  {
   "cell_type": "code",
   "execution_count": 82,
   "metadata": {},
   "outputs": [
    {
     "ename": "PerfectSeparationError",
     "evalue": "Perfect separation detected, results not available",
     "output_type": "error",
     "traceback": [
      "\u001b[1;31m---------------------------------------------------------------------------\u001b[0m",
      "\u001b[1;31mPerfectSeparationError\u001b[0m                    Traceback (most recent call last)",
      "\u001b[1;32m<ipython-input-82-0295a5d55389>\u001b[0m in \u001b[0;36m<module>\u001b[1;34m\u001b[0m\n\u001b[0;32m      8\u001b[0m \u001b[0my\u001b[0m \u001b[1;33m=\u001b[0m \u001b[0mtrainingdata\u001b[0m\u001b[1;33m[\u001b[0m\u001b[1;34m\"class\"\u001b[0m\u001b[1;33m]\u001b[0m\u001b[1;33m\u001b[0m\u001b[1;33m\u001b[0m\u001b[0m\n\u001b[0;32m      9\u001b[0m \u001b[0mlogit_model\u001b[0m\u001b[1;33m=\u001b[0m\u001b[0msm\u001b[0m\u001b[1;33m.\u001b[0m\u001b[0mLogit\u001b[0m\u001b[1;33m(\u001b[0m\u001b[0my\u001b[0m\u001b[1;33m,\u001b[0m\u001b[0mX\u001b[0m\u001b[1;33m)\u001b[0m\u001b[1;33m\u001b[0m\u001b[1;33m\u001b[0m\u001b[0m\n\u001b[1;32m---> 10\u001b[1;33m \u001b[0mresult\u001b[0m\u001b[1;33m=\u001b[0m\u001b[0mlogit_model\u001b[0m\u001b[1;33m.\u001b[0m\u001b[0mfit\u001b[0m\u001b[1;33m(\u001b[0m\u001b[1;33m)\u001b[0m\u001b[1;33m\u001b[0m\u001b[1;33m\u001b[0m\u001b[0m\n\u001b[0m\u001b[0;32m     11\u001b[0m \u001b[1;33m\u001b[0m\u001b[0m\n\u001b[0;32m     12\u001b[0m \u001b[1;33m\u001b[0m\u001b[0m\n",
      "\u001b[1;32mD:\\Programs\\Science\\Anaconda\\Anaconda\\lib\\site-packages\\statsmodels\\discrete\\discrete_model.py\u001b[0m in \u001b[0;36mfit\u001b[1;34m(self, start_params, method, maxiter, full_output, disp, callback, **kwargs)\u001b[0m\n\u001b[0;32m   1967\u001b[0m                               \u001b[0mdisp\u001b[0m\u001b[1;33m=\u001b[0m\u001b[0mdisp\u001b[0m\u001b[1;33m,\u001b[0m\u001b[1;33m\u001b[0m\u001b[1;33m\u001b[0m\u001b[0m\n\u001b[0;32m   1968\u001b[0m                               \u001b[0mcallback\u001b[0m\u001b[1;33m=\u001b[0m\u001b[0mcallback\u001b[0m\u001b[1;33m,\u001b[0m\u001b[1;33m\u001b[0m\u001b[1;33m\u001b[0m\u001b[0m\n\u001b[1;32m-> 1969\u001b[1;33m                               **kwargs)\n\u001b[0m\u001b[0;32m   1970\u001b[0m \u001b[1;33m\u001b[0m\u001b[0m\n\u001b[0;32m   1971\u001b[0m         \u001b[0mdiscretefit\u001b[0m \u001b[1;33m=\u001b[0m \u001b[0mLogitResults\u001b[0m\u001b[1;33m(\u001b[0m\u001b[0mself\u001b[0m\u001b[1;33m,\u001b[0m \u001b[0mbnryfit\u001b[0m\u001b[1;33m)\u001b[0m\u001b[1;33m\u001b[0m\u001b[1;33m\u001b[0m\u001b[0m\n",
      "\u001b[1;32mD:\\Programs\\Science\\Anaconda\\Anaconda\\lib\\site-packages\\statsmodels\\discrete\\discrete_model.py\u001b[0m in \u001b[0;36mfit\u001b[1;34m(self, start_params, method, maxiter, full_output, disp, callback, **kwargs)\u001b[0m\n\u001b[0;32m    231\u001b[0m                              \u001b[0mdisp\u001b[0m\u001b[1;33m=\u001b[0m\u001b[0mdisp\u001b[0m\u001b[1;33m,\u001b[0m\u001b[1;33m\u001b[0m\u001b[1;33m\u001b[0m\u001b[0m\n\u001b[0;32m    232\u001b[0m                              \u001b[0mcallback\u001b[0m\u001b[1;33m=\u001b[0m\u001b[0mcallback\u001b[0m\u001b[1;33m,\u001b[0m\u001b[1;33m\u001b[0m\u001b[1;33m\u001b[0m\u001b[0m\n\u001b[1;32m--> 233\u001b[1;33m                              **kwargs)\n\u001b[0m\u001b[0;32m    234\u001b[0m \u001b[1;33m\u001b[0m\u001b[0m\n\u001b[0;32m    235\u001b[0m         \u001b[1;32mreturn\u001b[0m \u001b[0mmlefit\u001b[0m  \u001b[1;31m# It is up to subclasses to wrap results\u001b[0m\u001b[1;33m\u001b[0m\u001b[1;33m\u001b[0m\u001b[0m\n",
      "\u001b[1;32mD:\\Programs\\Science\\Anaconda\\Anaconda\\lib\\site-packages\\statsmodels\\base\\model.py\u001b[0m in \u001b[0;36mfit\u001b[1;34m(self, start_params, method, maxiter, full_output, disp, fargs, callback, retall, skip_hessian, **kwargs)\u001b[0m\n\u001b[0;32m    525\u001b[0m                                                        \u001b[0mcallback\u001b[0m\u001b[1;33m=\u001b[0m\u001b[0mcallback\u001b[0m\u001b[1;33m,\u001b[0m\u001b[1;33m\u001b[0m\u001b[1;33m\u001b[0m\u001b[0m\n\u001b[0;32m    526\u001b[0m                                                        \u001b[0mretall\u001b[0m\u001b[1;33m=\u001b[0m\u001b[0mretall\u001b[0m\u001b[1;33m,\u001b[0m\u001b[1;33m\u001b[0m\u001b[1;33m\u001b[0m\u001b[0m\n\u001b[1;32m--> 527\u001b[1;33m                                                        full_output=full_output)\n\u001b[0m\u001b[0;32m    528\u001b[0m \u001b[1;33m\u001b[0m\u001b[0m\n\u001b[0;32m    529\u001b[0m         \u001b[1;31m# NOTE: this is for fit_regularized and should be generalized\u001b[0m\u001b[1;33m\u001b[0m\u001b[1;33m\u001b[0m\u001b[1;33m\u001b[0m\u001b[0m\n",
      "\u001b[1;32mD:\\Programs\\Science\\Anaconda\\Anaconda\\lib\\site-packages\\statsmodels\\base\\optimizer.py\u001b[0m in \u001b[0;36m_fit\u001b[1;34m(self, objective, gradient, start_params, fargs, kwargs, hessian, method, maxiter, full_output, disp, callback, retall)\u001b[0m\n\u001b[0;32m    216\u001b[0m                             \u001b[0mdisp\u001b[0m\u001b[1;33m=\u001b[0m\u001b[0mdisp\u001b[0m\u001b[1;33m,\u001b[0m \u001b[0mmaxiter\u001b[0m\u001b[1;33m=\u001b[0m\u001b[0mmaxiter\u001b[0m\u001b[1;33m,\u001b[0m \u001b[0mcallback\u001b[0m\u001b[1;33m=\u001b[0m\u001b[0mcallback\u001b[0m\u001b[1;33m,\u001b[0m\u001b[1;33m\u001b[0m\u001b[1;33m\u001b[0m\u001b[0m\n\u001b[0;32m    217\u001b[0m                             \u001b[0mretall\u001b[0m\u001b[1;33m=\u001b[0m\u001b[0mretall\u001b[0m\u001b[1;33m,\u001b[0m \u001b[0mfull_output\u001b[0m\u001b[1;33m=\u001b[0m\u001b[0mfull_output\u001b[0m\u001b[1;33m,\u001b[0m\u001b[1;33m\u001b[0m\u001b[1;33m\u001b[0m\u001b[0m\n\u001b[1;32m--> 218\u001b[1;33m                             hess=hessian)\n\u001b[0m\u001b[0;32m    219\u001b[0m \u001b[1;33m\u001b[0m\u001b[0m\n\u001b[0;32m    220\u001b[0m         optim_settings = {'optimizer': method, 'start_params': start_params,\n",
      "\u001b[1;32mD:\\Programs\\Science\\Anaconda\\Anaconda\\lib\\site-packages\\statsmodels\\base\\optimizer.py\u001b[0m in \u001b[0;36m_fit_newton\u001b[1;34m(f, score, start_params, fargs, kwargs, disp, maxiter, callback, retall, full_output, hess, ridge_factor)\u001b[0m\n\u001b[0;32m    325\u001b[0m             \u001b[0mhistory\u001b[0m\u001b[1;33m.\u001b[0m\u001b[0mappend\u001b[0m\u001b[1;33m(\u001b[0m\u001b[0mnewparams\u001b[0m\u001b[1;33m)\u001b[0m\u001b[1;33m\u001b[0m\u001b[1;33m\u001b[0m\u001b[0m\n\u001b[0;32m    326\u001b[0m         \u001b[1;32mif\u001b[0m \u001b[0mcallback\u001b[0m \u001b[1;32mis\u001b[0m \u001b[1;32mnot\u001b[0m \u001b[1;32mNone\u001b[0m\u001b[1;33m:\u001b[0m\u001b[1;33m\u001b[0m\u001b[1;33m\u001b[0m\u001b[0m\n\u001b[1;32m--> 327\u001b[1;33m             \u001b[0mcallback\u001b[0m\u001b[1;33m(\u001b[0m\u001b[0mnewparams\u001b[0m\u001b[1;33m)\u001b[0m\u001b[1;33m\u001b[0m\u001b[1;33m\u001b[0m\u001b[0m\n\u001b[0m\u001b[0;32m    328\u001b[0m         \u001b[0miterations\u001b[0m \u001b[1;33m+=\u001b[0m \u001b[1;36m1\u001b[0m\u001b[1;33m\u001b[0m\u001b[1;33m\u001b[0m\u001b[0m\n\u001b[0;32m    329\u001b[0m     \u001b[0mfval\u001b[0m \u001b[1;33m=\u001b[0m \u001b[0mf\u001b[0m\u001b[1;33m(\u001b[0m\u001b[0mnewparams\u001b[0m\u001b[1;33m,\u001b[0m \u001b[1;33m*\u001b[0m\u001b[0mfargs\u001b[0m\u001b[1;33m)\u001b[0m  \u001b[1;31m# this is the negative likelihood\u001b[0m\u001b[1;33m\u001b[0m\u001b[1;33m\u001b[0m\u001b[0m\n",
      "\u001b[1;32mD:\\Programs\\Science\\Anaconda\\Anaconda\\lib\\site-packages\\statsmodels\\discrete\\discrete_model.py\u001b[0m in \u001b[0;36m_check_perfect_pred\u001b[1;34m(self, params, *args)\u001b[0m\n\u001b[0;32m    209\u001b[0m                 np.allclose(fittedvalues - endog, 0)):\n\u001b[0;32m    210\u001b[0m             \u001b[0mmsg\u001b[0m \u001b[1;33m=\u001b[0m \u001b[1;34m\"Perfect separation detected, results not available\"\u001b[0m\u001b[1;33m\u001b[0m\u001b[1;33m\u001b[0m\u001b[0m\n\u001b[1;32m--> 211\u001b[1;33m             \u001b[1;32mraise\u001b[0m \u001b[0mPerfectSeparationError\u001b[0m\u001b[1;33m(\u001b[0m\u001b[0mmsg\u001b[0m\u001b[1;33m)\u001b[0m\u001b[1;33m\u001b[0m\u001b[1;33m\u001b[0m\u001b[0m\n\u001b[0m\u001b[0;32m    212\u001b[0m \u001b[1;33m\u001b[0m\u001b[0m\n\u001b[0;32m    213\u001b[0m     \u001b[1;33m@\u001b[0m\u001b[0mAppender\u001b[0m\u001b[1;33m(\u001b[0m\u001b[0mbase\u001b[0m\u001b[1;33m.\u001b[0m\u001b[0mLikelihoodModel\u001b[0m\u001b[1;33m.\u001b[0m\u001b[0mfit\u001b[0m\u001b[1;33m.\u001b[0m\u001b[0m__doc__\u001b[0m\u001b[1;33m)\u001b[0m\u001b[1;33m\u001b[0m\u001b[1;33m\u001b[0m\u001b[0m\n",
      "\u001b[1;31mPerfectSeparationError\u001b[0m: Perfect separation detected, results not available"
     ]
    }
   ],
   "source": [
    "import statsmodels.api as sm\n",
    "\n",
    "#np.where(trainingdata.std(axis = 1) < 0.25)\n",
    "\n",
    "#trainingdata = trainingdata.iloc[:, trainingdata.columns.difference(np.where(trainingdata.std(axis = 1) < 0.25)[0])]\n",
    "\n",
    "X = trainingdata.iloc[:, 2:960]\n",
    "y = trainingdata[\"class\"]\n",
    "logit_model=sm.Logit(y,X)\n",
    "result=logit_model.fit()\n",
    "\n",
    "\n",
    "\n",
    "print(result.summary2())"
   ]
  },
  {
   "cell_type": "code",
   "execution_count": 57,
   "metadata": {},
   "outputs": [],
   "source": [
    "#pd.set_option(\"display.max_rows\", 10, \"display.max_columns\", 10)\n",
    "positivedata = trainingdata[trainingdata[\"class\"] == 1]\n",
    "negativedata = trainingdata[trainingdata[\"class\"] == 0]"
   ]
  },
  {
   "cell_type": "code",
   "execution_count": 69,
   "metadata": {},
   "outputs": [],
   "source": [
    "positive = positivedata.drop(columns = ['class', 'sample_id']).transpose()\n",
    "negative = negativedata.drop(columns = ['class', 'sample_id']).transpose()"
   ]
  },
  {
   "cell_type": "code",
   "execution_count": 70,
   "metadata": {},
   "outputs": [],
   "source": [
    "positive[\"max\"] = positive.max(axis = 1)\n",
    "positive[\"min\"] = positive.min(axis = 1)\n",
    "negative[\"max\"] = negative.max(axis = 1)\n",
    "negative[\"min\"] = negative.min(axis = 1)\n"
   ]
  },
  {
   "cell_type": "code",
   "execution_count": 73,
   "metadata": {},
   "outputs": [
    {
     "ename": "TypeError",
     "evalue": "unsupported operand type(s) for |: 'float' and 'float'",
     "output_type": "error",
     "traceback": [
      "\u001b[1;31m---------------------------------------------------------------------------\u001b[0m",
      "\u001b[1;31mTypeError\u001b[0m                                 Traceback (most recent call last)",
      "\u001b[1;32mD:\\Programs\\Science\\Anaconda\\Anaconda\\lib\\site-packages\\pandas\\core\\ops\\array_ops.py\u001b[0m in \u001b[0;36mna_logical_op\u001b[1;34m(x, y, op)\u001b[0m\n\u001b[0;32m    265\u001b[0m         \u001b[1;31m#  (xint or xbool) and (yint or bool)\u001b[0m\u001b[1;33m\u001b[0m\u001b[1;33m\u001b[0m\u001b[1;33m\u001b[0m\u001b[0m\n\u001b[1;32m--> 266\u001b[1;33m         \u001b[0mresult\u001b[0m \u001b[1;33m=\u001b[0m \u001b[0mop\u001b[0m\u001b[1;33m(\u001b[0m\u001b[0mx\u001b[0m\u001b[1;33m,\u001b[0m \u001b[0my\u001b[0m\u001b[1;33m)\u001b[0m\u001b[1;33m\u001b[0m\u001b[1;33m\u001b[0m\u001b[0m\n\u001b[0m\u001b[0;32m    267\u001b[0m     \u001b[1;32mexcept\u001b[0m \u001b[0mTypeError\u001b[0m\u001b[1;33m:\u001b[0m\u001b[1;33m\u001b[0m\u001b[1;33m\u001b[0m\u001b[0m\n",
      "\u001b[1;31mTypeError\u001b[0m: ufunc 'bitwise_or' not supported for the input types, and the inputs could not be safely coerced to any supported types according to the casting rule ''safe''",
      "\nDuring handling of the above exception, another exception occurred:\n",
      "\u001b[1;31mTypeError\u001b[0m                                 Traceback (most recent call last)",
      "\u001b[1;32m<ipython-input-73-93b04913aea2>\u001b[0m in \u001b[0;36m<module>\u001b[1;34m\u001b[0m\n\u001b[1;32m----> 1\u001b[1;33m \u001b[0mbadgenes\u001b[0m \u001b[1;33m=\u001b[0m \u001b[0mtrainingdata\u001b[0m\u001b[1;33m.\u001b[0m\u001b[0mcolumns\u001b[0m\u001b[1;33m[\u001b[0m\u001b[1;36m1\u001b[0m\u001b[1;33m:\u001b[0m\u001b[1;36m979\u001b[0m\u001b[1;33m]\u001b[0m\u001b[1;33m[\u001b[0m\u001b[0mpositive\u001b[0m\u001b[1;33m[\u001b[0m\u001b[1;34m\"min\"\u001b[0m\u001b[1;33m]\u001b[0m \u001b[1;33m>\u001b[0m \u001b[0mnegative\u001b[0m\u001b[1;33m[\u001b[0m\u001b[1;34m\"max\"\u001b[0m\u001b[1;33m]\u001b[0m \u001b[1;33m|\u001b[0m \u001b[0mpositive\u001b[0m\u001b[1;33m[\u001b[0m\u001b[1;34m\"max\"\u001b[0m\u001b[1;33m]\u001b[0m \u001b[1;33m<\u001b[0m \u001b[0mnegative\u001b[0m\u001b[1;33m[\u001b[0m\u001b[1;34m\"min\"\u001b[0m\u001b[1;33m]\u001b[0m\u001b[1;33m]\u001b[0m\u001b[1;33m\u001b[0m\u001b[1;33m\u001b[0m\u001b[0m\n\u001b[0m\u001b[0;32m      2\u001b[0m \u001b[0mbadgenes\u001b[0m\u001b[1;33m\u001b[0m\u001b[1;33m\u001b[0m\u001b[0m\n",
      "\u001b[1;32mD:\\Programs\\Science\\Anaconda\\Anaconda\\lib\\site-packages\\pandas\\core\\ops\\common.py\u001b[0m in \u001b[0;36mnew_method\u001b[1;34m(self, other)\u001b[0m\n\u001b[0;32m     63\u001b[0m         \u001b[0mother\u001b[0m \u001b[1;33m=\u001b[0m \u001b[0mitem_from_zerodim\u001b[0m\u001b[1;33m(\u001b[0m\u001b[0mother\u001b[0m\u001b[1;33m)\u001b[0m\u001b[1;33m\u001b[0m\u001b[1;33m\u001b[0m\u001b[0m\n\u001b[0;32m     64\u001b[0m \u001b[1;33m\u001b[0m\u001b[0m\n\u001b[1;32m---> 65\u001b[1;33m         \u001b[1;32mreturn\u001b[0m \u001b[0mmethod\u001b[0m\u001b[1;33m(\u001b[0m\u001b[0mself\u001b[0m\u001b[1;33m,\u001b[0m \u001b[0mother\u001b[0m\u001b[1;33m)\u001b[0m\u001b[1;33m\u001b[0m\u001b[1;33m\u001b[0m\u001b[0m\n\u001b[0m\u001b[0;32m     66\u001b[0m \u001b[1;33m\u001b[0m\u001b[0m\n\u001b[0;32m     67\u001b[0m     \u001b[1;32mreturn\u001b[0m \u001b[0mnew_method\u001b[0m\u001b[1;33m\u001b[0m\u001b[1;33m\u001b[0m\u001b[0m\n",
      "\u001b[1;32mD:\\Programs\\Science\\Anaconda\\Anaconda\\lib\\site-packages\\pandas\\core\\ops\\__init__.py\u001b[0m in \u001b[0;36mwrapper\u001b[1;34m(self, other)\u001b[0m\n\u001b[0;32m    392\u001b[0m         \u001b[0mrvalues\u001b[0m \u001b[1;33m=\u001b[0m \u001b[0mextract_array\u001b[0m\u001b[1;33m(\u001b[0m\u001b[0mother\u001b[0m\u001b[1;33m,\u001b[0m \u001b[0mextract_numpy\u001b[0m\u001b[1;33m=\u001b[0m\u001b[1;32mTrue\u001b[0m\u001b[1;33m)\u001b[0m\u001b[1;33m\u001b[0m\u001b[1;33m\u001b[0m\u001b[0m\n\u001b[0;32m    393\u001b[0m \u001b[1;33m\u001b[0m\u001b[0m\n\u001b[1;32m--> 394\u001b[1;33m         \u001b[0mres_values\u001b[0m \u001b[1;33m=\u001b[0m \u001b[0mlogical_op\u001b[0m\u001b[1;33m(\u001b[0m\u001b[0mlvalues\u001b[0m\u001b[1;33m,\u001b[0m \u001b[0mrvalues\u001b[0m\u001b[1;33m,\u001b[0m \u001b[0mop\u001b[0m\u001b[1;33m)\u001b[0m\u001b[1;33m\u001b[0m\u001b[1;33m\u001b[0m\u001b[0m\n\u001b[0m\u001b[0;32m    395\u001b[0m         \u001b[1;32mreturn\u001b[0m \u001b[0mself\u001b[0m\u001b[1;33m.\u001b[0m\u001b[0m_construct_result\u001b[0m\u001b[1;33m(\u001b[0m\u001b[0mres_values\u001b[0m\u001b[1;33m,\u001b[0m \u001b[0mname\u001b[0m\u001b[1;33m=\u001b[0m\u001b[0mres_name\u001b[0m\u001b[1;33m)\u001b[0m\u001b[1;33m\u001b[0m\u001b[1;33m\u001b[0m\u001b[0m\n\u001b[0;32m    396\u001b[0m \u001b[1;33m\u001b[0m\u001b[0m\n",
      "\u001b[1;32mD:\\Programs\\Science\\Anaconda\\Anaconda\\lib\\site-packages\\pandas\\core\\ops\\array_ops.py\u001b[0m in \u001b[0;36mlogical_op\u001b[1;34m(left, right, op)\u001b[0m\n\u001b[0;32m    354\u001b[0m         \u001b[0mfiller\u001b[0m \u001b[1;33m=\u001b[0m \u001b[0mfill_int\u001b[0m \u001b[1;32mif\u001b[0m \u001b[0mis_self_int_dtype\u001b[0m \u001b[1;32mand\u001b[0m \u001b[0mis_other_int_dtype\u001b[0m \u001b[1;32melse\u001b[0m \u001b[0mfill_bool\u001b[0m\u001b[1;33m\u001b[0m\u001b[1;33m\u001b[0m\u001b[0m\n\u001b[0;32m    355\u001b[0m \u001b[1;33m\u001b[0m\u001b[0m\n\u001b[1;32m--> 356\u001b[1;33m         \u001b[0mres_values\u001b[0m \u001b[1;33m=\u001b[0m \u001b[0mna_logical_op\u001b[0m\u001b[1;33m(\u001b[0m\u001b[0mlvalues\u001b[0m\u001b[1;33m,\u001b[0m \u001b[0mrvalues\u001b[0m\u001b[1;33m,\u001b[0m \u001b[0mop\u001b[0m\u001b[1;33m)\u001b[0m\u001b[1;33m\u001b[0m\u001b[1;33m\u001b[0m\u001b[0m\n\u001b[0m\u001b[0;32m    357\u001b[0m         \u001b[0mres_values\u001b[0m \u001b[1;33m=\u001b[0m \u001b[0mfiller\u001b[0m\u001b[1;33m(\u001b[0m\u001b[0mres_values\u001b[0m\u001b[1;33m)\u001b[0m  \u001b[1;31m# type: ignore\u001b[0m\u001b[1;33m\u001b[0m\u001b[1;33m\u001b[0m\u001b[0m\n\u001b[0;32m    358\u001b[0m \u001b[1;33m\u001b[0m\u001b[0m\n",
      "\u001b[1;32mD:\\Programs\\Science\\Anaconda\\Anaconda\\lib\\site-packages\\pandas\\core\\ops\\array_ops.py\u001b[0m in \u001b[0;36mna_logical_op\u001b[1;34m(x, y, op)\u001b[0m\n\u001b[0;32m    271\u001b[0m             \u001b[0mx\u001b[0m \u001b[1;33m=\u001b[0m \u001b[0mensure_object\u001b[0m\u001b[1;33m(\u001b[0m\u001b[0mx\u001b[0m\u001b[1;33m)\u001b[0m\u001b[1;33m\u001b[0m\u001b[1;33m\u001b[0m\u001b[0m\n\u001b[0;32m    272\u001b[0m             \u001b[0my\u001b[0m \u001b[1;33m=\u001b[0m \u001b[0mensure_object\u001b[0m\u001b[1;33m(\u001b[0m\u001b[0my\u001b[0m\u001b[1;33m)\u001b[0m\u001b[1;33m\u001b[0m\u001b[1;33m\u001b[0m\u001b[0m\n\u001b[1;32m--> 273\u001b[1;33m             \u001b[0mresult\u001b[0m \u001b[1;33m=\u001b[0m \u001b[0mlibops\u001b[0m\u001b[1;33m.\u001b[0m\u001b[0mvec_binop\u001b[0m\u001b[1;33m(\u001b[0m\u001b[0mx\u001b[0m\u001b[1;33m.\u001b[0m\u001b[0mravel\u001b[0m\u001b[1;33m(\u001b[0m\u001b[1;33m)\u001b[0m\u001b[1;33m,\u001b[0m \u001b[0my\u001b[0m\u001b[1;33m.\u001b[0m\u001b[0mravel\u001b[0m\u001b[1;33m(\u001b[0m\u001b[1;33m)\u001b[0m\u001b[1;33m,\u001b[0m \u001b[0mop\u001b[0m\u001b[1;33m)\u001b[0m\u001b[1;33m\u001b[0m\u001b[1;33m\u001b[0m\u001b[0m\n\u001b[0m\u001b[0;32m    274\u001b[0m         \u001b[1;32melse\u001b[0m\u001b[1;33m:\u001b[0m\u001b[1;33m\u001b[0m\u001b[1;33m\u001b[0m\u001b[0m\n\u001b[0;32m    275\u001b[0m             \u001b[1;31m# let null fall thru\u001b[0m\u001b[1;33m\u001b[0m\u001b[1;33m\u001b[0m\u001b[1;33m\u001b[0m\u001b[0m\n",
      "\u001b[1;32mpandas\\_libs\\ops.pyx\u001b[0m in \u001b[0;36mpandas._libs.ops.vec_binop\u001b[1;34m()\u001b[0m\n",
      "\u001b[1;32mpandas\\_libs\\ops.pyx\u001b[0m in \u001b[0;36mpandas._libs.ops.vec_binop\u001b[1;34m()\u001b[0m\n",
      "\u001b[1;31mTypeError\u001b[0m: unsupported operand type(s) for |: 'float' and 'float'"
     ]
    }
   ],
   "source": [
    "badgenes = trainingdata.columns[1:979][positive[\"min\"] > negative[\"max\"] | positive[\"max\"] < negative[\"min\"]]\n",
    "badgenes"
   ]
  },
  {
   "cell_type": "code",
   "execution_count": 75,
   "metadata": {},
   "outputs": [
    {
     "data": {
      "text/plain": [
       "0"
      ]
     },
     "execution_count": 75,
     "metadata": {},
     "output_type": "execute_result"
    }
   ],
   "source": [
    "(positive[\"min\"] > negative[\"max\"]).sum()\n"
   ]
  },
  {
   "cell_type": "code",
   "execution_count": 78,
   "metadata": {},
   "outputs": [
    {
     "data": {
      "text/plain": [
       "0"
      ]
     },
     "execution_count": 78,
     "metadata": {},
     "output_type": "execute_result"
    }
   ],
   "source": [
    "(positive[\"max\"] < negative[\"min\"]).sum()"
   ]
  },
  {
   "cell_type": "code",
   "execution_count": null,
   "metadata": {},
   "outputs": [],
   "source": []
  },
  {
   "cell_type": "code",
   "execution_count": 33,
   "metadata": {},
   "outputs": [
    {
     "data": {
      "text/plain": [
       "array([  8,  49,  76,  89,  99, 150, 168, 190], dtype=int64)"
      ]
     },
     "execution_count": 33,
     "metadata": {},
     "output_type": "execute_result"
    }
   ],
   "source": [
    "np.where(trainingdata.std(axis = 1) < 0.25)[0]"
   ]
  },
  {
   "cell_type": "code",
   "execution_count": 37,
   "metadata": {},
   "outputs": [],
   "source": [
    "#pd.set_option(\"display.max_rows\", None, \"display.max_columns\", None)\n",
    "#trainingdata.loc[:, (trainingdata == 0).sum() > 50]\n",
    "#trainingdata.iloc[:, np.where(trainingdata.std(axis = 1) < 0.25)[0]]\n",
    "trainingdata = trainingdata.loc[:, trainingdata.columns.difference(np.where(trainingdata.std(axis = 1) < 0.25)[0])]\n",
    "\n",
    "#trainingdata.loc[:, (trainingdata == 0).any(axis = 0)]"
   ]
  },
  {
   "cell_type": "code",
   "execution_count": 39,
   "metadata": {},
   "outputs": [
    {
     "data": {
      "text/plain": [
       "(192, 980)"
      ]
     },
     "execution_count": 39,
     "metadata": {},
     "output_type": "execute_result"
    }
   ],
   "source": [
    "trainingdata.shape"
   ]
  },
  {
   "cell_type": "code",
   "execution_count": 47,
   "metadata": {},
   "outputs": [
    {
     "data": {
      "text/plain": [
       "Index(['X10007', 'X1001', 'X10013', 'X10038', 'X10046', 'X10049', 'X10051',\n",
       "       'X10057', 'X10059', 'X10099',\n",
       "       ...\n",
       "       'X9926', 'X9928', 'X993', 'X994', 'X9943', 'X9961', 'X998', 'X9988',\n",
       "       'class', 'sample_id'],\n",
       "      dtype='object', length=972)"
      ]
     },
     "execution_count": 47,
     "metadata": {},
     "output_type": "execute_result"
    }
   ],
   "source": [
    "trainingdata.columns.difference(trainingdata.columns[np.where(trainingdata.std(axis = 1) < 0.25)[0]])"
   ]
  },
  {
   "cell_type": "code",
   "execution_count": 43,
   "metadata": {},
   "outputs": [
    {
     "data": {
      "text/plain": [
       "Index(['X10058', 'X10493', 'X10776', 'X10953', 'X11014', 'X1605', 'X1845',\n",
       "       'X2064'],\n",
       "      dtype='object')"
      ]
     },
     "execution_count": 43,
     "metadata": {},
     "output_type": "execute_result"
    }
   ],
   "source": [
    "trainingdata.columns[np.where(trainingdata.std(axis = 1) < 0.25)[0]]"
   ]
  },
  {
   "cell_type": "code",
   "execution_count": 48,
   "metadata": {},
   "outputs": [
    {
     "data": {
      "text/plain": [
       "(192, 972)"
      ]
     },
     "execution_count": 48,
     "metadata": {},
     "output_type": "execute_result"
    }
   ],
   "source": [
    "#trainingdata.drop(columns = trainingdata.columns[np.where(trainingdata.std(axis = 1) < 0.25)[0]])\n",
    "trainingdata = trainingdata.loc[:, trainingdata.columns.difference(trainingdata.columns[np.where(trainingdata.std(axis = 1) < 0.25)[0]])]\n",
    "trainingdata.shape"
   ]
  },
  {
   "cell_type": "code",
   "execution_count": 81,
   "metadata": {},
   "outputs": [
    {
     "data": {
      "text/plain": [
       "0      1\n",
       "1      1\n",
       "2      1\n",
       "3      1\n",
       "4      1\n",
       "      ..\n",
       "187    0\n",
       "188    0\n",
       "189    0\n",
       "190    0\n",
       "191    0\n",
       "Name: class, Length: 192, dtype: int32"
      ]
     },
     "execution_count": 81,
     "metadata": {},
     "output_type": "execute_result"
    }
   ],
   "source": [
    "trainingdata.iloc[:,979]"
   ]
  },
  {
   "cell_type": "code",
   "execution_count": null,
   "metadata": {},
   "outputs": [],
   "source": []
  }
 ],
 "metadata": {
  "kernelspec": {
   "display_name": "Python 3",
   "language": "python",
   "name": "python3"
  },
  "language_info": {
   "codemirror_mode": {
    "name": "ipython",
    "version": 3
   },
   "file_extension": ".py",
   "mimetype": "text/x-python",
   "name": "python",
   "nbconvert_exporter": "python",
   "pygments_lexer": "ipython3",
   "version": "3.7.3"
  }
 },
 "nbformat": 4,
 "nbformat_minor": 4
}
